{
 "cells": [
  {
   "attachments": {},
   "cell_type": "markdown",
   "metadata": {},
   "source": [
    "## Delivery Duration Prediction\n",
    "\n",
    "When a consumer places an order on DoorDash, we show the expected time of delivery. It is very important for DoorDash to get this right, as it has a big impact on consumer experience. In this exercise, you will build a model to predict the estimated time taken for a delivery.\n",
    "\n",
    "Concretely, for a given delivery you must predict the total delivery duration seconds , i.e., the time taken from\n",
    "\n",
    "__Start:__ the time consumer submits the order `(created_at)` to\n",
    "<br>\n",
    "__End:__ when the order will be delivered to the consumer `(actual_delivery_time)`\n",
    "\n",
    "#### My Approach\n",
    "\n",
    "The dataset comes with two other predicted values: `estimated_order_place_duration` and `estimated_store_to_consumer_driving_duration`. The missing piece is the amount of time the order spends in the store. In addition to generic feature engineering, I will be creating separate order 'prep_time' statistics tables/dataframes to simulate gold fact tables in a database or features from a feature store (i.e. Feather, Feast) that would in turn live in a data lake.\n",
    "\n",
    "This is a fairly popular exercise so it is possible to derive performance objectives. My goal is to produce a feature set and model that has a test RMSE of less than 1200 seconds and a test MAE of less than 600 seconds, with a stretch goal of 600 seconds for the test RMSE. For reference, the best models publically available produce a test RMSE around 980 - 1000 seconds.\n",
    "\n",
    "Since an error of 20 minutes is impractical, I will split up the model based on the quantiles of an important and/or strongly correlated feature to see if I can build a model, or models, for the majority of the markets that will pass cross-validation and return a more reasonable test RMSE. "
   ]
  },
  {
   "cell_type": "code",
   "execution_count": 27,
   "metadata": {},
   "outputs": [],
   "source": [
    "import pandas as pd\n",
    "import numpy as np\n",
    "import matplotlib.pyplot as plt\n",
    "import seaborn as sns\n",
    "from datetime import datetime as dt\n",
    "from datetime import timedelta\n",
    "\n",
    "from statsmodels.stats.outliers_influence import variance_inflation_factor\n",
    "from statsmodels.tools import add_constant\n",
    "from sklearn.model_selection import train_test_split\n",
    "from sklearn.decomposition import PCA\n",
    "from sklearn.preprocessing import StandardScaler,MinMaxScaler\n",
    "from sklearn.metrics import mean_squared_error\n",
    "from sklearn.metrics import mean_absolute_error\n",
    "from sklearn.metrics import confusion_matrix\n",
    "from sklearn.metrics import accuracy_score\n",
    "\n",
    "from sklearn.ensemble import RandomForestRegressor\n",
    "from sklearn import tree\n",
    "from sklearn import svm\n",
    "from sklearn import neighbors\n",
    "from sklearn import linear_model\n",
    "import xgboost"
   ]
  },
  {
   "cell_type": "code",
   "execution_count": 2,
   "metadata": {},
   "outputs": [],
   "source": [
    "np.random.seed(42)"
   ]
  },
  {
   "cell_type": "code",
   "execution_count": 7,
   "metadata": {},
   "outputs": [],
   "source": [
    "## note that the number of non-null store_id values is less than the number of non-null \n",
    "# store_primary category values. We can probably fill in most of the missing values via inference\n",
    "\n",
    "## there are also stores with multiple store_primary_category values. Such stores might be 'ghost kitchens',\n",
    "# and need to be backfilled appropriately\n",
    "# TODO #1 write function to downfill NaN store_primary_category values\n",
    "\n",
    "def fillNulls_store_category(historical_data:pd.DataFrame) -> pd.DataFrame:\n",
    "    store_id_list = historical_data['store_id'].unique().tolist()\n",
    "    store_id_cat = {store_id: historical_data[historical_data.store_id == store_id].store_primary_category.mode() for store_id in store_id_list}\n",
    "    historical_data['clean_store_primary_category']\n",
    "    try:\n",
    "        for x in store_id_list:\n",
    "            historical_data['clean_store_primary_category'] = historical_data.store_id.apply(store_id_cat.values[0])\n",
    "    except Exception as ee:\n",
    "        raise ee\n",
    "    return historical_data\n"
   ]
  },
  {
   "cell_type": "code",
   "execution_count": 3,
   "metadata": {},
   "outputs": [],
   "source": [
    "## update types\n",
    "## create target variable\n",
    "def addFeatures_durations(historical_data:pd.DataFrame) -> pd.DataFrame:\n",
    "    try:\n",
    "        historical_data['created_at'] = pd.to_datetime(historical_data['created_at'])\n",
    "        historical_data['actual_delivery_time'] = pd.to_datetime(historical_data['actual_delivery_time'])\n",
    "        ## calculate delivery duration\n",
    "        historical_data['actual_total_delivery_duration'] = (historical_data['actual_delivery_time'] - historical_data['created_at']).dt.total_seconds()\n",
    "        ## estimated time spent outside the store/not on order preparation\n",
    "        historical_data['est_time_non-prep'] = historical_data['estimated_order_place_duration'] + historical_data['estimated_store_to_consumer_driving_duration']\n",
    "    except Exception as ex:\n",
    "        raise ex\n",
    "    return historical_data"
   ]
  },
  {
   "cell_type": "code",
   "execution_count": 60,
   "metadata": {},
   "outputs": [],
   "source": [
    "def createBaseline(historical_data:pd.DataFrame) -> pd.DataFrame:   #this function would be done in practice by SQL or Spark\n",
    "    historical_data = addFeatures_durations(historical_data=historical_data)\n",
    "    try:\n",
    "        baseline_data = historical_data[['store_id','actual_total_delivery_duration']]\n",
    "        baseline_data = baseline_data.dropna()\n",
    "        baseline_data = pd.merge(\n",
    "            left=baseline_data,\n",
    "            right=baseline_data.groupby('store_id').actual_total_delivery_duration.aggregate([np.mean,np.std]),\n",
    "            how='inner',\n",
    "            on='store_id'\n",
    "        )\n",
    "        baseline_data['z-score'] = (baseline_data['actual_total_delivery_duration'] - baseline_data['mean']) / baseline_data['std']\n",
    "        baseline_data = baseline_data.loc[(baseline_data['z-score'] <=3) & (baseline_data['z-score'] >= -3)]\n",
    "        baseline_avgs = baseline_data.groupby('store_id').actual_total_delivery_duration.aggregate([np.mean])\n",
    "        baseline_data = pd.merge(\n",
    "            left=historical_data[['store_id','actual_total_delivery_duration']].dropna(),\n",
    "            right=baseline_avgs,\n",
    "            on='store_id'\n",
    "        )\n",
    "        baseline_MAE = mean_absolute_error(y_true=baseline_data['actual_total_delivery_duration'],y_pred=baseline_data['mean'])\n",
    "        baseline_RMSE = mean_squared_error(y_true=baseline_data['actual_total_delivery_duration'],y_pred=baseline_data['mean'],squared=False)\n",
    "    except Exception as ex:\n",
    "        raise ex\n",
    "    return {'baseline_MAE:':baseline_MAE,'baseline_RMSE:':baseline_RMSE}"
   ]
  },
  {
   "cell_type": "code",
   "execution_count": 4,
   "metadata": {},
   "outputs": [],
   "source": [
    "## TODO #4 create estimated prep time features that are anchored to stores and/or categories -- DONE\n",
    "# the est_time_prep feature depends on the actual delivery datetime, which can't be provided to a model\n",
    "# BUT a set of values derived from historical data can be given to a model on demand\n",
    "\n",
    "def addFeatures_store_prep_stats(historical_data:pd.DataFrame) -> pd.DataFrame:   #this function would be done in practice by SQL or Spark\n",
    "## returns a separate dataframe with the min, max, median and mean and standard deviation of the est_prep_time_per_item for each store_id\n",
    "    try:\n",
    "        historical_data = addFeatures_durations(historical_data=historical_data)\n",
    "        ## calculate the amount of time (in seconds) the order spends in the store, then divide by the total number of items in the order\n",
    "        historical_data['est_time_prep_per_item'] = (historical_data['actual_total_delivery_duration'] - historical_data['est_time_non-prep']) / historical_data['total_items']\n",
    "        historical_data = historical_data[historical_data['est_time_prep_per_item'] > 0]\n",
    "        store_prep_stats_df = historical_data[['store_id','est_time_prep_per_item']].groupby('store_id').est_time_prep_per_item.aggregate([np.mean,np.std])\n",
    "        ## calculate z-score\n",
    "        store_prep_facts_df = pd.merge(\n",
    "            left=store_prep_stats_df.reset_index(),\n",
    "            right=historical_data[['store_id','est_time_prep_per_item']],\n",
    "            how='inner',\n",
    "            on='store_id'\n",
    "        )\n",
    "        store_prep_facts_df['z_score'] = (store_prep_facts_df['est_time_prep_per_item'] - store_prep_facts_df['mean']) / store_prep_facts_df['std']\n",
    "        ## drop outliers\n",
    "        store_prep_stats_df = store_prep_facts_df.loc[(store_prep_facts_df['z_score'] <=3) & (store_prep_facts_df['z_score'] >= -3)]\n",
    "        store_prep_stats_df = store_prep_stats_df.drop(columns=['mean','std'])\n",
    "        store_prep_stats_df = store_prep_stats_df.groupby('store_id').est_time_prep_per_item.aggregate(['min','max','median',np.mean,np.std])\n",
    "        store_prep_stats_df = store_prep_stats_df.add_prefix('store_est_time_prep_per_item_')\n",
    "    except Exception as ex:\n",
    "        raise ex\n",
    "    return store_prep_stats_df\n",
    "\n",
    "def addFeatures_category_prep_stats(historical_data:pd.DataFrame) -> pd.DataFrame:   #this function would be done in practice by SQL or Spark\n",
    "## returns a separate dataframe with the min,max, median, mean and standard deviation for each category\n",
    "    try:\n",
    "        historical_data = addFeatures_durations(historical_data=historical_data)\n",
    "        ## calculate the amount of time (in seconds) the order spends in the store, then divide by the total number of items in the order\n",
    "        historical_data['est_time_prep_per_item'] = (historical_data['actual_total_delivery_duration'] - historical_data['est_time_non-prep']) / historical_data['total_items']\n",
    "        historical_data = historical_data[historical_data['est_time_prep_per_item'] > 0]\n",
    "        category_prep_stats_df = historical_data[['clean_store_primary_category','est_time_prep_per_item']].groupby('clean_store_primary_category').est_time_prep_per_item.aggregate([np.mean,np.std])\n",
    "        ## calculate z-score\n",
    "        category_prep_facts_df = pd.merge(\n",
    "            left=category_prep_stats_df.reset_index(),\n",
    "            right=historical_data[['created_at','clean_store_primary_category','est_time_prep_per_item']],\n",
    "            how='inner',\n",
    "            on='clean_store_primary_category'\n",
    "        )\n",
    "        category_prep_facts_df['z_score'] = (category_prep_facts_df['est_time_prep_per_item'] - category_prep_facts_df['mean']) / category_prep_facts_df['std']\n",
    "        ## drop outliers\n",
    "        category_prep_stats_df = category_prep_facts_df.loc[(category_prep_facts_df['z_score'] <= 3) & (category_prep_facts_df['z_score'] >= -3)]\n",
    "        category_prep_stats_df = category_prep_stats_df.drop(columns=['mean','std','created_at'])\n",
    "        category_prep_stats_df = category_prep_stats_df.groupby('clean_store_primary_category').est_time_prep_per_item.aggregate(['min','max','median',np.mean,np.std])\n",
    "        category_prep_stats_df = category_prep_stats_df.add_prefix('category_est_time_prep_per_item_')\n",
    "    except Exception as ex:\n",
    "        raise ex\n",
    "    return category_prep_stats_df"
   ]
  },
  {
   "cell_type": "code",
   "execution_count": 5,
   "metadata": {},
   "outputs": [],
   "source": [
    "## add time of day features\n",
    "\n",
    "def addFeatures_time_of_day(historical_data:pd.DataFrame) -> pd.DataFrame:\n",
    "    try:\n",
    "        historical_data['created_hour_of_day'] = historical_data['created_at'].dt.hour\n",
    "        historical_data['created_day_of_week'] = historical_data['created_at'].dt.day_of_week\n",
    "    except Exception as ex:\n",
    "        raise ex\n",
    "    return historical_data"
   ]
  },
  {
   "cell_type": "code",
   "execution_count": 6,
   "metadata": {},
   "outputs": [],
   "source": [
    "## add ratio features\n",
    "def addFeatures_ratios(historical_data:pd.DataFrame) -> pd.DataFrame:\n",
    "    try:\n",
    "        historical_data['available_dashers'] = historical_data['total_onshift_dashers'] - historical_data['total_busy_dashers']\n",
    "        historical_data['busy_to_onshift'] = historical_data['total_onshift_dashers'] / historical_data['total_busy_dashers']\n",
    "        historical_data['busy_to_onshift'].replace(to_replace=[np.inf,-np.inf],value=historical_data['total_onshift_dashers'][1],inplace=True)\n",
    "        historical_data['busy_to_outstanding'] = historical_data['total_busy_dashers'] / historical_data['total_outstanding_orders']\n",
    "        historical_data['busy_to_outstanding'].replace(to_replace=[np.inf,-np.inf,np.nan],value=0,inplace=True)\n",
    "        historical_data['onshift_to_outstanding'] = historical_data['total_onshift_dashers'] / historical_data['total_outstanding_orders']\n",
    "        historical_data['onshift_to_outstanding'].replace([np.inf,-np.inf],0,inplace=True)\n",
    "    except Exception as ex:\n",
    "        raise ex\n",
    "    return historical_data"
   ]
  },
  {
   "cell_type": "code",
   "execution_count": 7,
   "metadata": {},
   "outputs": [],
   "source": [
    "## add dummies for categories\n",
    "def addFeatures_dummies(historical_data:pd.DataFrame,dummy_column:str) -> pd.DataFrame:\n",
    "    try:\n",
    "        dumm = pd.get_dummies(historical_data[dummy_column],prefix=str(dummy_column + '_'),dtype=float)\n",
    "        # concat dummies\n",
    "        historical_data = pd.concat([historical_data,dumm],axis=1)\n",
    "        historical_data = historical_data.drop(columns=[dummy_column])\n",
    "    except Exception as ex:\n",
    "        raise ex\n",
    "    return historical_data"
   ]
  },
  {
   "cell_type": "code",
   "execution_count": 8,
   "metadata": {},
   "outputs": [
    {
     "data": {
      "text/html": [
       "<div>\n",
       "<style scoped>\n",
       "    .dataframe tbody tr th:only-of-type {\n",
       "        vertical-align: middle;\n",
       "    }\n",
       "\n",
       "    .dataframe tbody tr th {\n",
       "        vertical-align: top;\n",
       "    }\n",
       "\n",
       "    .dataframe thead th {\n",
       "        text-align: right;\n",
       "    }\n",
       "</style>\n",
       "<table border=\"1\" class=\"dataframe\">\n",
       "  <thead>\n",
       "    <tr style=\"text-align: right;\">\n",
       "      <th></th>\n",
       "      <th>total_items</th>\n",
       "      <th>subtotal</th>\n",
       "      <th>num_distinct_items</th>\n",
       "      <th>min_item_price</th>\n",
       "      <th>max_item_price</th>\n",
       "      <th>total_onshift_dashers</th>\n",
       "      <th>total_busy_dashers</th>\n",
       "      <th>total_outstanding_orders</th>\n",
       "      <th>estimated_order_place_duration</th>\n",
       "      <th>estimated_store_to_consumer_driving_duration</th>\n",
       "      <th>...</th>\n",
       "      <th>created_hour_of_day__21</th>\n",
       "      <th>created_hour_of_day__22</th>\n",
       "      <th>created_hour_of_day__23</th>\n",
       "      <th>created_day_of_week__0</th>\n",
       "      <th>created_day_of_week__1</th>\n",
       "      <th>created_day_of_week__2</th>\n",
       "      <th>created_day_of_week__3</th>\n",
       "      <th>created_day_of_week__4</th>\n",
       "      <th>created_day_of_week__5</th>\n",
       "      <th>created_day_of_week__6</th>\n",
       "    </tr>\n",
       "  </thead>\n",
       "  <tbody>\n",
       "    <tr>\n",
       "      <th>0</th>\n",
       "      <td>1.0</td>\n",
       "      <td>1900.0</td>\n",
       "      <td>1.0</td>\n",
       "      <td>1400.0</td>\n",
       "      <td>1400.0</td>\n",
       "      <td>1.0</td>\n",
       "      <td>2.0</td>\n",
       "      <td>2.0</td>\n",
       "      <td>446.0</td>\n",
       "      <td>690.0</td>\n",
       "      <td>...</td>\n",
       "      <td>1.0</td>\n",
       "      <td>0.0</td>\n",
       "      <td>0.0</td>\n",
       "      <td>0.0</td>\n",
       "      <td>1.0</td>\n",
       "      <td>0.0</td>\n",
       "      <td>0.0</td>\n",
       "      <td>0.0</td>\n",
       "      <td>0.0</td>\n",
       "      <td>0.0</td>\n",
       "    </tr>\n",
       "    <tr>\n",
       "      <th>1</th>\n",
       "      <td>1.0</td>\n",
       "      <td>1900.0</td>\n",
       "      <td>1.0</td>\n",
       "      <td>1900.0</td>\n",
       "      <td>1900.0</td>\n",
       "      <td>1.0</td>\n",
       "      <td>0.0</td>\n",
       "      <td>0.0</td>\n",
       "      <td>446.0</td>\n",
       "      <td>690.0</td>\n",
       "      <td>...</td>\n",
       "      <td>0.0</td>\n",
       "      <td>0.0</td>\n",
       "      <td>0.0</td>\n",
       "      <td>0.0</td>\n",
       "      <td>0.0</td>\n",
       "      <td>0.0</td>\n",
       "      <td>1.0</td>\n",
       "      <td>0.0</td>\n",
       "      <td>0.0</td>\n",
       "      <td>0.0</td>\n",
       "    </tr>\n",
       "    <tr>\n",
       "      <th>2</th>\n",
       "      <td>6.0</td>\n",
       "      <td>6900.0</td>\n",
       "      <td>5.0</td>\n",
       "      <td>600.0</td>\n",
       "      <td>1800.0</td>\n",
       "      <td>1.0</td>\n",
       "      <td>1.0</td>\n",
       "      <td>2.0</td>\n",
       "      <td>446.0</td>\n",
       "      <td>289.0</td>\n",
       "      <td>...</td>\n",
       "      <td>1.0</td>\n",
       "      <td>0.0</td>\n",
       "      <td>0.0</td>\n",
       "      <td>0.0</td>\n",
       "      <td>1.0</td>\n",
       "      <td>0.0</td>\n",
       "      <td>0.0</td>\n",
       "      <td>0.0</td>\n",
       "      <td>0.0</td>\n",
       "      <td>0.0</td>\n",
       "    </tr>\n",
       "    <tr>\n",
       "      <th>3</th>\n",
       "      <td>3.0</td>\n",
       "      <td>3900.0</td>\n",
       "      <td>3.0</td>\n",
       "      <td>1100.0</td>\n",
       "      <td>1600.0</td>\n",
       "      <td>6.0</td>\n",
       "      <td>6.0</td>\n",
       "      <td>9.0</td>\n",
       "      <td>446.0</td>\n",
       "      <td>650.0</td>\n",
       "      <td>...</td>\n",
       "      <td>0.0</td>\n",
       "      <td>0.0</td>\n",
       "      <td>0.0</td>\n",
       "      <td>0.0</td>\n",
       "      <td>0.0</td>\n",
       "      <td>0.0</td>\n",
       "      <td>0.0</td>\n",
       "      <td>0.0</td>\n",
       "      <td>0.0</td>\n",
       "      <td>1.0</td>\n",
       "    </tr>\n",
       "    <tr>\n",
       "      <th>4</th>\n",
       "      <td>3.0</td>\n",
       "      <td>5000.0</td>\n",
       "      <td>3.0</td>\n",
       "      <td>1500.0</td>\n",
       "      <td>1900.0</td>\n",
       "      <td>2.0</td>\n",
       "      <td>2.0</td>\n",
       "      <td>2.0</td>\n",
       "      <td>446.0</td>\n",
       "      <td>338.0</td>\n",
       "      <td>...</td>\n",
       "      <td>0.0</td>\n",
       "      <td>0.0</td>\n",
       "      <td>0.0</td>\n",
       "      <td>0.0</td>\n",
       "      <td>0.0</td>\n",
       "      <td>1.0</td>\n",
       "      <td>0.0</td>\n",
       "      <td>0.0</td>\n",
       "      <td>0.0</td>\n",
       "      <td>0.0</td>\n",
       "    </tr>\n",
       "  </tbody>\n",
       "</table>\n",
       "<p>5 rows × 139 columns</p>\n",
       "</div>"
      ],
      "text/plain": [
       "   total_items  subtotal  num_distinct_items  min_item_price  max_item_price  \\\n",
       "0          1.0    1900.0                 1.0          1400.0          1400.0   \n",
       "1          1.0    1900.0                 1.0          1900.0          1900.0   \n",
       "2          6.0    6900.0                 5.0           600.0          1800.0   \n",
       "3          3.0    3900.0                 3.0          1100.0          1600.0   \n",
       "4          3.0    5000.0                 3.0          1500.0          1900.0   \n",
       "\n",
       "   total_onshift_dashers  total_busy_dashers  total_outstanding_orders  \\\n",
       "0                    1.0                 2.0                       2.0   \n",
       "1                    1.0                 0.0                       0.0   \n",
       "2                    1.0                 1.0                       2.0   \n",
       "3                    6.0                 6.0                       9.0   \n",
       "4                    2.0                 2.0                       2.0   \n",
       "\n",
       "   estimated_order_place_duration  \\\n",
       "0                           446.0   \n",
       "1                           446.0   \n",
       "2                           446.0   \n",
       "3                           446.0   \n",
       "4                           446.0   \n",
       "\n",
       "   estimated_store_to_consumer_driving_duration  ...  created_hour_of_day__21  \\\n",
       "0                                         690.0  ...                      1.0   \n",
       "1                                         690.0  ...                      0.0   \n",
       "2                                         289.0  ...                      1.0   \n",
       "3                                         650.0  ...                      0.0   \n",
       "4                                         338.0  ...                      0.0   \n",
       "\n",
       "   created_hour_of_day__22  created_hour_of_day__23  created_day_of_week__0  \\\n",
       "0                      0.0                      0.0                     0.0   \n",
       "1                      0.0                      0.0                     0.0   \n",
       "2                      0.0                      0.0                     0.0   \n",
       "3                      0.0                      0.0                     0.0   \n",
       "4                      0.0                      0.0                     0.0   \n",
       "\n",
       "   created_day_of_week__1  created_day_of_week__2  created_day_of_week__3  \\\n",
       "0                     1.0                     0.0                     0.0   \n",
       "1                     0.0                     0.0                     1.0   \n",
       "2                     1.0                     0.0                     0.0   \n",
       "3                     0.0                     0.0                     0.0   \n",
       "4                     0.0                     1.0                     0.0   \n",
       "\n",
       "   created_day_of_week__4  created_day_of_week__5  created_day_of_week__6  \n",
       "0                     0.0                     0.0                     0.0  \n",
       "1                     0.0                     0.0                     0.0  \n",
       "2                     0.0                     0.0                     0.0  \n",
       "3                     0.0                     0.0                     1.0  \n",
       "4                     0.0                     0.0                     0.0  \n",
       "\n",
       "[5 rows x 139 columns]"
      ]
     },
     "execution_count": 8,
     "metadata": {},
     "output_type": "execute_result"
    }
   ],
   "source": [
    "historical_data = pd.read_csv('historical_data.csv')\n",
    "\n",
    "\n",
    "store_id_unique = historical_data[\"store_id\"].unique().tolist()\n",
    "store_id_and_category = {store_id: historical_data[historical_data.store_id == store_id].store_primary_category.mode() \n",
    "                         for store_id in store_id_unique}\n",
    "def fill(store_id):\n",
    "    try:\n",
    "        return store_id_and_category[store_id].values[0]\n",
    "    except:\n",
    "        return np.nan\n",
    "# fill null values\n",
    "historical_data[\"clean_store_primary_category\"] = historical_data.store_id.apply(fill)\n",
    "\n",
    "## build store, category prep time statistics DataFrames\n",
    "store_prep_stats_df = addFeatures_store_prep_stats(historical_data=historical_data)\n",
    "category_prep_stats_df = addFeatures_category_prep_stats(historical_data=historical_data)\n",
    "## build the training dataset using the functions above\n",
    "train_df = addFeatures_durations(historical_data=historical_data)\n",
    "train_df = addFeatures_ratios(historical_data=train_df)\n",
    "train_df = addFeatures_time_of_day(historical_data=train_df)\n",
    "## merge store, category prep stats DataFrames with train_df\n",
    "train_df = pd.merge(\n",
    "    left=train_df,\n",
    "    right=store_prep_stats_df.reset_index(),\n",
    "    how='inner',\n",
    "    on='store_id'\n",
    ")\n",
    "train_df = pd.merge(\n",
    "    left=train_df,\n",
    "    right=category_prep_stats_df.reset_index(),\n",
    "    how='inner',\n",
    "    on='clean_store_primary_category'\n",
    ")\n",
    "## add total prep time estimations\n",
    "train_df['store_est_median_total_prep_time'] = train_df['total_items'] * train_df['store_est_time_prep_per_item_median']\n",
    "train_df['store_est_mean_total_prep_time'] = train_df['total_items'] * train_df['store_est_time_prep_per_item_mean']\n",
    "## add dummy columns for clean_store_primary_category, market_id, order_protocol\n",
    "train_df = addFeatures_dummies(historical_data=train_df,dummy_column='clean_store_primary_category')\n",
    "train_df = addFeatures_dummies(historical_data=train_df,dummy_column='market_id')\n",
    "train_df = addFeatures_dummies(historical_data=train_df,dummy_column='order_protocol')\n",
    "train_df = addFeatures_dummies(historical_data=train_df,dummy_column='created_hour_of_day')\n",
    "train_df = addFeatures_dummies(historical_data=train_df,dummy_column='created_day_of_week')\n",
    "# drop the native 'store_primary_category' column and all remaining non-feature columns, then do a headcheck\n",
    "train_df.drop(columns=['store_primary_category','created_at','actual_delivery_time','store_id','est_time_prep_per_item'],inplace=True)\n",
    "## drop NaN's\n",
    "train_df.dropna(inplace=True)\n",
    "train_df = train_df.astype(\"float32\")\n",
    "\n",
    "train_df.head()"
   ]
  },
  {
   "cell_type": "code",
   "execution_count": 9,
   "metadata": {},
   "outputs": [],
   "source": [
    "## identify feature pairs with high correlation\n",
    "# this is something I borrowed from another notebook and I am not convinced about the methodology\n",
    "# the idea is that you hand-remove features that have a low frequency and a high coefficient\n",
    "\n",
    "def labelMaker_feature_pairs(train_df:pd.DataFrame) -> set:\n",
    "    try:\n",
    "        labeled_pairs = set()\n",
    "        clmn = train_df.columns\n",
    "        for i in range(0,train_df.shape[1]):\n",
    "            for j in range(0,i+1):\n",
    "                labeled_pairs.add((clmn[i],clmn[j]))\n",
    "    except Exception as ex:\n",
    "        raise ex\n",
    "    return labeled_pairs\n",
    "\n",
    "def calcAbsCorr_top_feature_pairs(train_df:pd.DataFrame,n:int) -> list:\n",
    "    try:\n",
    "        abs_corr = train_df.corr(method='pearson').abs().unstack()\n",
    "        drop_labels = labelMaker_feature_pairs(train_df)\n",
    "        abs_corr = abs_corr.drop(labels=drop_labels).sort_values(ascending=False)\n",
    "    except Exception as ex:\n",
    "        raise ex\n",
    "    return abs_corr[0:n]"
   ]
  },
  {
   "cell_type": "code",
   "execution_count": 11,
   "metadata": {},
   "outputs": [],
   "source": [
    "## check for multicollinearity\n",
    "\n",
    "def calcVIF(feature_frame:pd.DataFrame,target_feature:str):\n",
    "    try:\n",
    "        feature_frame = add_constant(feature_frame)\n",
    "        feature_list = feature_frame.drop(columns=[target_feature]).columns.to_list()\n",
    "        vif_frame = pd.DataFrame()\n",
    "        vif_frame['feature'] = feature_list\n",
    "        vif_frame['VIF'] = [variance_inflation_factor(feature_frame[feature_list].values,i) for i in range(len(feature_list))]\n",
    "    except Exception as ex:\n",
    "        raise ex\n",
    "    return vif_frame.sort_values(by=['VIF'],ascending=False).reset_index(drop=True)\n",
    "\n",
    "def VIF_dim_reduction(feature_frame:pd.DataFrame,target_feature:str,vif_limit:int):\n",
    "    vif_table = calcVIF(feature_frame=feature_frame,target_feature=target_feature)\n",
    "    try:\n",
    "        ## drop nan columns from feature set, nan VIF values from base VIF table\n",
    "        vif_table['VIF'].replace(to_replace=[np.inf,-np.inf],value=np.nan,inplace=True)\n",
    "        nan_list = vif_table[vif_table['VIF'].isnull()]['feature'].to_list()\n",
    "        feature_frame = feature_frame.drop(columns=nan_list)\n",
    "        vif_table = vif_table.set_index(vif_table.feature)\n",
    "        vif_table = vif_table.drop(labels=nan_list).reset_index(drop=True)\n",
    "        ## start\n",
    "        multicollinearity = True if vif_table['VIF'].values.tolist()[1] > vif_limit else False\n",
    "        while multicollinearity:\n",
    "            lead_vif_feature = vif_table['feature'].values.tolist()[1]\n",
    "            feature_frame = feature_frame.drop(columns=lead_vif_feature)\n",
    "            vif_table = calcVIF(feature_frame=feature_frame,target_feature=target_feature)\n",
    "            multicollinearity = True if vif_table['VIF'].values.tolist()[1] > vif_limit else False\n",
    "    except Exception as ex:\n",
    "        raise ex\n",
    "    return feature_frame,vif_table"
   ]
  },
  {
   "cell_type": "code",
   "execution_count": 12,
   "metadata": {},
   "outputs": [],
   "source": [
    "## feature selection/dimensionality reduction with PCA\n",
    "##TODO #2 make a class for PCA\n",
    "##TODO #3 retain row numbers in scaler --DONE\n",
    "\n",
    "def build_train_test(dataset:pd.DataFrame,target_feature:str,test_size:int):\n",
    "    try:\n",
    "        X = dataset.drop(columns=target_feature)\n",
    "        y = dataset[target_feature]\n",
    "        x_train,x_test,y_train,y_test = train_test_split(X,y,test_size=test_size,random_state=42)\n",
    "        x_train,x_test = pd.DataFrame(x_train),pd.DataFrame(x_test)\n",
    "    except Exception as ex:\n",
    "        raise ex\n",
    "    return x_train,x_test,y_train,y_test\n",
    "\n",
    "def apply_standard_scaler(dataset):\n",
    "#applies the standard scaler to a single dataset\n",
    "    scaler = StandardScaler()\n",
    "    try:\n",
    "        if type(dataset) == pd.DataFrame:\n",
    "            scaler = scaler.fit(dataset.values)\n",
    "            dataset_scaled = scaler.transform(dataset.values)\n",
    "            dataset_scaled = pd.DataFrame(dataset_scaled,index=dataset.index,columns=dataset.columns)\n",
    "        else:\n",
    "            scaler = scaler.fit(dataset)\n",
    "            dataset_scaled = scaler.transform(dataset)\n",
    "            test_stdScale = scaler.transform(dataset)\n",
    "    except Exception as ex:\n",
    "        raise ex\n",
    "    return dataset_scaled,scaler\n",
    "\n",
    "def transform_rmse_to_seconds(scaler,y_test,y_hat_scaled):\n",
    "    try:\n",
    "        y_hat_descaled = scaler.inverse_transform(y_hat_scaled.reshape(-1,1))\n",
    "        rmse_descaled = mean_squared_error(y_pred=y_test,y_true=y_hat_descaled[:,0],squared=False)\n",
    "    except Exception as ex:\n",
    "        raise ex\n",
    "    return y_hat_descaled,rmse_descaled"
   ]
  },
  {
   "cell_type": "code",
   "execution_count": 13,
   "metadata": {},
   "outputs": [],
   "source": [
    "def PCAcalc_expl_var(x_train,target_expl_variance:int):\n",
    "## returns the number of components required to explain the target_expl_variance\n",
    "# and a feature to component ratio to support automation of further dimensionality reduction\n",
    "    pca = PCA()\n",
    "    x_train_scaled = apply_standard_scaler(x_train)[0]\n",
    "    try:\n",
    "        pca = pca.fit(x_train_scaled)\n",
    "        components = np.cumsum(pca.explained_variance_ratio_)\n",
    "        components = [i for i in components if i <= target_expl_variance]\n",
    "        feature_to_component_ratio = len(components)/x_train.shape[1]\n",
    "    except Exception as ex:\n",
    "        raise ex\n",
    "    return components,feature_to_component_ratio\n",
    "\n",
    "def PCAcalc_dim_reduction(x_train,x_test,desired_components:int):\n",
    "## you know, dimensionality reduction\n",
    "    pca = PCA(n_components=desired_components)\n",
    "    x_train_scaled,x_test_scaled = apply_standard_scaler(x_train)[0],apply_standard_scaler(x_test)[0]\n",
    "    try:\n",
    "        pca = pca.fit(x_train_scaled)\n",
    "        x_train_pca,x_test_pca = pca.transform(x_train_scaled),pca.transform(x_test_scaled)\n",
    "    except Exception as ex:\n",
    "        raise ex\n",
    "    return x_train_pca,x_test_pca"
   ]
  },
  {
   "attachments": {},
   "cell_type": "markdown",
   "metadata": {},
   "source": [
    "### Feature Importance & Feature Selection"
   ]
  },
  {
   "cell_type": "code",
   "execution_count": 14,
   "metadata": {},
   "outputs": [],
   "source": [
    "def calcRF_feature_importance(x_train,y_train) -> pd.DataFrame:\n",
    "    feature_names = x_train.columns.to_list()\n",
    "    feature_importance = {}\n",
    "    model_forest = RandomForestRegressor(random_state=42)\n",
    "    try:\n",
    "        model_forest.fit(x_train,y_train)\n",
    "        for feature,importance in zip(x_train.columns,model_forest.feature_importances_):\n",
    "            feature_importance[feature] = importance\n",
    "        importances = pd.DataFrame.from_dict(feature_importance,orient='index').rename(columns={0:'gini-importance'})\n",
    "    except Exception as ex:\n",
    "        raise ex\n",
    "    return importances"
   ]
  },
  {
   "cell_type": "code",
   "execution_count": 15,
   "metadata": {},
   "outputs": [
    {
     "name": "stderr",
     "output_type": "stream",
     "text": [
      "c:\\Users\\lukew\\anaconda3\\lib\\site-packages\\statsmodels\\regression\\linear_model.py:1736: RuntimeWarning: divide by zero encountered in double_scalars\n",
      "  return 1 - self.ssr/self.centered_tss\n",
      "c:\\Users\\lukew\\anaconda3\\lib\\site-packages\\statsmodels\\stats\\outliers_influence.py:195: RuntimeWarning: divide by zero encountered in double_scalars\n",
      "  vif = 1. / (1. - r_squared_i)\n",
      "c:\\Users\\lukew\\anaconda3\\lib\\site-packages\\statsmodels\\stats\\outliers_influence.py:195: RuntimeWarning: divide by zero encountered in double_scalars\n",
      "  vif = 1. / (1. - r_squared_i)\n",
      "c:\\Users\\lukew\\anaconda3\\lib\\site-packages\\statsmodels\\stats\\outliers_influence.py:195: RuntimeWarning: divide by zero encountered in double_scalars\n",
      "  vif = 1. / (1. - r_squared_i)\n",
      "c:\\Users\\lukew\\anaconda3\\lib\\site-packages\\statsmodels\\stats\\outliers_influence.py:195: RuntimeWarning: divide by zero encountered in double_scalars\n",
      "  vif = 1. / (1. - r_squared_i)\n",
      "c:\\Users\\lukew\\anaconda3\\lib\\site-packages\\statsmodels\\stats\\outliers_influence.py:195: RuntimeWarning: divide by zero encountered in double_scalars\n",
      "  vif = 1. / (1. - r_squared_i)\n",
      "c:\\Users\\lukew\\anaconda3\\lib\\site-packages\\statsmodels\\stats\\outliers_influence.py:195: RuntimeWarning: divide by zero encountered in double_scalars\n",
      "  vif = 1. / (1. - r_squared_i)\n",
      "c:\\Users\\lukew\\anaconda3\\lib\\site-packages\\statsmodels\\stats\\outliers_influence.py:195: RuntimeWarning: divide by zero encountered in double_scalars\n",
      "  vif = 1. / (1. - r_squared_i)\n",
      "c:\\Users\\lukew\\anaconda3\\lib\\site-packages\\statsmodels\\stats\\outliers_influence.py:195: RuntimeWarning: divide by zero encountered in double_scalars\n",
      "  vif = 1. / (1. - r_squared_i)\n",
      "c:\\Users\\lukew\\anaconda3\\lib\\site-packages\\statsmodels\\stats\\outliers_influence.py:195: RuntimeWarning: divide by zero encountered in double_scalars\n",
      "  vif = 1. / (1. - r_squared_i)\n",
      "c:\\Users\\lukew\\anaconda3\\lib\\site-packages\\statsmodels\\stats\\outliers_influence.py:195: RuntimeWarning: divide by zero encountered in double_scalars\n",
      "  vif = 1. / (1. - r_squared_i)\n",
      "c:\\Users\\lukew\\anaconda3\\lib\\site-packages\\statsmodels\\stats\\outliers_influence.py:195: RuntimeWarning: divide by zero encountered in double_scalars\n",
      "  vif = 1. / (1. - r_squared_i)\n",
      "c:\\Users\\lukew\\anaconda3\\lib\\site-packages\\statsmodels\\stats\\outliers_influence.py:195: RuntimeWarning: divide by zero encountered in double_scalars\n",
      "  vif = 1. / (1. - r_squared_i)\n",
      "c:\\Users\\lukew\\anaconda3\\lib\\site-packages\\statsmodels\\stats\\outliers_influence.py:195: RuntimeWarning: divide by zero encountered in double_scalars\n",
      "  vif = 1. / (1. - r_squared_i)\n",
      "c:\\Users\\lukew\\anaconda3\\lib\\site-packages\\statsmodels\\stats\\outliers_influence.py:195: RuntimeWarning: divide by zero encountered in double_scalars\n",
      "  vif = 1. / (1. - r_squared_i)\n",
      "c:\\Users\\lukew\\anaconda3\\lib\\site-packages\\statsmodels\\stats\\outliers_influence.py:195: RuntimeWarning: divide by zero encountered in double_scalars\n",
      "  vif = 1. / (1. - r_squared_i)\n",
      "c:\\Users\\lukew\\anaconda3\\lib\\site-packages\\statsmodels\\stats\\outliers_influence.py:195: RuntimeWarning: divide by zero encountered in double_scalars\n",
      "  vif = 1. / (1. - r_squared_i)\n",
      "c:\\Users\\lukew\\anaconda3\\lib\\site-packages\\statsmodels\\stats\\outliers_influence.py:195: RuntimeWarning: divide by zero encountered in double_scalars\n",
      "  vif = 1. / (1. - r_squared_i)\n",
      "c:\\Users\\lukew\\anaconda3\\lib\\site-packages\\statsmodels\\stats\\outliers_influence.py:195: RuntimeWarning: divide by zero encountered in double_scalars\n",
      "  vif = 1. / (1. - r_squared_i)\n",
      "c:\\Users\\lukew\\anaconda3\\lib\\site-packages\\statsmodels\\stats\\outliers_influence.py:195: RuntimeWarning: divide by zero encountered in double_scalars\n",
      "  vif = 1. / (1. - r_squared_i)\n",
      "c:\\Users\\lukew\\anaconda3\\lib\\site-packages\\statsmodels\\stats\\outliers_influence.py:195: RuntimeWarning: divide by zero encountered in double_scalars\n",
      "  vif = 1. / (1. - r_squared_i)\n",
      "c:\\Users\\lukew\\anaconda3\\lib\\site-packages\\statsmodels\\stats\\outliers_influence.py:195: RuntimeWarning: divide by zero encountered in double_scalars\n",
      "  vif = 1. / (1. - r_squared_i)\n",
      "c:\\Users\\lukew\\anaconda3\\lib\\site-packages\\statsmodels\\stats\\outliers_influence.py:195: RuntimeWarning: divide by zero encountered in double_scalars\n",
      "  vif = 1. / (1. - r_squared_i)\n",
      "c:\\Users\\lukew\\anaconda3\\lib\\site-packages\\statsmodels\\stats\\outliers_influence.py:195: RuntimeWarning: divide by zero encountered in double_scalars\n",
      "  vif = 1. / (1. - r_squared_i)\n",
      "c:\\Users\\lukew\\anaconda3\\lib\\site-packages\\statsmodels\\stats\\outliers_influence.py:195: RuntimeWarning: divide by zero encountered in double_scalars\n",
      "  vif = 1. / (1. - r_squared_i)\n",
      "c:\\Users\\lukew\\anaconda3\\lib\\site-packages\\statsmodels\\stats\\outliers_influence.py:195: RuntimeWarning: divide by zero encountered in double_scalars\n",
      "  vif = 1. / (1. - r_squared_i)\n",
      "c:\\Users\\lukew\\anaconda3\\lib\\site-packages\\statsmodels\\stats\\outliers_influence.py:195: RuntimeWarning: divide by zero encountered in double_scalars\n",
      "  vif = 1. / (1. - r_squared_i)\n",
      "c:\\Users\\lukew\\anaconda3\\lib\\site-packages\\statsmodels\\stats\\outliers_influence.py:195: RuntimeWarning: divide by zero encountered in double_scalars\n",
      "  vif = 1. / (1. - r_squared_i)\n",
      "c:\\Users\\lukew\\anaconda3\\lib\\site-packages\\statsmodels\\stats\\outliers_influence.py:195: RuntimeWarning: divide by zero encountered in double_scalars\n",
      "  vif = 1. / (1. - r_squared_i)\n",
      "c:\\Users\\lukew\\anaconda3\\lib\\site-packages\\statsmodels\\stats\\outliers_influence.py:195: RuntimeWarning: divide by zero encountered in double_scalars\n",
      "  vif = 1. / (1. - r_squared_i)\n",
      "c:\\Users\\lukew\\anaconda3\\lib\\site-packages\\statsmodels\\stats\\outliers_influence.py:195: RuntimeWarning: divide by zero encountered in double_scalars\n",
      "  vif = 1. / (1. - r_squared_i)\n",
      "c:\\Users\\lukew\\anaconda3\\lib\\site-packages\\statsmodels\\stats\\outliers_influence.py:195: RuntimeWarning: divide by zero encountered in double_scalars\n",
      "  vif = 1. / (1. - r_squared_i)\n",
      "c:\\Users\\lukew\\anaconda3\\lib\\site-packages\\statsmodels\\stats\\outliers_influence.py:195: RuntimeWarning: divide by zero encountered in double_scalars\n",
      "  vif = 1. / (1. - r_squared_i)\n",
      "c:\\Users\\lukew\\anaconda3\\lib\\site-packages\\statsmodels\\stats\\outliers_influence.py:195: RuntimeWarning: divide by zero encountered in double_scalars\n",
      "  vif = 1. / (1. - r_squared_i)\n",
      "c:\\Users\\lukew\\anaconda3\\lib\\site-packages\\statsmodels\\stats\\outliers_influence.py:195: RuntimeWarning: divide by zero encountered in double_scalars\n",
      "  vif = 1. / (1. - r_squared_i)\n",
      "c:\\Users\\lukew\\anaconda3\\lib\\site-packages\\statsmodels\\stats\\outliers_influence.py:195: RuntimeWarning: divide by zero encountered in double_scalars\n",
      "  vif = 1. / (1. - r_squared_i)\n",
      "c:\\Users\\lukew\\anaconda3\\lib\\site-packages\\statsmodels\\stats\\outliers_influence.py:195: RuntimeWarning: divide by zero encountered in double_scalars\n",
      "  vif = 1. / (1. - r_squared_i)\n",
      "c:\\Users\\lukew\\anaconda3\\lib\\site-packages\\statsmodels\\stats\\outliers_influence.py:195: RuntimeWarning: divide by zero encountered in double_scalars\n",
      "  vif = 1. / (1. - r_squared_i)\n",
      "c:\\Users\\lukew\\anaconda3\\lib\\site-packages\\statsmodels\\stats\\outliers_influence.py:195: RuntimeWarning: divide by zero encountered in double_scalars\n",
      "  vif = 1. / (1. - r_squared_i)\n",
      "c:\\Users\\lukew\\anaconda3\\lib\\site-packages\\statsmodels\\stats\\outliers_influence.py:195: RuntimeWarning: divide by zero encountered in double_scalars\n",
      "  vif = 1. / (1. - r_squared_i)\n",
      "c:\\Users\\lukew\\anaconda3\\lib\\site-packages\\statsmodels\\stats\\outliers_influence.py:195: RuntimeWarning: divide by zero encountered in double_scalars\n",
      "  vif = 1. / (1. - r_squared_i)\n",
      "c:\\Users\\lukew\\anaconda3\\lib\\site-packages\\statsmodels\\stats\\outliers_influence.py:195: RuntimeWarning: divide by zero encountered in double_scalars\n",
      "  vif = 1. / (1. - r_squared_i)\n",
      "c:\\Users\\lukew\\anaconda3\\lib\\site-packages\\statsmodels\\stats\\outliers_influence.py:195: RuntimeWarning: divide by zero encountered in double_scalars\n",
      "  vif = 1. / (1. - r_squared_i)\n",
      "c:\\Users\\lukew\\anaconda3\\lib\\site-packages\\statsmodels\\stats\\outliers_influence.py:195: RuntimeWarning: divide by zero encountered in double_scalars\n",
      "  vif = 1. / (1. - r_squared_i)\n",
      "c:\\Users\\lukew\\anaconda3\\lib\\site-packages\\statsmodels\\stats\\outliers_influence.py:195: RuntimeWarning: divide by zero encountered in double_scalars\n",
      "  vif = 1. / (1. - r_squared_i)\n",
      "c:\\Users\\lukew\\anaconda3\\lib\\site-packages\\statsmodels\\stats\\outliers_influence.py:195: RuntimeWarning: divide by zero encountered in double_scalars\n",
      "  vif = 1. / (1. - r_squared_i)\n",
      "c:\\Users\\lukew\\anaconda3\\lib\\site-packages\\statsmodels\\stats\\outliers_influence.py:195: RuntimeWarning: divide by zero encountered in double_scalars\n",
      "  vif = 1. / (1. - r_squared_i)\n",
      "c:\\Users\\lukew\\anaconda3\\lib\\site-packages\\statsmodels\\regression\\linear_model.py:1736: RuntimeWarning: invalid value encountered in double_scalars\n",
      "  return 1 - self.ssr/self.centered_tss\n",
      "c:\\Users\\lukew\\anaconda3\\lib\\site-packages\\statsmodels\\stats\\outliers_influence.py:195: RuntimeWarning: divide by zero encountered in double_scalars\n",
      "  vif = 1. / (1. - r_squared_i)\n",
      "c:\\Users\\lukew\\anaconda3\\lib\\site-packages\\statsmodels\\stats\\outliers_influence.py:195: RuntimeWarning: divide by zero encountered in double_scalars\n",
      "  vif = 1. / (1. - r_squared_i)\n",
      "c:\\Users\\lukew\\anaconda3\\lib\\site-packages\\statsmodels\\stats\\outliers_influence.py:195: RuntimeWarning: divide by zero encountered in double_scalars\n",
      "  vif = 1. / (1. - r_squared_i)\n",
      "c:\\Users\\lukew\\anaconda3\\lib\\site-packages\\statsmodels\\stats\\outliers_influence.py:195: RuntimeWarning: divide by zero encountered in double_scalars\n",
      "  vif = 1. / (1. - r_squared_i)\n",
      "c:\\Users\\lukew\\anaconda3\\lib\\site-packages\\statsmodels\\stats\\outliers_influence.py:195: RuntimeWarning: divide by zero encountered in double_scalars\n",
      "  vif = 1. / (1. - r_squared_i)\n",
      "c:\\Users\\lukew\\anaconda3\\lib\\site-packages\\statsmodels\\stats\\outliers_influence.py:195: RuntimeWarning: divide by zero encountered in double_scalars\n",
      "  vif = 1. / (1. - r_squared_i)\n",
      "c:\\Users\\lukew\\anaconda3\\lib\\site-packages\\statsmodels\\stats\\outliers_influence.py:195: RuntimeWarning: divide by zero encountered in double_scalars\n",
      "  vif = 1. / (1. - r_squared_i)\n",
      "c:\\Users\\lukew\\anaconda3\\lib\\site-packages\\statsmodels\\stats\\outliers_influence.py:195: RuntimeWarning: divide by zero encountered in double_scalars\n",
      "  vif = 1. / (1. - r_squared_i)\n",
      "c:\\Users\\lukew\\anaconda3\\lib\\site-packages\\statsmodels\\stats\\outliers_influence.py:195: RuntimeWarning: divide by zero encountered in double_scalars\n",
      "  vif = 1. / (1. - r_squared_i)\n",
      "c:\\Users\\lukew\\anaconda3\\lib\\site-packages\\statsmodels\\stats\\outliers_influence.py:195: RuntimeWarning: divide by zero encountered in double_scalars\n",
      "  vif = 1. / (1. - r_squared_i)\n",
      "c:\\Users\\lukew\\anaconda3\\lib\\site-packages\\statsmodels\\stats\\outliers_influence.py:195: RuntimeWarning: divide by zero encountered in double_scalars\n",
      "  vif = 1. / (1. - r_squared_i)\n",
      "c:\\Users\\lukew\\anaconda3\\lib\\site-packages\\statsmodels\\stats\\outliers_influence.py:195: RuntimeWarning: divide by zero encountered in double_scalars\n",
      "  vif = 1. / (1. - r_squared_i)\n",
      "c:\\Users\\lukew\\anaconda3\\lib\\site-packages\\statsmodels\\stats\\outliers_influence.py:195: RuntimeWarning: divide by zero encountered in double_scalars\n",
      "  vif = 1. / (1. - r_squared_i)\n",
      "c:\\Users\\lukew\\anaconda3\\lib\\site-packages\\statsmodels\\stats\\outliers_influence.py:195: RuntimeWarning: divide by zero encountered in double_scalars\n",
      "  vif = 1. / (1. - r_squared_i)\n",
      "c:\\Users\\lukew\\anaconda3\\lib\\site-packages\\statsmodels\\stats\\outliers_influence.py:195: RuntimeWarning: divide by zero encountered in double_scalars\n",
      "  vif = 1. / (1. - r_squared_i)\n",
      "c:\\Users\\lukew\\anaconda3\\lib\\site-packages\\statsmodels\\stats\\outliers_influence.py:195: RuntimeWarning: divide by zero encountered in double_scalars\n",
      "  vif = 1. / (1. - r_squared_i)\n",
      "c:\\Users\\lukew\\anaconda3\\lib\\site-packages\\statsmodels\\stats\\outliers_influence.py:195: RuntimeWarning: divide by zero encountered in double_scalars\n",
      "  vif = 1. / (1. - r_squared_i)\n",
      "c:\\Users\\lukew\\anaconda3\\lib\\site-packages\\statsmodels\\stats\\outliers_influence.py:195: RuntimeWarning: divide by zero encountered in double_scalars\n",
      "  vif = 1. / (1. - r_squared_i)\n",
      "c:\\Users\\lukew\\anaconda3\\lib\\site-packages\\statsmodels\\stats\\outliers_influence.py:195: RuntimeWarning: divide by zero encountered in double_scalars\n",
      "  vif = 1. / (1. - r_squared_i)\n",
      "c:\\Users\\lukew\\anaconda3\\lib\\site-packages\\statsmodels\\stats\\outliers_influence.py:195: RuntimeWarning: divide by zero encountered in double_scalars\n",
      "  vif = 1. / (1. - r_squared_i)\n",
      "c:\\Users\\lukew\\anaconda3\\lib\\site-packages\\statsmodels\\stats\\outliers_influence.py:195: RuntimeWarning: divide by zero encountered in double_scalars\n",
      "  vif = 1. / (1. - r_squared_i)\n",
      "c:\\Users\\lukew\\anaconda3\\lib\\site-packages\\statsmodels\\stats\\outliers_influence.py:195: RuntimeWarning: divide by zero encountered in double_scalars\n",
      "  vif = 1. / (1. - r_squared_i)\n",
      "c:\\Users\\lukew\\anaconda3\\lib\\site-packages\\statsmodels\\stats\\outliers_influence.py:195: RuntimeWarning: divide by zero encountered in double_scalars\n",
      "  vif = 1. / (1. - r_squared_i)\n",
      "c:\\Users\\lukew\\anaconda3\\lib\\site-packages\\statsmodels\\stats\\outliers_influence.py:195: RuntimeWarning: divide by zero encountered in double_scalars\n",
      "  vif = 1. / (1. - r_squared_i)\n",
      "c:\\Users\\lukew\\anaconda3\\lib\\site-packages\\statsmodels\\stats\\outliers_influence.py:195: RuntimeWarning: divide by zero encountered in double_scalars\n",
      "  vif = 1. / (1. - r_squared_i)\n",
      "c:\\Users\\lukew\\anaconda3\\lib\\site-packages\\statsmodels\\stats\\outliers_influence.py:195: RuntimeWarning: divide by zero encountered in double_scalars\n",
      "  vif = 1. / (1. - r_squared_i)\n",
      "c:\\Users\\lukew\\anaconda3\\lib\\site-packages\\statsmodels\\stats\\outliers_influence.py:195: RuntimeWarning: divide by zero encountered in double_scalars\n",
      "  vif = 1. / (1. - r_squared_i)\n",
      "c:\\Users\\lukew\\anaconda3\\lib\\site-packages\\statsmodels\\stats\\outliers_influence.py:195: RuntimeWarning: divide by zero encountered in double_scalars\n",
      "  vif = 1. / (1. - r_squared_i)\n",
      "c:\\Users\\lukew\\anaconda3\\lib\\site-packages\\statsmodels\\stats\\outliers_influence.py:195: RuntimeWarning: divide by zero encountered in double_scalars\n",
      "  vif = 1. / (1. - r_squared_i)\n",
      "c:\\Users\\lukew\\anaconda3\\lib\\site-packages\\statsmodels\\stats\\outliers_influence.py:195: RuntimeWarning: divide by zero encountered in double_scalars\n",
      "  vif = 1. / (1. - r_squared_i)\n",
      "c:\\Users\\lukew\\anaconda3\\lib\\site-packages\\statsmodels\\stats\\outliers_influence.py:195: RuntimeWarning: divide by zero encountered in double_scalars\n",
      "  vif = 1. / (1. - r_squared_i)\n",
      "c:\\Users\\lukew\\anaconda3\\lib\\site-packages\\statsmodels\\stats\\outliers_influence.py:195: RuntimeWarning: divide by zero encountered in double_scalars\n",
      "  vif = 1. / (1. - r_squared_i)\n",
      "c:\\Users\\lukew\\anaconda3\\lib\\site-packages\\statsmodels\\stats\\outliers_influence.py:195: RuntimeWarning: divide by zero encountered in double_scalars\n",
      "  vif = 1. / (1. - r_squared_i)\n",
      "c:\\Users\\lukew\\anaconda3\\lib\\site-packages\\statsmodels\\stats\\outliers_influence.py:195: RuntimeWarning: divide by zero encountered in double_scalars\n",
      "  vif = 1. / (1. - r_squared_i)\n",
      "c:\\Users\\lukew\\anaconda3\\lib\\site-packages\\statsmodels\\stats\\outliers_influence.py:195: RuntimeWarning: divide by zero encountered in double_scalars\n",
      "  vif = 1. / (1. - r_squared_i)\n",
      "c:\\Users\\lukew\\anaconda3\\lib\\site-packages\\statsmodels\\stats\\outliers_influence.py:195: RuntimeWarning: divide by zero encountered in double_scalars\n",
      "  vif = 1. / (1. - r_squared_i)\n",
      "c:\\Users\\lukew\\anaconda3\\lib\\site-packages\\statsmodels\\stats\\outliers_influence.py:195: RuntimeWarning: divide by zero encountered in double_scalars\n",
      "  vif = 1. / (1. - r_squared_i)\n",
      "c:\\Users\\lukew\\anaconda3\\lib\\site-packages\\statsmodels\\stats\\outliers_influence.py:195: RuntimeWarning: divide by zero encountered in double_scalars\n",
      "  vif = 1. / (1. - r_squared_i)\n",
      "c:\\Users\\lukew\\anaconda3\\lib\\site-packages\\statsmodels\\stats\\outliers_influence.py:195: RuntimeWarning: divide by zero encountered in double_scalars\n",
      "  vif = 1. / (1. - r_squared_i)\n",
      "c:\\Users\\lukew\\anaconda3\\lib\\site-packages\\statsmodels\\stats\\outliers_influence.py:195: RuntimeWarning: divide by zero encountered in double_scalars\n",
      "  vif = 1. / (1. - r_squared_i)\n",
      "c:\\Users\\lukew\\anaconda3\\lib\\site-packages\\statsmodels\\stats\\outliers_influence.py:195: RuntimeWarning: divide by zero encountered in double_scalars\n",
      "  vif = 1. / (1. - r_squared_i)\n",
      "c:\\Users\\lukew\\anaconda3\\lib\\site-packages\\statsmodels\\stats\\outliers_influence.py:195: RuntimeWarning: divide by zero encountered in double_scalars\n",
      "  vif = 1. / (1. - r_squared_i)\n",
      "c:\\Users\\lukew\\anaconda3\\lib\\site-packages\\statsmodels\\stats\\outliers_influence.py:195: RuntimeWarning: divide by zero encountered in double_scalars\n",
      "  vif = 1. / (1. - r_squared_i)\n",
      "c:\\Users\\lukew\\anaconda3\\lib\\site-packages\\statsmodels\\stats\\outliers_influence.py:195: RuntimeWarning: divide by zero encountered in double_scalars\n",
      "  vif = 1. / (1. - r_squared_i)\n",
      "c:\\Users\\lukew\\anaconda3\\lib\\site-packages\\statsmodels\\regression\\linear_model.py:1736: RuntimeWarning: invalid value encountered in double_scalars\n",
      "  return 1 - self.ssr/self.centered_tss\n",
      "c:\\Users\\lukew\\anaconda3\\lib\\site-packages\\statsmodels\\stats\\outliers_influence.py:195: RuntimeWarning: divide by zero encountered in double_scalars\n",
      "  vif = 1. / (1. - r_squared_i)\n",
      "c:\\Users\\lukew\\anaconda3\\lib\\site-packages\\statsmodels\\stats\\outliers_influence.py:195: RuntimeWarning: divide by zero encountered in double_scalars\n",
      "  vif = 1. / (1. - r_squared_i)\n",
      "c:\\Users\\lukew\\anaconda3\\lib\\site-packages\\statsmodels\\stats\\outliers_influence.py:195: RuntimeWarning: divide by zero encountered in double_scalars\n",
      "  vif = 1. / (1. - r_squared_i)\n",
      "c:\\Users\\lukew\\anaconda3\\lib\\site-packages\\statsmodels\\stats\\outliers_influence.py:195: RuntimeWarning: divide by zero encountered in double_scalars\n",
      "  vif = 1. / (1. - r_squared_i)\n",
      "c:\\Users\\lukew\\anaconda3\\lib\\site-packages\\statsmodels\\stats\\outliers_influence.py:195: RuntimeWarning: divide by zero encountered in double_scalars\n",
      "  vif = 1. / (1. - r_squared_i)\n",
      "c:\\Users\\lukew\\anaconda3\\lib\\site-packages\\statsmodels\\stats\\outliers_influence.py:195: RuntimeWarning: divide by zero encountered in double_scalars\n",
      "  vif = 1. / (1. - r_squared_i)\n",
      "c:\\Users\\lukew\\anaconda3\\lib\\site-packages\\statsmodels\\stats\\outliers_influence.py:195: RuntimeWarning: divide by zero encountered in double_scalars\n",
      "  vif = 1. / (1. - r_squared_i)\n",
      "c:\\Users\\lukew\\anaconda3\\lib\\site-packages\\statsmodels\\stats\\outliers_influence.py:195: RuntimeWarning: divide by zero encountered in double_scalars\n",
      "  vif = 1. / (1. - r_squared_i)\n",
      "c:\\Users\\lukew\\anaconda3\\lib\\site-packages\\statsmodels\\stats\\outliers_influence.py:195: RuntimeWarning: divide by zero encountered in double_scalars\n",
      "  vif = 1. / (1. - r_squared_i)\n",
      "c:\\Users\\lukew\\anaconda3\\lib\\site-packages\\statsmodels\\stats\\outliers_influence.py:195: RuntimeWarning: divide by zero encountered in double_scalars\n",
      "  vif = 1. / (1. - r_squared_i)\n",
      "c:\\Users\\lukew\\anaconda3\\lib\\site-packages\\statsmodels\\stats\\outliers_influence.py:195: RuntimeWarning: divide by zero encountered in double_scalars\n",
      "  vif = 1. / (1. - r_squared_i)\n",
      "c:\\Users\\lukew\\anaconda3\\lib\\site-packages\\statsmodels\\stats\\outliers_influence.py:195: RuntimeWarning: divide by zero encountered in double_scalars\n",
      "  vif = 1. / (1. - r_squared_i)\n",
      "c:\\Users\\lukew\\anaconda3\\lib\\site-packages\\statsmodels\\stats\\outliers_influence.py:195: RuntimeWarning: divide by zero encountered in double_scalars\n",
      "  vif = 1. / (1. - r_squared_i)\n",
      "c:\\Users\\lukew\\anaconda3\\lib\\site-packages\\statsmodels\\stats\\outliers_influence.py:195: RuntimeWarning: divide by zero encountered in double_scalars\n",
      "  vif = 1. / (1. - r_squared_i)\n",
      "c:\\Users\\lukew\\anaconda3\\lib\\site-packages\\statsmodels\\stats\\outliers_influence.py:195: RuntimeWarning: divide by zero encountered in double_scalars\n",
      "  vif = 1. / (1. - r_squared_i)\n",
      "c:\\Users\\lukew\\anaconda3\\lib\\site-packages\\statsmodels\\stats\\outliers_influence.py:195: RuntimeWarning: divide by zero encountered in double_scalars\n",
      "  vif = 1. / (1. - r_squared_i)\n",
      "c:\\Users\\lukew\\anaconda3\\lib\\site-packages\\statsmodels\\stats\\outliers_influence.py:195: RuntimeWarning: divide by zero encountered in double_scalars\n",
      "  vif = 1. / (1. - r_squared_i)\n"
     ]
    }
   ],
   "source": [
    "VIF_features = VIF_dim_reduction(feature_frame=train_df,target_feature='actual_total_delivery_duration',vif_limit=20)[1]"
   ]
  },
  {
   "cell_type": "code",
   "execution_count": 16,
   "metadata": {},
   "outputs": [],
   "source": [
    "VIF_featureset = VIF_features.drop(VIF_features[VIF_features.feature == 'const'].index)\n",
    "VIF_featureset = VIF_featureset['feature'].to_list()\n",
    "VIF_featureset = VIF_featureset + ['actual_total_delivery_duration']\n",
    "VIF_train_df = train_df[VIF_featureset]"
   ]
  },
  {
   "cell_type": "code",
   "execution_count": 17,
   "metadata": {},
   "outputs": [],
   "source": [
    "vif_x_train,vif_x_test,vif_y_train,vif_y_test = build_train_test(dataset=VIF_train_df,target_feature='actual_total_delivery_duration',test_size=0.2)"
   ]
  },
  {
   "cell_type": "code",
   "execution_count": 195,
   "metadata": {},
   "outputs": [
    {
     "data": {
      "text/plain": [
       "<AxesSubplot:>"
      ]
     },
     "execution_count": 195,
     "metadata": {},
     "output_type": "execute_result"
    },
    {
     "data": {
      "image/png": "[encoded data removed]",
      "text/plain": [
       "<Figure size 640x480 with 1 Axes>"
      ]
     },
     "metadata": {},
     "output_type": "display_data"
    }
   ],
   "source": [
    "vif_importances = calcRF_feature_importance(x_train=vif_x_train,y_train=vif_y_train)\n",
    "vif_importances.sort_values(by='gini-importance',ascending=False).head(15).plot(kind='bar',rot=90)"
   ]
  },
  {
   "cell_type": "code",
   "execution_count": 18,
   "metadata": {},
   "outputs": [
    {
     "name": "stdout",
     "output_type": "stream",
     "text": [
      "We need 15 features (out of 25 available) to explain 90 percent of the variance after VIF dimensionality reduction\n"
     ]
    },
    {
     "data": {
      "image/png": "[encoded data removed]",
      "text/plain": [
       "<Figure size 640x480 with 1 Axes>"
      ]
     },
     "metadata": {},
     "output_type": "display_data"
    }
   ],
   "source": [
    "## how many features are needed to explain 90% of the variance?\n",
    "print(\"We need \" + str(len(PCAcalc_expl_var(x_train=vif_x_train,target_expl_variance=0.9)[0])) + \" features (out of \" + str(vif_x_train.shape[1]) + \" available) to explain 90 percent of the variance after VIF dimensionality reduction\")\n",
    "\n",
    "vif_x_train_scaled = apply_standard_scaler(vif_x_train)[0]\n",
    "pca = PCA().fit(vif_x_train_scaled)\n",
    "\n",
    "plt.plot(np.cumsum(pca.explained_variance_ratio_))\n",
    "plt.xlim(0,30,1)\n",
    "plt.xlabel('Number of components')\n",
    "plt.ylabel('Cumulative explained variance')\n",
    "plt.show()"
   ]
  },
  {
   "cell_type": "code",
   "execution_count": 33,
   "metadata": {},
   "outputs": [],
   "source": [
    "## applicator function for ML methods\n",
    "\n",
    "def applyMethod_make_regression(x_train,y_train,x_test,y_test,model):\n",
    "    try:\n",
    "        model.fit(x_train,y_train)\n",
    "        ## train error\n",
    "        y_hat_train = model.predict(x_train)\n",
    "        train_RMSE = mean_squared_error(y_true=y_train,y_pred=y_hat_train,squared=False)\n",
    "        train_MAE = mean_absolute_error(y_true=y_train,y_pred=y_hat_train)\n",
    "        ## test error\n",
    "        y_hat_test = model.predict(x_test)\n",
    "        test_RMSE = mean_squared_error(y_true=y_test,y_pred=y_hat_test,squared=False)\n",
    "        test_MAE = mean_absolute_error(y_true=y_test,y_pred=y_hat_test)\n",
    "        eval_stats = {\n",
    "            'train_RMSE:':train_RMSE,\n",
    "            'train_MAE:':train_MAE,\n",
    "            'test_RMSE:':test_RMSE,\n",
    "            'test_MAE:':test_MAE\n",
    "        }\n",
    "        trained_model = model\n",
    "    except Exception as ex:\n",
    "        raise ex\n",
    "    return trained_model,y_hat_test,eval_stats"
   ]
  },
  {
   "cell_type": "code",
   "execution_count": 65,
   "metadata": {},
   "outputs": [],
   "source": [
    "def applyMethod_xgboost(x_train,y_train,x_test,y_test,reg_alpha:int,reg_lambda:int,eval_metric:str,random_state=42):\n",
    "    try:\n",
    "        model = xgboost.XGBRegressor(reg_alpha=reg_alpha,reg_lambda=reg_lambda,eval_metric=eval_metric,random_state=random_state).fit(x_train,y_train)\n",
    "        ## train error\n",
    "        y_hat_train = model.predict(x_train)\n",
    "        train_RMSE = mean_squared_error(y_true=y_train,y_pred=y_hat_train,squared=False)\n",
    "        train_MAE = mean_absolute_error(y_true=y_train,y_pred=y_hat_train)\n",
    "        ## test error\n",
    "        y_hat_test = model.predict(x_test)\n",
    "        test_RMSE = mean_squared_error(y_true=y_test,y_pred=y_hat_test,squared=False)\n",
    "        test_MAE = mean_absolute_error(y_true=y_test,y_pred=y_hat_test)\n",
    "        eval_stats = {\n",
    "            'train_RMSE:':train_RMSE,\n",
    "            'train_MAE:':train_MAE,\n",
    "            'test_RMSE:':test_RMSE,\n",
    "            'test_MAE:':test_MAE\n",
    "        }\n",
    "        trained_model = model\n",
    "    except Exception as ex:\n",
    "        raise ex\n",
    "    return trained_model,y_hat_test,eval_stats"
   ]
  },
  {
   "cell_type": "code",
   "execution_count": 35,
   "metadata": {},
   "outputs": [],
   "source": [
    "xtrain,xtest,ytrain,ytest = build_train_test(dataset=VIF_train_df,target_feature='actual_total_delivery_duration',test_size=0.2)"
   ]
  },
  {
   "cell_type": "code",
   "execution_count": 198,
   "metadata": {},
   "outputs": [
    {
     "name": "stderr",
     "output_type": "stream",
     "text": [
      "c:\\Users\\lukew\\anaconda3\\lib\\site-packages\\xgboost\\data.py:250: FutureWarning: pandas.Int64Index is deprecated and will be removed from pandas in a future version. Use pandas.Index with the appropriate dtype instead.\n",
      "  elif isinstance(data.columns, (pd.Int64Index, pd.RangeIndex)):\n"
     ]
    },
    {
     "data": {
      "text/plain": [
       "{'train_RMSE:': 862.523,\n",
       " 'train_MAE:': 612.2747,\n",
       " 'test_RMSE:': 1037.2075,\n",
       " 'test_MAE:': 652.5748}"
      ]
     },
     "execution_count": 198,
     "metadata": {},
     "output_type": "execute_result"
    }
   ],
   "source": [
    "trained_xgbregressor = applyMethod_make_regression(x_train=xtrain,x_test=xtest,y_test=ytest,y_train=ytrain,model=xgboost.XGBRegressor())\n",
    "trained_xgbregressor[2]\n"
   ]
  },
  {
   "cell_type": "code",
   "execution_count": 136,
   "metadata": {},
   "outputs": [
    {
     "data": {
      "text/plain": [
       "{'baseline_MAE:': 783.5442750429107, 'baseline_RMSE:': 19249.89784985233}"
      ]
     },
     "execution_count": 136,
     "metadata": {},
     "output_type": "execute_result"
    }
   ],
   "source": [
    "# does the first attempt at modeling improve on a baseline, average-derived model?\n",
    "createBaseline(historical_data=historical_data)\n"
   ]
  },
  {
   "cell_type": "code",
   "execution_count": 94,
   "metadata": {},
   "outputs": [],
   "source": [
    "yhat_train = trained_xgbregressor.predict(xtrain)"
   ]
  },
  {
   "cell_type": "code",
   "execution_count": 123,
   "metadata": {},
   "outputs": [],
   "source": [
    "yhat_test = trained_xgbregressor.predict(xtest)"
   ]
  },
  {
   "cell_type": "code",
   "execution_count": 208,
   "metadata": {},
   "outputs": [],
   "source": [
    "## join train absolute error with all features\n",
    "pred_frame = xtrain.join(ytrain)\n",
    "pred_frame['yhat_pred'] = yhat_train.reshape(-1,1)\n",
    "## test_data['error'] = test_data['actual_total_delivery_duration'] - test_data['yhat_pred']\n",
    "pred_frame['abs_error'] = abs(pred_frame['actual_total_delivery_duration'] - pred_frame['yhat_pred'])\n",
    "full_feature_df_train = pd.merge(\n",
    "    left = pred_frame[['abs_error']],\n",
    "    right = train_df,\n",
    "    how='left',\n",
    "    left_index=True,\n",
    "    right_index=True\n",
    "    )\n",
    "## join test absolute error with all features\n",
    "pred_frame = xtest.join(ytest)\n",
    "pred_frame['yhat_pred'] = yhat_test.reshape(-1,1)\n",
    "## test_data['error'] = test_data['actual_total_delivery_duration'] - test_data['yhat_pred']\n",
    "pred_frame['abs_error'] = abs(pred_frame['actual_total_delivery_duration'] - pred_frame['yhat_pred'])\n",
    "full_feature_df_test = pd.merge(\n",
    "    left = pred_frame[['abs_error']],\n",
    "    right = train_df,\n",
    "    how='left',\n",
    "    left_index=True,\n",
    "    right_index=True\n",
    "    )\n",
    "full_feature_df = pd.concat([full_feature_df_test,full_feature_df_train])"
   ]
  },
  {
   "cell_type": "code",
   "execution_count": 280,
   "metadata": {},
   "outputs": [
    {
     "name": "stdout",
     "output_type": "stream",
     "text": [
      "A single-model approach produces a long-tailed error distribution; 59.449416176595925% of the observations in the dataset have an absolute error of less than 900 seconds or twenty minutes.\n"
     ]
    },
    {
     "data": {
      "text/plain": [
       "<AxesSubplot:ylabel='Frequency'>"
      ]
     },
     "execution_count": 280,
     "metadata": {},
     "output_type": "execute_result"
    },
    {
     "data": {
      "image/png": "[encoded data removed]",
      "text/plain": [
       "<Figure size 640x480 with 1 Axes>"
      ]
     },
     "metadata": {},
     "output_type": "display_data"
    }
   ],
   "source": [
    "chixit = full_feature_df[['abs_error']]\n",
    "\n",
    "print(\n",
    "    \"A single-model approach produces a long-tailed error distribution; \"\n",
    "    + str(((chixit[chixit['abs_error'] < 600].shape[0] / chixit.shape[0])*100)) + \"%\"\n",
    "    + \" of the observations in the dataset have an absolute error of less than 900 seconds or twenty minutes.\"\n",
    "    )\n",
    "chixit.plot.hist(bins=256)"
   ]
  },
  {
   "cell_type": "code",
   "execution_count": 217,
   "metadata": {},
   "outputs": [
    {
     "data": {
      "text/plain": [
       "<AxesSubplot:>"
      ]
     },
     "execution_count": 217,
     "metadata": {},
     "output_type": "execute_result"
    },
    {
     "data": {
      "image/png": "[encoded data removed]",
      "text/plain": [
       "<Figure size 640x480 with 1 Axes>"
      ]
     },
     "metadata": {},
     "output_type": "display_data"
    }
   ],
   "source": [
    "error_xtrain,error_xtest,error_ytrain,error_ytest = build_train_test(dataset=full_feature_df[full_feature_df['abs_error'] > 900],target_feature='abs_error',test_size=0.2)\n",
    "error_importances = calcRF_feature_importance(x_train=error_xtrain,y_train=error_ytrain)\n",
    "error_importances.sort_values(by='gini-importance',ascending=False).head(15).plot(kind='bar',rot=90)"
   ]
  },
  {
   "cell_type": "code",
   "execution_count": 281,
   "metadata": {},
   "outputs": [],
   "source": [
    "tail_df = VIF_train_df.drop(\n",
    "    labels=full_feature_df[full_feature_df['abs_error'] <= 600].index,\n",
    "    axis=0\n",
    ")\n",
    "tail_xtrain,tail_xtest,tail_ytrain,tail_ytest = build_train_test(dataset=tail_df,target_feature='actual_total_delivery_duration',test_size=0.2)\n",
    "\n",
    "body_df = VIF_train_df.drop(\n",
    "    labels=full_feature_df[full_feature_df['abs_error'] > 600].index,\n",
    "    axis=0\n",
    ")\n",
    "body_xtrain,body_xtest,body_ytrain,body_ytest = build_train_test(dataset=body_df,target_feature='actual_total_delivery_duration',test_size=0.2)"
   ]
  },
  {
   "cell_type": "code",
   "execution_count": 282,
   "metadata": {},
   "outputs": [
    {
     "name": "stderr",
     "output_type": "stream",
     "text": [
      "c:\\Users\\lukew\\anaconda3\\lib\\site-packages\\xgboost\\data.py:250: FutureWarning: pandas.Int64Index is deprecated and will be removed from pandas in a future version. Use pandas.Index with the appropriate dtype instead.\n",
      "  elif isinstance(data.columns, (pd.Int64Index, pd.RangeIndex)):\n"
     ]
    },
    {
     "data": {
      "text/plain": [
       "{'train_RMSE:': 1218.6412,\n",
       " 'train_MAE:': 1009.03436,\n",
       " 'test_RMSE:': 1474.7993,\n",
       " 'test_MAE:': 1158.0519}"
      ]
     },
     "execution_count": 282,
     "metadata": {},
     "output_type": "execute_result"
    }
   ],
   "source": [
    "tail_model = applyMethod_make_regression(x_train=tail_xtrain,x_test=tail_xtest,y_train=tail_ytrain,y_test=tail_ytest,model=xgboost.XGBRegressor())\n",
    "tail_model[2]"
   ]
  },
  {
   "cell_type": "code",
   "execution_count": 283,
   "metadata": {},
   "outputs": [
    {
     "name": "stderr",
     "output_type": "stream",
     "text": [
      "c:\\Users\\lukew\\anaconda3\\lib\\site-packages\\xgboost\\data.py:250: FutureWarning: pandas.Int64Index is deprecated and will be removed from pandas in a future version. Use pandas.Index with the appropriate dtype instead.\n",
      "  elif isinstance(data.columns, (pd.Int64Index, pd.RangeIndex)):\n"
     ]
    },
    {
     "data": {
      "text/plain": [
       "{'train_RMSE:': 330.0506,\n",
       " 'train_MAE:': 274.84006,\n",
       " 'test_RMSE:': 367.8758,\n",
       " 'test_MAE:': 301.99106}"
      ]
     },
     "execution_count": 283,
     "metadata": {},
     "output_type": "execute_result"
    }
   ],
   "source": [
    "body_model = applyMethod_make_regression(x_train=body_xtrain,x_test=body_xtest,y_train=body_ytrain,y_test=body_ytest,model=xgboost.XGBRegressor())\n",
    "body_model[2]"
   ]
  },
  {
   "cell_type": "code",
   "execution_count": 286,
   "metadata": {},
   "outputs": [],
   "source": [
    "chezo = trained_xgbregressor[0].predict(xtest)\n"
   ]
  },
  {
   "cell_type": "code",
   "execution_count": 287,
   "metadata": {},
   "outputs": [
    {
     "data": {
      "text/plain": [
       "652.5748901367188"
      ]
     },
     "execution_count": 287,
     "metadata": {},
     "output_type": "execute_result"
    }
   ],
   "source": [
    "chirco = xtest.join(ytest)\n",
    "chirco['pred'] = chezo.reshape(-1,1)\n",
    "chirco['abs_error'] = abs(chirco['actual_total_delivery_duration'] - chirco['pred'])\n",
    "chirco['abs_error'].mean()"
   ]
  }
 ],
 "metadata": {
  "kernelspec": {
   "display_name": "Python 3.9.7 ('base')",
   "language": "python",
   "name": "python3"
  },
  "language_info": {
   "codemirror_mode": {
    "name": "ipython",
    "version": 3
   },
   "file_extension": ".py",
   "mimetype": "text/x-python",
   "name": "python",
   "nbconvert_exporter": "python",
   "pygments_lexer": "ipython3",
   "version": "3.9.15"
  },
  "orig_nbformat": 4,
  "vscode": {
   "interpreter": {
    "hash": "96d1af5f869624c072d9e03e4f7fcffed44526ca720f1a36a76cd678c41e0e80"
   }
  }
 },
 "nbformat": 4,
 "nbformat_minor": 2
}
