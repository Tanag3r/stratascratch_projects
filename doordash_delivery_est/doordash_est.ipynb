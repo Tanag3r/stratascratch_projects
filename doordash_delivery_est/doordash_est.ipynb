{
 "cells": [
  {
   "attachments": {},
   "cell_type": "markdown",
   "metadata": {},
   "source": [
    "## Delivery Duration Prediction\n",
    "\n",
    "When a consumer places an order on DoorDash, we show the expected time of delivery. It is very important for DoorDash to get this right, as it has a big impact on consumer experience. In this exercise, you will build a model to predict the estimated time taken for a delivery.\n",
    "\n",
    "Concretely, for a given delivery you must predict the total delivery duration seconds , i.e., the time taken from:\n",
    "\n",
    "__Start:__ the time consumer submits the order `(created_at)` to\n",
    "\n",
    "__End:__ when the order will be delivered to the consumer `(actual_delivery_time)`\n",
    "\n",
    "#### My Approach\n",
    "\n",
    "The dataset comes with two other predicted values: `estimated_order_place_duration` and `estimated_store_to_consumer_driving_duration`. The missing piece is the amount of time the order spends in the store. In addition to generic feature engineering, I will be creating separate order 'prep_time' statistics tables/dataframes to simulate gold fact tables in a database or features from a feature store (i.e. Feather, Feast) that would in turn live in a data lake.\n",
    "\n",
    "This is a fairly popular exercise so it is possible to derive performance objectives. My goal is to produce a feature set and model that has a test RMSE of less than 900 seconds against a holdout size of 0.2, a cross-validated RMSE of less than 950 and a test MAE of less than 600 seconds. My stretch goal is a cross-validated RMSE less than 900. For reference, the best models publically available produce a test RMSE around 980 - 1000 seconds with a holdout size of 0.2. "
   ]
  },
  {
   "cell_type": "code",
   "execution_count": 2,
   "metadata": {},
   "outputs": [],
   "source": [
    "import warnings\n",
    "warnings.simplefilter(action='ignore',category=FutureWarning)\n",
    "\n",
    "import pandas as pd\n",
    "import pyarrow as pa\n",
    "import numpy as np\n",
    "import scipy.stats as stats\n",
    "import matplotlib.pyplot as plt\n",
    "from datetime import datetime as dt\n",
    "\n",
    "from statsmodels.stats.outliers_influence import variance_inflation_factor\n",
    "from statsmodels.stats.diagnostic import het_white\n",
    "from statsmodels.tools import add_constant\n",
    "from sklearn.model_selection import train_test_split\n",
    "from sklearn.model_selection import KFold\n",
    "from sklearn.model_selection import cross_val_score\n",
    "from sklearn.decomposition import PCA\n",
    "from sklearn.preprocessing import StandardScaler,MinMaxScaler\n",
    "from sklearn.metrics import mean_squared_error\n",
    "from sklearn.metrics import mean_absolute_error\n",
    "from sklearn.metrics import confusion_matrix\n",
    "from sklearn.metrics import accuracy_score,roc_auc_score,log_loss\n",
    "from scipy import stats\n",
    "\n",
    "from flaml import AutoML\n",
    "from flaml.automl.model import XGBoostEstimator"
   ]
  },
  {
   "cell_type": "code",
   "execution_count": 3,
   "metadata": {},
   "outputs": [],
   "source": [
    "np.random.seed(42)"
   ]
  },
  {
   "cell_type": "code",
   "execution_count": 40,
   "metadata": {},
   "outputs": [],
   "source": [
    "## NOTE that all feature engineering functions can be found in doordash_feature_eng.py\n",
    "train_df = pd.read_csv('train_df.csv')\n",
    "train_df = train_df.drop(columns=['Unnamed: 0','latest_update'])"
   ]
  },
  {
   "cell_type": "code",
   "execution_count": 6,
   "metadata": {},
   "outputs": [],
   "source": [
    "def createBaseline(historical_data:pd.DataFrame) -> pd.DataFrame:   #this function would be done in practice by SQL or Spark\n",
    "    assert 'actual_total_delivery_duration' in historical_data.columns; 'Column actual_total_delivery_duration is not in the given DataFrame. Ensure that addFeatures_durations() was run on the provided DataFrame.'\n",
    "    try:\n",
    "        baseline_data = historical_data[['store_id','actual_total_delivery_duration']]\n",
    "        baseline_data = baseline_data.dropna()\n",
    "        baseline_data = pd.merge(\n",
    "            left=baseline_data,\n",
    "            right=baseline_data.groupby('store_id').actual_total_delivery_duration.aggregate([np.mean,np.std]),\n",
    "            how='inner',\n",
    "            on='store_id'\n",
    "        )\n",
    "        baseline_data['z-score'] = (baseline_data['actual_total_delivery_duration'] - baseline_data['mean']) / baseline_data['std']\n",
    "        baseline_data = baseline_data.loc[(baseline_data['z-score'] <=3) & (baseline_data['z-score'] >= -3)]\n",
    "        baseline_avgs = baseline_data.groupby('store_id').actual_total_delivery_duration.aggregate([np.mean])\n",
    "        baseline_data = pd.merge(\n",
    "            left=historical_data[['store_id','actual_total_delivery_duration']].dropna(),\n",
    "            right=baseline_avgs,\n",
    "            on='store_id'\n",
    "        )\n",
    "        baseline_MAE = mean_absolute_error(y_true=baseline_data['actual_total_delivery_duration'],y_pred=baseline_data['mean'])\n",
    "        baseline_RMSE = mean_squared_error(y_true=baseline_data['actual_total_delivery_duration'],y_pred=baseline_data['mean'],squared=False)\n",
    "    except Exception as ex:\n",
    "        raise ex\n",
    "    return {'baseline_MAE:':baseline_MAE,'baseline_RMSE:':baseline_RMSE}"
   ]
  },
  {
   "cell_type": "code",
   "execution_count": 82,
   "metadata": {},
   "outputs": [
    {
     "name": "stdout",
     "output_type": "stream",
     "text": [
      "Markets 1,2:\n",
      "0.14396329619338816\n",
      "Ttest_indResult(statistic=-3.020034348335915, pvalue=0.006338476911120953)\n",
      "Markets 1,3:\n",
      "2.6105510904958207\n",
      "Ttest_indResult(statistic=-3.020034348335915, pvalue=0.004771176546808944)\n",
      "Markets 1,4:\n",
      "0.13407092616734598\n",
      "Ttest_indResult(statistic=-3.020034348335915, pvalue=0.006338476911120953)\n",
      "Markets 2,3:\n",
      "18.133449007648636\n",
      "Ttest_indResult(statistic=-3.020034348335915, pvalue=0.006338476911120953)\n",
      "Markets 2,4:\n",
      "0.9312854714527126\n",
      "Ttest_indResult(statistic=-3.020034348335915, pvalue=0.004771176546808944)\n",
      "Markets 3,4:\n",
      "0.051357327062264826\n",
      "Ttest_indResult(statistic=-3.020034348335915, pvalue=0.006338476911120953)\n"
     ]
    }
   ],
   "source": [
    "## Variance in average outstanding orders by hour between different markets. Different populations will generate a value less than 0.25 or greater than 4\n",
    "# If the p-value for the Welch's t-test is less than 0.05, then the means of the populations are different enough to warrant splitting in feature development\n",
    "print(\"Markets 1,2:\")\n",
    "print(np.var(historical_data[historical_data['market_id'] == 1].groupby('created_hour_of_day').total_outstanding_orders.aggregate(np.mean))/np.var(historical_data[historical_data['market_id'] == 2].groupby('created_hour_of_day').total_outstanding_orders.aggregate(np.mean)))\n",
    "print(stats.ttest_ind(historical_data[historical_data['market_id'] == 1].groupby('created_hour_of_day').total_outstanding_orders.aggregate(np.mean),historical_data[historical_data['market_id'] == 2].groupby('created_hour_of_day').total_outstanding_orders.aggregate(np.mean),equal_var=False))\n",
    "print(\"Markets 1,3:\")\n",
    "print(np.var(historical_data[historical_data['market_id'] == 1].groupby('created_hour_of_day').total_outstanding_orders.aggregate(np.mean))/np.var(historical_data[historical_data['market_id'] == 3].groupby('created_hour_of_day').total_outstanding_orders.aggregate(np.mean)))\n",
    "print(stats.ttest_ind(historical_data[historical_data['market_id'] == 1].groupby('created_hour_of_day').total_outstanding_orders.aggregate(np.mean),historical_data[historical_data['market_id'] == 2].groupby('created_hour_of_day').total_outstanding_orders.aggregate(np.mean),equal_var=True))\n",
    "print(\"Markets 1,4:\")\n",
    "print(np.var(historical_data[historical_data['market_id'] == 1].groupby('created_hour_of_day').total_outstanding_orders.aggregate(np.mean))/np.var(historical_data[historical_data['market_id'] == 4].groupby('created_hour_of_day').total_outstanding_orders.aggregate(np.mean)))\n",
    "print(stats.ttest_ind(historical_data[historical_data['market_id'] == 1].groupby('created_hour_of_day').total_outstanding_orders.aggregate(np.mean),historical_data[historical_data['market_id'] == 2].groupby('created_hour_of_day').total_outstanding_orders.aggregate(np.mean),equal_var=False))\n",
    "print(\"Markets 2,3:\")\n",
    "print(np.var(historical_data[historical_data['market_id'] == 2].groupby('created_hour_of_day').total_outstanding_orders.aggregate(np.mean))/np.var(historical_data[historical_data['market_id'] == 3].groupby('created_hour_of_day').total_outstanding_orders.aggregate(np.mean)))\n",
    "print(stats.ttest_ind(historical_data[historical_data['market_id'] == 1].groupby('created_hour_of_day').total_outstanding_orders.aggregate(np.mean),historical_data[historical_data['market_id'] == 2].groupby('created_hour_of_day').total_outstanding_orders.aggregate(np.mean),equal_var=False))\n",
    "print(\"Markets 2,4:\")\n",
    "print(np.var(historical_data[historical_data['market_id'] == 2].groupby('created_hour_of_day').total_outstanding_orders.aggregate(np.mean))/np.var(historical_data[historical_data['market_id'] == 4].groupby('created_hour_of_day').total_outstanding_orders.aggregate(np.mean)))\n",
    "print(stats.ttest_ind(historical_data[historical_data['market_id'] == 1].groupby('created_hour_of_day').total_outstanding_orders.aggregate(np.mean),historical_data[historical_data['market_id'] == 2].groupby('created_hour_of_day').total_outstanding_orders.aggregate(np.mean),equal_var=True))\n",
    "print(\"Markets 3,4:\")\n",
    "print(np.var(historical_data[historical_data['market_id'] == 3].groupby('created_hour_of_day').total_outstanding_orders.aggregate(np.mean))/np.var(historical_data[historical_data['market_id'] == 4].groupby('created_hour_of_day').total_outstanding_orders.aggregate(np.mean)))\n",
    "print(stats.ttest_ind(historical_data[historical_data['market_id'] == 1].groupby('created_hour_of_day').total_outstanding_orders.aggregate(np.mean),historical_data[historical_data['market_id'] == 2].groupby('created_hour_of_day').total_outstanding_orders.aggregate(np.mean),equal_var=False))"
   ]
  },
  {
   "cell_type": "code",
   "execution_count": 27,
   "metadata": {},
   "outputs": [
    {
     "data": {
      "text/plain": [
       "array([[<AxesSubplot:title={'center':'actual_total_delivery_duration'}>]],\n",
       "      dtype=object)"
      ]
     },
     "execution_count": 27,
     "metadata": {},
     "output_type": "execute_result"
    },
    {
     "data": {
      "image/png": "[encoded data removed]",
      "text/plain": [
       "<Figure size 640x480 with 1 Axes>"
      ]
     },
     "metadata": {},
     "output_type": "display_data"
    }
   ],
   "source": [
    "## What is the distribution of the actual_total_delivery_time values around the mean?\n",
    "x = train_df[['actual_total_delivery_duration']].apply(stats.zscore)\n",
    "x.hist(column='actual_total_delivery_duration',bins=25)"
   ]
  },
  {
   "cell_type": "code",
   "execution_count": 181,
   "metadata": {},
   "outputs": [],
   "source": [
    "## dimensionality reduction functions with variance inflaction\n",
    "\n",
    "def calcVIF(feature_frame:pd.DataFrame,target_feature:str):\n",
    "    try:\n",
    "        feature_frame = add_constant(feature_frame)\n",
    "        feature_list = feature_frame.drop(columns=[target_feature]).columns.to_list()\n",
    "        vif_frame = pd.DataFrame()\n",
    "        vif_frame['feature'] = feature_list\n",
    "        vif_frame['VIF'] = [variance_inflation_factor(feature_frame[feature_list].values,i) for i in range(len(feature_list))]\n",
    "    except Exception as ex:\n",
    "        raise ex\n",
    "    return vif_frame.sort_values(by=['VIF'],ascending=False).reset_index(drop=True)\n",
    "\n",
    "def VIF_dim_reduction(feature_frame:pd.DataFrame,target_feature:str,vif_limit:int):\n",
    "    vif_table = calcVIF(feature_frame=feature_frame,target_feature=target_feature)\n",
    "    try:\n",
    "        ## drop nan columns from feature set, nan VIF values from base VIF table\n",
    "        vif_table['VIF'].replace(to_replace=[np.inf,-np.inf],value=np.nan,inplace=True)\n",
    "        nan_list = vif_table[vif_table['VIF'].isnull()]['feature'].to_list()\n",
    "        feature_frame = feature_frame.drop(columns=nan_list)\n",
    "        vif_table = vif_table.set_index(vif_table.feature)\n",
    "        vif_table = vif_table.drop(labels=nan_list).reset_index(drop=True)\n",
    "        ## start\n",
    "        multicollinearity = True if vif_table['VIF'].values.tolist()[1] > vif_limit else False\n",
    "        while multicollinearity:\n",
    "            lead_vif_feature = vif_table['feature'].values.tolist()[1]\n",
    "            feature_frame = feature_frame.drop(columns=lead_vif_feature)\n",
    "            vif_table = calcVIF(feature_frame=feature_frame,target_feature=target_feature)\n",
    "            multicollinearity = True if vif_table['VIF'].values.tolist()[1] > vif_limit else False\n",
    "    except Exception as ex:\n",
    "        raise ex\n",
    "    return feature_frame,vif_table"
   ]
  },
  {
   "cell_type": "code",
   "execution_count": 6,
   "metadata": {},
   "outputs": [],
   "source": [
    "## feature selection/dimensionality reduction with PCA\n",
    "##TODO #2 make a class for PCA\n",
    "##TODO #3 retain row numbers in scaler --DONE\n",
    "\n",
    "def build_train_test(dataset:pd.DataFrame,target_feature:str,test_size:int):\n",
    "    try:\n",
    "        X = dataset.drop(columns=target_feature)\n",
    "        y = dataset[target_feature]\n",
    "        x_train,x_test,y_train,y_test = train_test_split(X,y,test_size=test_size,random_state=42)\n",
    "        x_train,x_test = pd.DataFrame(x_train),pd.DataFrame(x_test)\n",
    "    except Exception as ex:\n",
    "        raise ex\n",
    "    return x_train,x_test,y_train,y_test\n",
    "\n",
    "def apply_standard_scaler(dataset):\n",
    "#applies the standard scaler to a single dataset\n",
    "    scaler = StandardScaler()\n",
    "    try:\n",
    "        if type(dataset) == pd.DataFrame:\n",
    "            scaler = scaler.fit(dataset.values)\n",
    "            dataset_scaled = scaler.transform(dataset.values)\n",
    "            dataset_scaled = pd.DataFrame(dataset_scaled,index=dataset.index,columns=dataset.columns)\n",
    "        else:\n",
    "            scaler = scaler.fit(dataset)\n",
    "            dataset_scaled = scaler.transform(dataset)\n",
    "            test_stdScale = scaler.transform(dataset)\n",
    "    except Exception as ex:\n",
    "        raise ex\n",
    "    return dataset_scaled,scaler\n",
    "\n",
    "def transform_rmse_to_seconds(scaler,y_test,y_hat_scaled):\n",
    "    try:\n",
    "        y_hat_descaled = scaler.inverse_transform(y_hat_scaled.reshape(-1,1))\n",
    "        rmse_descaled = mean_squared_error(y_pred=y_test,y_true=y_hat_descaled[:,0],squared=False)\n",
    "    except Exception as ex:\n",
    "        raise ex\n",
    "    return y_hat_descaled,rmse_descaled"
   ]
  },
  {
   "cell_type": "code",
   "execution_count": 7,
   "metadata": {},
   "outputs": [],
   "source": [
    "def PCAcalc_expl_var(x_train,target_expl_variance:int):\n",
    "## returns the number of components required to explain the target_expl_variance\n",
    "# and a feature to component ratio to support automation of further dimensionality reduction\n",
    "    pca = PCA()\n",
    "    x_train_scaled = apply_standard_scaler(x_train)[0]\n",
    "    try:\n",
    "        pca = pca.fit(x_train_scaled)\n",
    "        components = np.cumsum(pca.explained_variance_ratio_)\n",
    "        components = [i for i in components if i <= target_expl_variance]\n",
    "        feature_to_component_ratio = len(components)/x_train.shape[1]\n",
    "    except Exception as ex:\n",
    "        raise ex\n",
    "    return components,feature_to_component_ratio\n",
    "\n",
    "def PCAcalc_dim_reduction(x_train,x_test,desired_components:int):\n",
    "## you know, dimensionality reduction\n",
    "    pca = PCA(n_components=desired_components)\n",
    "    x_train_scaled,x_test_scaled = apply_standard_scaler(x_train)[0],apply_standard_scaler(x_test)[0]\n",
    "    try:\n",
    "        pca = pca.fit(x_train_scaled)\n",
    "        x_train_pca,x_test_pca = pca.transform(x_train_scaled),pca.transform(x_test_scaled)\n",
    "    except Exception as ex:\n",
    "        raise ex\n",
    "    return x_train_pca,x_test_pca"
   ]
  },
  {
   "cell_type": "code",
   "execution_count": 43,
   "metadata": {},
   "outputs": [],
   "source": [
    "x_train,x_holdout,y_train,y_holdout = build_train_test(dataset=train_df,target_feature='actual_total_delivery_duration',test_size=0.2)"
   ]
  },
  {
   "attachments": {},
   "cell_type": "markdown",
   "metadata": {},
   "source": [
    "#### Dimensionality reduction with VIF"
   ]
  },
  {
   "cell_type": "code",
   "execution_count": null,
   "metadata": {},
   "outputs": [],
   "source": [
    "VIF_features = VIF_dim_reduction(feature_frame=train_df,target_feature='actual_total_delivery_duration',vif_limit=20)[1]\n",
    "VIF_featureset = VIF_features.drop(VIF_features[VIF_features.feature == 'const'].index)\n",
    "VIF_featureset = VIF_featureset['feature'].to_list()\n",
    "VIF_featureset = VIF_featureset + ['actual_total_delivery_duration']\n",
    "VIF_train_df = train_df[VIF_featureset]"
   ]
  },
  {
   "cell_type": "code",
   "execution_count": 183,
   "metadata": {},
   "outputs": [],
   "source": [
    "x_train_vif,x_test_vif = x_train[VIF_featureset],x_holdout[VIF_featureset]"
   ]
  },
  {
   "cell_type": "code",
   "execution_count": 187,
   "metadata": {},
   "outputs": [
    {
     "name": "stdout",
     "output_type": "stream",
     "text": [
      "We need 14 features (out of 24 available) to explain 90 percent of the variance after VIF dimensionality reduction\n"
     ]
    },
    {
     "data": {
      "image/png": "[encoded data removed]",
      "text/plain": [
       "<Figure size 640x480 with 1 Axes>"
      ]
     },
     "metadata": {},
     "output_type": "display_data"
    }
   ],
   "source": [
    "## how many features are needed to explain 90% of the variance?\n",
    "print(\"We need \" + str(len(PCAcalc_expl_var(x_train=x_train_vif,target_expl_variance=0.9)[0])) + \" features (out of \" + str(x_train_vif.shape[1]) + \" available) to explain 90 percent of the variance after VIF dimensionality reduction\")\n",
    "\n",
    "vif_x_train_scaled = apply_standard_scaler(x_train_vif)[0]\n",
    "pca = PCA().fit(vif_x_train_scaled)\n",
    "\n",
    "plt.plot(np.cumsum(pca.explained_variance_ratio_))\n",
    "plt.xlim(0,30,1)\n",
    "plt.xlabel('Number of components')\n",
    "plt.ylabel('Cumulative explained variance')\n",
    "plt.show()"
   ]
  },
  {
   "attachments": {},
   "cell_type": "markdown",
   "metadata": {},
   "source": [
    "#### Dimensionality reduction with PCA"
   ]
  },
  {
   "cell_type": "code",
   "execution_count": 20,
   "metadata": {},
   "outputs": [],
   "source": [
    "x_train_pca,x_test_pca = PCAcalc_dim_reduction(x_train=x_train,x_test=x_holdout,desired_components=len(PCAcalc_expl_var(x_train=x_train,target_expl_variance=0.9)[0]))"
   ]
  },
  {
   "attachments": {},
   "cell_type": "markdown",
   "metadata": {},
   "source": [
    "### Model functions, model selection and first round results"
   ]
  },
  {
   "cell_type": "code",
   "execution_count": 14,
   "metadata": {},
   "outputs": [],
   "source": [
    "## applicator function for ML methods\n",
    "\n",
    "def applyMethod_make_regression(x_train,y_train,x_test,y_test,model):\n",
    "    try:\n",
    "        model.fit(x_train,y_train)\n",
    "        ## train error\n",
    "        y_hat_train = model.predict(x_train)\n",
    "        train_RMSE = mean_squared_error(y_true=y_train,y_pred=y_hat_train,squared=False)\n",
    "        train_MAE = mean_absolute_error(y_true=y_train,y_pred=y_hat_train)\n",
    "        ## test error\n",
    "        y_hat_test = model.predict(x_test)\n",
    "        test_RMSE = mean_squared_error(y_true=y_test,y_pred=y_hat_test,squared=False)\n",
    "        test_MAE = mean_absolute_error(y_true=y_test,y_pred=y_hat_test)\n",
    "        eval_stats = {\n",
    "            'train_RMSE:':train_RMSE,\n",
    "            # gives context to the RMSE; the lower the ratio the better\n",
    "            'train_RMSE_to_mean_ratio':train_RMSE / (np.mean(y_train)),\n",
    "            'train_MAE:':train_MAE,\n",
    "            'test_RMSE:':test_RMSE,\n",
    "            # gives context to the RMSE; the lower the ratio the better\n",
    "            'test_RMSE_to_mean_ratio':test_RMSE / (np.mean(y_test)),\n",
    "            'test_MAE:':test_MAE\n",
    "        }\n",
    "        trained_model = model\n",
    "    except Exception as ex:\n",
    "        raise ex\n",
    "    return trained_model,y_hat_test,eval_stats"
   ]
  },
  {
   "cell_type": "code",
   "execution_count": 77,
   "metadata": {},
   "outputs": [],
   "source": [
    "def ApplyMethod_autoML_cv_ensemble(x_train,x_test,y_train,y_test,time_budget=int,metric=str,estimator_list=list,task=str,cv_folds=int):\n",
    "    auto_ml = AutoML()\n",
    "    kf = KFold(n_splits=cv_folds,random_state=42,shuffle=True)\n",
    "    cv_scores = []\n",
    "    cv_holdout_scores = []\n",
    "    cv_models = []\n",
    "## recall that the actual_total_delivery_time data is gamma distributed\n",
    "    class xgbGamma(XGBoostEstimator):\n",
    "        def __init__(self, task=\"regression\", **config):\n",
    "            super().__init__(objective='reg:gamma', **config)\n",
    "    auto_ml.add_learner(learner_name=\"xgb_gamma\",learner_class=xgbGamma)\n",
    "    try:\n",
    "        ## cross-validation\n",
    "        for train_index,test_index in kf.split(x_train):\n",
    "                cv_xtrain,cv_xtest = x_train.iloc[train_index],x_train.iloc[test_index]\n",
    "                cv_ytrain,cv_ytest = y_train.iloc[train_index],y_train.iloc[test_index]\n",
    "                auto_ml.fit(X_train=cv_xtrain,y_train=cv_ytrain,time_budget=time_budget,metric=metric,estimator_list=estimator_list,task=task,seed=42,verbose=0)\n",
    "                ## store the model\n",
    "                cv_models.append(auto_ml.model)\n",
    "                cv_yhat = auto_ml.predict(cv_xtest)\n",
    "                holdout_yhat = auto_ml.predict(x_test)\n",
    "                if task == 'regression':\n",
    "                    rmse = mean_squared_error(y_true=cv_ytest,y_pred=cv_yhat,squared=False)\n",
    "                    cv_scores.append(rmse)\n",
    "                    cv_holdout_scores.append(mean_squared_error(y_true=y_test,y_pred=holdout_yhat,squared=False))\n",
    "                if task == 'classification':\n",
    "                    accuracy = accuracy_score(y_true=cv_ytest,y_pred=cv_yhat)\n",
    "                    cv_scores.append(accuracy)\n",
    "                    cv_holdout_scores.append(accuracy_score(y_true=y_test,y_pred=cv_yhat))\n",
    "    except Exception as ex:\n",
    "        raise ex\n",
    "    return cv_scores,cv_holdout_scores,cv_models"
   ]
  },
  {
   "cell_type": "code",
   "execution_count": 13,
   "metadata": {},
   "outputs": [],
   "source": [
    "## TODO: #9 add cross-validation to final score delivery --DONE\n",
    "def ApplyMethod_autoML(x_train,x_test,y_train,y_test,time_budget=int,metric=str,estimator_list=list,task=str,run_cv=bool,cv_folds=int):\n",
    "    auto_ml = AutoML()\n",
    "    kf = KFold(n_splits=cv_folds,random_state=42,shuffle=True)\n",
    "    cv_scores = []\n",
    "    cv_models = []\n",
    "## recall that the actual_total_delivery_time data is gamma distributed\n",
    "    class xgbGamma(XGBoostEstimator):\n",
    "        def __init__(self, task=\"regression\", **config):\n",
    "            super().__init__(objective='reg:gamma', **config)\n",
    "    auto_ml.add_learner(learner_name=\"xgb_gamma\",learner_class=xgbGamma)\n",
    "    try:\n",
    "        auto_ml.fit(X_train=x_train,y_train=y_train,time_budget=time_budget,metric=metric,estimator_list=estimator_list,task=task,seed=42,verbose=0)\n",
    "        trained_model = auto_ml\n",
    "        feature_importances_df = pd.DataFrame({'features':auto_ml.feature_names_in_,'importance':auto_ml.feature_importances_})\n",
    "        ## cross-validation\n",
    "        if run_cv == True:\n",
    "            model_count = 1\n",
    "            for train_index,test_index in kf.split(x_train):\n",
    "                cv_xtrain,cv_xtest = x_train.iloc[train_index],x_train.iloc[test_index]\n",
    "                cv_ytrain,cv_ytest = y_train.iloc[train_index],y_train.iloc[test_index]\n",
    "                auto_ml.fit(X_train=cv_xtrain,y_train=cv_ytrain,time_budget=time_budget,metric=metric,estimator_list=[str(trained_model.best_estimator)],task=task,seed=42,verbose=0)\n",
    "                ## store the model\n",
    "                cv_models.append(auto_ml.model)\n",
    "                cv_yhat = auto_ml.predict(cv_xtest)\n",
    "                if task == 'regression':\n",
    "                    rmse = mean_squared_error(y_true=cv_ytest,y_pred=cv_yhat,squared=False)\n",
    "                    cv_scores.append(rmse)\n",
    "                if task == 'classification':\n",
    "                    accuracy = accuracy_score(y_true=cv_ytest,y_pred=cv_yhat)\n",
    "                    cv_scores.append(accuracy)\n",
    "        if task == 'regression':\n",
    "        ## test error\n",
    "            y_hat_test = auto_ml.predict(x_test)\n",
    "            test_RMSE = mean_squared_error(y_true=y_test,y_pred=y_hat_test,squared=False)\n",
    "            test_MAE = mean_absolute_error(y_true=y_test,y_pred=y_hat_test)\n",
    "            ## feature importances\n",
    "            ## train error\n",
    "            y_hat_train = auto_ml.predict(x_train)\n",
    "            train_RMSE = mean_squared_error(y_true=y_train,y_pred=y_hat_train,squared=False)\n",
    "            train_MAE = mean_absolute_error(y_true=y_train,y_pred=y_hat_train)\n",
    "            eval_stats = {\n",
    "                'train_RMSE:':train_RMSE,\n",
    "                # gives context to the RMSE; the lower the ratio the better\n",
    "                'train_RMSE_to_std_ratio':train_RMSE / (np.std(y_train)),\n",
    "                'train_MAE:':train_MAE,\n",
    "                'test_RMSE:':test_RMSE,\n",
    "                # gives context to the RMSE; the lower the ratio the better\n",
    "                'test_RMSE_to_std_ratio':test_RMSE / (np.std(y_test)),\n",
    "                'test_MAE:':test_MAE\n",
    "            }\n",
    "        if task == 'classification':\n",
    "            y_hat_test = auto_ml.predict(x_test)\n",
    "            y_hat_test_proba = auto_ml.predict_proba(x_test)\n",
    "            y_hat_train = auto_ml.predict(x_train)\n",
    "            y_hat_train_proba = auto_ml.predict_proba(x_train)\n",
    "            eval_stats = {\n",
    "                'train_accuracy': accuracy_score(y_true=y_train,y_pred=y_hat_train),\n",
    "                'train_roc_auc': roc_auc_score(y_true=y_train,y_score=y_hat_train_proba[:,1]),\n",
    "                'test_accuracy': accuracy_score(y_true=y_test,y_pred=y_hat_test),\n",
    "                'test_roc_auc': roc_auc_score(y_true=y_test,y_score=y_hat_test_proba[:,1])\n",
    "            }\n",
    "    except Exception as ex:\n",
    "        raise ex\n",
    "    return trained_model,feature_importances_df.sort_values(by='importance',ascending=False),eval_stats,cv_scores"
   ]
  },
  {
   "attachments": {},
   "cell_type": "markdown",
   "metadata": {},
   "source": [
    "#### PCA versus VIF dimensionality reduction:\n",
    "\n",
    "TODO: #10 rewrite dimensionality reduction write-up\n",
    "\n",
    "PCA:\n",
    "\n",
    "    {'train_RMSE:': 931.81287,\n",
    "    'train_RMSE_to_mean_ratio': 0.3266211655207943,\n",
    "    'train_MAE:': 616.80505,\n",
    "    'test_RMSE:': 922.12134,\n",
    "    'test_RMSE_to_mean_ratio': 0.3238223636661371,\n",
    "    'test_MAE:': 633.7323}\n",
    "\n",
    "VIF:\n",
    "\n",
    "    {'train_RMSE:': 844.9008,\n",
    "    'train_RMSE_to_mean_ratio': 0.29615655663211077,\n",
    "    'train_MAE:': 591.4,\n",
    "    'test_RMSE:': 949.3395,\n",
    "    'test_RMSE_to_mean_ratio': 0.33338058768003304,\n",
    "    'test_MAE:': 649.18304}\n",
    "\n",
    "No dimensionality reduction:\n",
    "\n",
    "    {'train_RMSE:': 902.9004,\n",
    "    'train_RMSE_to_mean_ratio': 0.31669177544879185,\n",
    "    'train_MAE:': 590.48975,\n",
    "    'test_RMSE:': 883.9196,\n",
    "    'test_RMSE_to_mean_ratio': 0.30977442512176745,\n",
    "    'test_MAE:': 603.2624}\n",
    "\n",
    "\n",
    "Between the two dimensionality reduction options, PCA slightly beats out VIF. Given that the goal of dimensionality reduction is to reduce compute requirements (and therefore cost) while retaining as much of the unreduced model's performance as possible, it may be best to use a two-step approach. The first step would secure a list of the top ten or fifteen features from a model trained on the unreduced dataset during the regular retraining process and then run PCA on the remaining features. This lighter dataset would then be used to train a production model."
   ]
  },
  {
   "cell_type": "code",
   "execution_count": 14,
   "metadata": {},
   "outputs": [
    {
     "name": "stderr",
     "output_type": "stream",
     "text": [
      "\n",
      "check Spark installation...This line should appear only once.\n",
      "\n",
      "use_spark=True requires installation of PySpark. Please run pip install flaml[spark]\n",
      "        and check [here](https://spark.apache.org/docs/latest/api/python/getting_started/install.html)\n",
      "        for more details about installing Spark.\n"
     ]
    },
    {
     "data": {
      "text/plain": [
       "{'train_RMSE:': 962.5722570423924,\n",
       " 'train_RMSE_to_std_ratio': 0.8285083410025038,\n",
       " 'train_MAE:': 638.1465428280734,\n",
       " 'test_RMSE:': 920.4128753844813,\n",
       " 'test_RMSE_to_std_ratio': 0.8234671095960912,\n",
       " 'test_MAE:': 640.1305807838371}"
      ]
     },
     "execution_count": 14,
     "metadata": {},
     "output_type": "execute_result"
    }
   ],
   "source": [
    "pca_regressions = ApplyMethod_autoML(\n",
    "    x_train=x_train_pca,\n",
    "    x_test=x_test_pca,\n",
    "    y_train=y_train,\n",
    "    y_test=y_holdout,\n",
    "    time_budget=180,\n",
    "    metric='mse',\n",
    "    estimator_list=['xgb_gamma','xgboost','xgb_limitdepth'],\n",
    "    task='regression',\n",
    "    run_cv=False,\n",
    "    cv_folds=5\n",
    "    )\n",
    "pca_regressions[2]"
   ]
  },
  {
   "cell_type": "code",
   "execution_count": 44,
   "metadata": {},
   "outputs": [
    {
     "data": {
      "text/plain": [
       "{'train_RMSE:': 906.2222276609612,\n",
       " 'train_RMSE_to_std_ratio': 0.7851626167178055,\n",
       " 'train_MAE:': 598.708494124115,\n",
       " 'test_RMSE:': 866.6903457569676,\n",
       " 'test_RMSE_to_std_ratio': 0.7763823869026096,\n",
       " 'test_MAE:': 596.007297493811}"
      ]
     },
     "execution_count": 44,
     "metadata": {},
     "output_type": "execute_result"
    }
   ],
   "source": [
    "auto_xgb_no_reduction = ApplyMethod_autoML(\n",
    "    x_train=x_train,\n",
    "    x_test=x_holdout,\n",
    "    y_train=y_train,\n",
    "    y_test=y_holdout,\n",
    "    time_budget=180,\n",
    "    metric='mse',\n",
    "    estimator_list=['xgb_gamma','xgboost','xgb_limitdepth'],\n",
    "    task='regression',\n",
    "    run_cv=False,\n",
    "    cv_folds=5\n",
    ")\n",
    "auto_xgb_no_reduction[2]"
   ]
  },
  {
   "cell_type": "code",
   "execution_count": 138,
   "metadata": {},
   "outputs": [
    {
     "name": "stdout",
     "output_type": "stream",
     "text": [
      "Cross-validation results (RMSE): \n",
      "[924.6696, 967.5788, 972.99457, 897.3391, 884.804]\n",
      "Mean of cross-validation results (RMSE): 929.47723\n",
      "Best estimator: xgb_limitdepth\n",
      "Best configuration: \n",
      "{'n_estimators': 320, 'max_depth': 8, 'min_child_weight': 1.6246436031409632, 'learning_rate': 0.13924406975323256, 'subsample': 0.6897177882905062, 'colsample_bylevel': 0.9440262969164847, 'colsample_bytree': 1.0, 'reg_alpha': 0.005098546530512515, 'reg_lambda': 102.08934941463467}\n"
     ]
    }
   ],
   "source": [
    "print(\"Cross-validation results (RMSE): \")\n",
    "print(auto_xgb_no_reduction[3])\n",
    "print(\"Mean of cross-validation results (RMSE): \" + str(np.mean(auto_xgb_no_reduction[3])))\n",
    "print(\"Best estimator: \" + auto_xgb_no_reduction[0].best_estimator)\n",
    "print(\"Best configuration: \")\n",
    "print(auto_xgb_no_reduction[0].best_config)"
   ]
  },
  {
   "cell_type": "code",
   "execution_count": 45,
   "metadata": {},
   "outputs": [
    {
     "data": {
      "text/html": [
       "<div>\n",
       "<style scoped>\n",
       "    .dataframe tbody tr th:only-of-type {\n",
       "        vertical-align: middle;\n",
       "    }\n",
       "\n",
       "    .dataframe tbody tr th {\n",
       "        vertical-align: top;\n",
       "    }\n",
       "\n",
       "    .dataframe thead th {\n",
       "        text-align: right;\n",
       "    }\n",
       "</style>\n",
       "<table border=\"1\" class=\"dataframe\">\n",
       "  <thead>\n",
       "    <tr style=\"text-align: right;\">\n",
       "      <th></th>\n",
       "      <th>features</th>\n",
       "      <th>importance</th>\n",
       "    </tr>\n",
       "  </thead>\n",
       "  <tbody>\n",
       "    <tr>\n",
       "      <th>20</th>\n",
       "      <td>hour_mean_total_outstanding_orders</td>\n",
       "      <td>0.242148</td>\n",
       "    </tr>\n",
       "    <tr>\n",
       "      <th>10</th>\n",
       "      <td>est_time_non-prep</td>\n",
       "      <td>0.116266</td>\n",
       "    </tr>\n",
       "    <tr>\n",
       "      <th>16</th>\n",
       "      <td>onshift_to_outstanding</td>\n",
       "      <td>0.070525</td>\n",
       "    </tr>\n",
       "    <tr>\n",
       "      <th>31</th>\n",
       "      <td>hour_busy_outs_avg</td>\n",
       "      <td>0.051137</td>\n",
       "    </tr>\n",
       "    <tr>\n",
       "      <th>21</th>\n",
       "      <td>hour_mean_total_onshift_dashers</td>\n",
       "      <td>0.049111</td>\n",
       "    </tr>\n",
       "    <tr>\n",
       "      <th>53</th>\n",
       "      <td>store_day_median_total_prep_time</td>\n",
       "      <td>0.032786</td>\n",
       "    </tr>\n",
       "    <tr>\n",
       "      <th>35</th>\n",
       "      <td>market_day_mean_total_outstanding_orders</td>\n",
       "      <td>0.032590</td>\n",
       "    </tr>\n",
       "    <tr>\n",
       "      <th>49</th>\n",
       "      <td>store_day_of_week_est_time_prep_per_item_mean</td>\n",
       "      <td>0.022351</td>\n",
       "    </tr>\n",
       "    <tr>\n",
       "      <th>15</th>\n",
       "      <td>busy_to_outstanding</td>\n",
       "      <td>0.020434</td>\n",
       "    </tr>\n",
       "    <tr>\n",
       "      <th>12</th>\n",
       "      <td>orders_without_dashers</td>\n",
       "      <td>0.019857</td>\n",
       "    </tr>\n",
       "    <tr>\n",
       "      <th>38</th>\n",
       "      <td>created_day_mean_total_outstanding_orders</td>\n",
       "      <td>0.016961</td>\n",
       "    </tr>\n",
       "    <tr>\n",
       "      <th>1</th>\n",
       "      <td>subtotal</td>\n",
       "      <td>0.016721</td>\n",
       "    </tr>\n",
       "    <tr>\n",
       "      <th>54</th>\n",
       "      <td>store_day_mean_total_prep_time</td>\n",
       "      <td>0.012855</td>\n",
       "    </tr>\n",
       "    <tr>\n",
       "      <th>46</th>\n",
       "      <td>store_day_of_week_est_time_prep_per_item_min</td>\n",
       "      <td>0.011240</td>\n",
       "    </tr>\n",
       "    <tr>\n",
       "      <th>51</th>\n",
       "      <td>store_est_median_total_prep_time</td>\n",
       "      <td>0.010350</td>\n",
       "    </tr>\n",
       "  </tbody>\n",
       "</table>\n",
       "</div>"
      ],
      "text/plain": [
       "                                         features  importance\n",
       "20             hour_mean_total_outstanding_orders    0.242148\n",
       "10                              est_time_non-prep    0.116266\n",
       "16                         onshift_to_outstanding    0.070525\n",
       "31                             hour_busy_outs_avg    0.051137\n",
       "21                hour_mean_total_onshift_dashers    0.049111\n",
       "53               store_day_median_total_prep_time    0.032786\n",
       "35       market_day_mean_total_outstanding_orders    0.032590\n",
       "49  store_day_of_week_est_time_prep_per_item_mean    0.022351\n",
       "15                            busy_to_outstanding    0.020434\n",
       "12                         orders_without_dashers    0.019857\n",
       "38      created_day_mean_total_outstanding_orders    0.016961\n",
       "1                                        subtotal    0.016721\n",
       "54                 store_day_mean_total_prep_time    0.012855\n",
       "46   store_day_of_week_est_time_prep_per_item_min    0.011240\n",
       "51               store_est_median_total_prep_time    0.010350"
      ]
     },
     "execution_count": 45,
     "metadata": {},
     "output_type": "execute_result"
    }
   ],
   "source": [
    "auto_xgb_no_reduction[1].sort_values(by='importance',ascending=False).head(15)"
   ]
  },
  {
   "cell_type": "code",
   "execution_count": 78,
   "metadata": {},
   "outputs": [
    {
     "data": {
      "text/plain": [
       "[<flaml.automl.model.XGBoostLimitDepthEstimator at 0x2d4b45e3280>,\n",
       " <flaml.automl.model.XGBoostLimitDepthEstimator at 0x2d4b465adc0>,\n",
       " <flaml.automl.model.XGBoostLimitDepthEstimator at 0x2d4b45e3490>,\n",
       " <flaml.automl.model.XGBoostLimitDepthEstimator at 0x2d48daf35b0>,\n",
       " <flaml.automl.model.XGBoostSklearnEstimator at 0x2d4b45e7790>]"
      ]
     },
     "execution_count": 78,
     "metadata": {},
     "output_type": "execute_result"
    }
   ],
   "source": [
    "auto_xgb_cv = ApplyMethod_autoML_cv_ensemble(\n",
    "    x_train=x_train,\n",
    "    x_test=x_holdout,\n",
    "    y_train=y_train,\n",
    "    y_test=y_holdout,\n",
    "    time_budget=180,\n",
    "    metric='mse',\n",
    "    estimator_list=['xgb_gamma','xgboost','xgb_limitdepth'],\n",
    "    task='regression',\n",
    "    cv_folds=5\n",
    ")\n",
    "auto_xgb_cv[2]"
   ]
  },
  {
   "cell_type": "code",
   "execution_count": 91,
   "metadata": {},
   "outputs": [
    {
     "name": "stdout",
     "output_type": "stream",
     "text": [
      "Cross-validation results (RMSE): \n",
      "[764.5794060032332, 766.2712795989736, 757.600724721148, 792.9816669928537, 844.7342577630092]\n",
      "Mean of cross-validation results (RMSE): \n",
      "785.2334670158436\n",
      "RMSE scores of cv models against holdout: \n",
      "[842.1314633393378, 840.0196979261668, 840.8673760719671, 839.4876240369017, 840.9323899450047]\n",
      "Average RMSE score (ensemble score): \n",
      "840.6877102638757\n"
     ]
    }
   ],
   "source": [
    "print('Cross-validation results (RMSE): ')\n",
    "print(auto_xgb_cv[0])\n",
    "print('Mean of cross-validation results (RMSE): ')\n",
    "print(np.mean(auto_xgb_cv[0]))\n",
    "\n",
    "print('RMSE scores of cv models against holdout: ')\n",
    "print(auto_xgb_cv[1])\n",
    "print('Average RMSE score (ensemble score): ')\n",
    "print(np.mean(auto_xgb_cv[1]))"
   ]
  },
  {
   "cell_type": "code",
   "execution_count": 136,
   "metadata": {},
   "outputs": [
    {
     "data": {
      "text/plain": [
       "{'baseline_MAE:': 783.5442750429107, 'baseline_RMSE:': 19249.89784985233}"
      ]
     },
     "execution_count": 136,
     "metadata": {},
     "output_type": "execute_result"
    }
   ],
   "source": [
    "# does the first attempt at modeling improve on a baseline, average-derived model?\n",
    "createBaseline(historical_data=train_df)"
   ]
  },
  {
   "attachments": {},
   "cell_type": "markdown",
   "metadata": {},
   "source": [
    "### Results so far\n",
    "\n",
    "First and foremost, is the work and expense of building and maintaining a model worthwhile when compared to a simple 'baseline' approach that uses averages? The results for that baseline model are as follows:\n",
    "\n",
    "    {'baseline_MAE:': 783.5442750429107, 'baseline_RMSE:': 19249.89784985233}\n",
    "\n",
    "I scoured the internet and found two other worked examples that appear to use this dataset:\n",
    "\n",
    "    Stratascratch: holdout RMSE: 986.6912510458277, holdout_size: 0.2,\n",
    "    raihanmasud (github): mean 5-fold cv RMSE: 1030.6837, holdout RMSE: 1012, holdout_size: 0.33\n",
    "\n",
    "Performance statistics for my xgboost model against a holdout sample size of 0.2 are as follows:\n",
    "\n",
    "    {'train_RMSE:': 800.0005,\n",
    "    'train_RMSE_to_std_ratio': 0.6904016675988109,\n",
    "    'train_MAE:': 527.19244,\n",
    "    'test_RMSE:': 876.9018,\n",
    "    'test_RMSE_to_std_ratio': 0.7768734571659632,\n",
    "    'test_MAE:': 597.0269}\n",
    "\n",
    "    Cross-validation results (RMSE): \n",
    "    [924.6696, 967.5788, 972.99457, 897.3391, 884.804]\n",
    "\n",
    "    Mean of cross-validation results (RMSE): 929.47723\n",
    "\n",
    "Performance statistics for my xgboost model against a holdout size of 0.33:\n",
    "\n",
    "    {'train_RMSE:': 873.4991,\n",
    "    'train_RMSE_to_std_ratio': 0.7611590838185001,\n",
    "    'train_MAE:': 581.7427,\n",
    "    'test_RMSE:': 926.9857,\n",
    "    'test_RMSE_to_std_ratio': 0.7968259664464706,\n",
    "    'test_MAE:': 605.92535}\n",
    "\n",
    "Conclusions:\n",
    "1. The time, effort and expense of building and maintaining a model to predict total delivery time is validated by the comparative performance of the baseline approach.\n",
    "2. There are two significant differences between my approach to this problem and the two other worked examples I found that I believe explain my superior performance. The first difference is the generic per-store order prep time features (addFeatures_store_prep_stats) and the market+hour aggregation features (addFeatures_relative_abundances). The author of the Stratascratch notebook attempted to predict order prep time and raihanmasud did not bother with prep time at all. Neither user bothered to generate aggregate values based on the most important features for their models. The second difference is my use of autoML to do hyperparameter tuning. Raihanmasud hard-coded hyperparameters for their model and the author of the official Stratascratch notebook did not bother with hyperparameter tuning at all.\n",
    "\n",
    "Other observations:\n",
    "1. Giving the model leaky features like the amount of time an order spent in the store (delivery_time - (est_order_creation_time + est_driving_duration)) as well as removing observations with high error produces a cross-validated RMSE scores between 250-350. The best holdout RMSE was around 240. From this one could infer that there is a performance floor.\n",
    "2. Ratio features and store order preparation time features make up eleven of the top fifteen features and eight of the top ten features when ranked by importance. per the graph below there is also a visible increase in the delivery duration when the onshift-to-outstanding ratio decreases, either from high order volumes or low Dasher counts.\n",
    "3. The table of category prep time metrics do not appear to have a significant effect on estimation, so those features can be left out of the final pipeline. \n",
    "4. Variance and independent population analysis confirmed that most of the markets have different hourly average order volumes, but the second-most important feature to the model so far is 'hour_mean_total_outstanding_orders', a basic average aggregation of order volumes across all markets.\n",
    "5. Normalizing the dataset with a scaler does not produce a significantly better RMSE against the same holdout/test dataset (scaled RMSE 872.52985, unscaled RMSE 876.9018) despite taking longer to train a model.\n"
   ]
  },
  {
   "cell_type": "code",
   "execution_count": 154,
   "metadata": {},
   "outputs": [
    {
     "data": {
      "text/plain": [
       "<AxesSubplot:xlabel='onshift_to_outstanding', ylabel='actual_total_delivery_duration'>"
      ]
     },
     "execution_count": 154,
     "metadata": {},
     "output_type": "execute_result"
    },
    {
     "data": {
      "image/png": "[encoded data removed]",
      "text/plain": [
       "<Figure size 640x480 with 1 Axes>"
      ]
     },
     "metadata": {},
     "output_type": "display_data"
    }
   ],
   "source": [
    "train_df.plot.scatter(x='onshift_to_outstanding',y='actual_total_delivery_duration')"
   ]
  },
  {
   "attachments": {},
   "cell_type": "markdown",
   "metadata": {},
   "source": [
    "#### What is the relationship between error and acutal_total_delivery_duration?\n",
    "\n",
    "One could argue that scedasticity does not matter when we make predictions using gradient-boosted-trees - tree-based models are almost invariant to monotonic transformations - but transforms do affect split points. To that end, a test for scedasticity could improve our model if the conditional variance of the data is not constant.\n",
    "\n",
    "Per the plots below, the variance of the error looks homoscedastic. Trying to actually run White's Lagrange test for heteroscedasticity needs more memory than I can give it."
   ]
  },
  {
   "cell_type": "code",
   "execution_count": 84,
   "metadata": {},
   "outputs": [
    {
     "name": "stdout",
     "output_type": "stream",
     "text": [
      "AxesSubplot(0.125,0.11;0.775x0.77)\n"
     ]
    },
    {
     "data": {
      "image/png": "[encoded data removed]",
      "text/plain": [
       "<Figure size 640x480 with 1 Axes>"
      ]
     },
     "metadata": {},
     "output_type": "display_data"
    }
   ],
   "source": [
    "model = auto_xgb_no_reduction[0]\n",
    "y_hat = model.predict(x_holdout)\n",
    "error_train_df = x_holdout.copy()\n",
    "error_train_df['yhat'] = y_hat.reshape(-1,1)\n",
    "error_train_df = error_train_df.join(train_df[['actual_total_delivery_duration']])\n",
    "error_train_df['error'] = error_train_df['actual_total_delivery_duration'] - error_train_df['yhat']\n",
    "error_train_df['error_variance'] = error_train_df['error'] - error_train_df['error'].mean()\n",
    "print(error_train_df.plot.scatter(x='error_variance',y='actual_total_delivery_duration'))\n",
    "#error_train_df = error_train_df.drop(columns=['yhat','error','error_variance'])"
   ]
  },
  {
   "cell_type": "code",
   "execution_count": null,
   "metadata": {},
   "outputs": [],
   "source": [
    "## DO NOT RUN THIS CELL unless you are very invested in knowing the scedasticity of the data. It is extremely compute and memory intensive.\n",
    "# More to the point, scedasticity arguably does not matter for gradient-boosted trees\n",
    "white_test = het_white(resid=error_train_df['error'].values,exog=x_holdout.values)\n",
    "white_labels = ['Test Statistic', 'Test Statistic p-value', 'F-Statistic', 'F-Test p-value']\n",
    "print(dict(zip(white_labels,white_test)))"
   ]
  },
  {
   "attachments": {},
   "cell_type": "markdown",
   "metadata": {},
   "source": [
    "### What about a model that predicts order prep/in-store time?\n",
    "\n",
    "1. Is the amount of time an order spends in the restaurant (prep time) an important feature? \n",
    "2. Would the accuracy of a total delivery time model be improved by having an estimation of order preparation time for each order?\n",
    "3. Assuming the answers to the first two questions are true, is it worth keeping the store and category prepartion stats 'tables' I made during the feature engineering step?"
   ]
  },
  {
   "cell_type": "code",
   "execution_count": 59,
   "metadata": {},
   "outputs": [],
   "source": [
    "def append_prep_feature(x_train,x_test,y_train,y_test):\n",
    "## returns est_order_total_prep_time from a pre-existing train-test data set\n",
    "    train,test = x_train.join(y_train),x_holdout.join(y_holdout)\n",
    "    train['est_order_total_prep_time'] = train['actual_total_delivery_duration'] - train['est_time_non-prep']\n",
    "    test['est_order_total_prep_time'] = test['actual_total_delivery_duration'] - test['est_time_non-prep']\n",
    "    y_train_prep,y_holdout_prep = pd.Series(train['est_order_total_prep_time']),pd.Series(test['est_order_total_prep_time'])\n",
    "    return y_train_prep,y_holdout_prep"
   ]
  },
  {
   "cell_type": "code",
   "execution_count": 178,
   "metadata": {},
   "outputs": [
    {
     "data": {
      "text/plain": [
       "{'train_RMSE:': 312.8918,\n",
       " 'train_RMSE_to_std_ratio': 0.270026123916784,\n",
       " 'train_MAE:': 27.744295,\n",
       " 'test_RMSE:': 251.92336,\n",
       " 'test_RMSE_to_std_ratio': 0.2231864150144342,\n",
       " 'test_MAE:': 26.811071}"
      ]
     },
     "execution_count": 178,
     "metadata": {},
     "output_type": "execute_result"
    }
   ],
   "source": [
    "## first and foremost, is this model worth building? Is in-store time an important feature?\n",
    "train,test = x_train.join(y_train),x_holdout.join(y_holdout)\n",
    "train['est_order_total_prep_time'] = train['actual_total_delivery_duration'] - train['est_time_non-prep']\n",
    "test['est_order_total_prep_time'] = test['actual_total_delivery_duration'] - test['est_time_non-prep']\n",
    "\n",
    "hypoth_feature_importances = ApplyMethod_autoML(\n",
    "    x_train=train,\n",
    "    x_test=test,\n",
    "    y_train=y_train,\n",
    "    y_test=y_holdout,\n",
    "    time_budget=60,\n",
    "    metric='mse',\n",
    "    estimator_list=['xgb_gamma','xgboost'],\n",
    "    task='regression',\n",
    "    run_cv=False,\n",
    "    cv_folds=5\n",
    ")\n",
    "hypoth_feature_importances[2]"
   ]
  },
  {
   "cell_type": "code",
   "execution_count": 179,
   "metadata": {},
   "outputs": [
    {
     "data": {
      "text/html": [
       "<div>\n",
       "<style scoped>\n",
       "    .dataframe tbody tr th:only-of-type {\n",
       "        vertical-align: middle;\n",
       "    }\n",
       "\n",
       "    .dataframe tbody tr th {\n",
       "        vertical-align: top;\n",
       "    }\n",
       "\n",
       "    .dataframe thead th {\n",
       "        text-align: right;\n",
       "    }\n",
       "</style>\n",
       "<table border=\"1\" class=\"dataframe\">\n",
       "  <thead>\n",
       "    <tr style=\"text-align: right;\">\n",
       "      <th></th>\n",
       "      <th>features</th>\n",
       "      <th>importance</th>\n",
       "    </tr>\n",
       "  </thead>\n",
       "  <tbody>\n",
       "    <tr>\n",
       "      <th>156</th>\n",
       "      <td>est_order_total_prep_time</td>\n",
       "      <td>0.348091</td>\n",
       "    </tr>\n",
       "    <tr>\n",
       "      <th>10</th>\n",
       "      <td>est_time_non-prep</td>\n",
       "      <td>0.209039</td>\n",
       "    </tr>\n",
       "    <tr>\n",
       "      <th>21</th>\n",
       "      <td>hour_mean_total_onshift_dashers</td>\n",
       "      <td>0.115692</td>\n",
       "    </tr>\n",
       "    <tr>\n",
       "      <th>16</th>\n",
       "      <td>onshift_to_outstanding</td>\n",
       "      <td>0.113821</td>\n",
       "    </tr>\n",
       "    <tr>\n",
       "      <th>9</th>\n",
       "      <td>estimated_store_to_consumer_driving_duration</td>\n",
       "      <td>0.084944</td>\n",
       "    </tr>\n",
       "    <tr>\n",
       "      <th>37</th>\n",
       "      <td>store_est_time_prep_per_item_median</td>\n",
       "      <td>0.031350</td>\n",
       "    </tr>\n",
       "    <tr>\n",
       "      <th>38</th>\n",
       "      <td>store_est_time_prep_per_item_mean</td>\n",
       "      <td>0.030787</td>\n",
       "    </tr>\n",
       "    <tr>\n",
       "      <th>39</th>\n",
       "      <td>store_est_time_prep_per_item_std</td>\n",
       "      <td>0.026761</td>\n",
       "    </tr>\n",
       "    <tr>\n",
       "      <th>36</th>\n",
       "      <td>store_est_time_prep_per_item_max</td>\n",
       "      <td>0.016004</td>\n",
       "    </tr>\n",
       "    <tr>\n",
       "      <th>8</th>\n",
       "      <td>estimated_order_place_duration</td>\n",
       "      <td>0.004808</td>\n",
       "    </tr>\n",
       "    <tr>\n",
       "      <th>15</th>\n",
       "      <td>busy_to_outstanding</td>\n",
       "      <td>0.001589</td>\n",
       "    </tr>\n",
       "    <tr>\n",
       "      <th>22</th>\n",
       "      <td>hour_mean_total_busy_dashers</td>\n",
       "      <td>0.001394</td>\n",
       "    </tr>\n",
       "    <tr>\n",
       "      <th>20</th>\n",
       "      <td>hour_mean_total_outstanding_orders</td>\n",
       "      <td>0.001217</td>\n",
       "    </tr>\n",
       "    <tr>\n",
       "      <th>31</th>\n",
       "      <td>hour_busy_outs_avg</td>\n",
       "      <td>0.000858</td>\n",
       "    </tr>\n",
       "    <tr>\n",
       "      <th>124</th>\n",
       "      <td>order_protocol__1.0</td>\n",
       "      <td>0.000821</td>\n",
       "    </tr>\n",
       "  </tbody>\n",
       "</table>\n",
       "</div>"
      ],
      "text/plain": [
       "                                         features  importance\n",
       "156                     est_order_total_prep_time    0.348091\n",
       "10                              est_time_non-prep    0.209039\n",
       "21                hour_mean_total_onshift_dashers    0.115692\n",
       "16                         onshift_to_outstanding    0.113821\n",
       "9    estimated_store_to_consumer_driving_duration    0.084944\n",
       "37            store_est_time_prep_per_item_median    0.031350\n",
       "38              store_est_time_prep_per_item_mean    0.030787\n",
       "39               store_est_time_prep_per_item_std    0.026761\n",
       "36               store_est_time_prep_per_item_max    0.016004\n",
       "8                  estimated_order_place_duration    0.004808\n",
       "15                            busy_to_outstanding    0.001589\n",
       "22                   hour_mean_total_busy_dashers    0.001394\n",
       "20             hour_mean_total_outstanding_orders    0.001217\n",
       "31                             hour_busy_outs_avg    0.000858\n",
       "124                           order_protocol__1.0    0.000821"
      ]
     },
     "execution_count": 179,
     "metadata": {},
     "output_type": "execute_result"
    }
   ],
   "source": [
    "hypoth_feature_importances[1].sort_values(by='importance',ascending=False).head(15)"
   ]
  },
  {
   "attachments": {},
   "cell_type": "markdown",
   "metadata": {},
   "source": [
    "Per the performance scores and feature importance table above, providing a delivery time estimation model with an order prep time estimation greatly improves the quality of estimations. Since the feature est_order_total_prep_time is leaky (it depends on the value we are trying to predict), we will need to estimate it instead."
   ]
  },
  {
   "cell_type": "code",
   "execution_count": 60,
   "metadata": {},
   "outputs": [],
   "source": [
    "y_train_prep,y_holdout_prep = append_prep_feature(x_train=x_train,x_test=x_holdout,y_train=y_train,y_test=y_holdout)"
   ]
  },
  {
   "cell_type": "code",
   "execution_count": 61,
   "metadata": {},
   "outputs": [
    {
     "data": {
      "text/plain": [
       "{'train_RMSE:': 800.6859330186857,\n",
       " 'train_RMSE_to_std_ratio': 0.715663472982321,\n",
       " 'train_MAE:': 552.6452205371852,\n",
       " 'test_RMSE:': 842.2164553161729,\n",
       " 'test_RMSE_to_std_ratio': 0.7788351970887283,\n",
       " 'test_MAE:': 564.320195743545}"
      ]
     },
     "execution_count": 61,
     "metadata": {},
     "output_type": "execute_result"
    }
   ],
   "source": [
    "prep_est_model = ApplyMethod_autoML(\n",
    "    x_train=x_train,\n",
    "    x_test=x_holdout,\n",
    "    y_train=y_train_prep,\n",
    "    y_test=y_holdout_prep,\n",
    "    time_budget=180,\n",
    "    metric='mse',\n",
    "    estimator_list=['xgb_gamma','xgboost','xgb_limitdepth'],\n",
    "    task='regression',\n",
    "    cv_folds=5,\n",
    "    run_cv=False\n",
    ")\n",
    "prep_est_model[2]"
   ]
  },
  {
   "cell_type": "code",
   "execution_count": null,
   "metadata": {},
   "outputs": [],
   "source": [
    "prep_est_cv_model = ApplyMethod_autoML_cv_ensemble(\n",
    "    x_train=x_train,\n",
    "    x_test=x_holdout,\n",
    "    y_train=y_train_prep,\n",
    "    y_test=y_holdout_prep,\n",
    "    time_budget=180,\n",
    "    metric='mse',\n",
    "    estimator_list=['xgb_gamma','xgboost','xgb_limitdepth'],\n",
    "    task='regression',\n",
    "    cv_folds=5\n",
    ")"
   ]
  },
  {
   "cell_type": "code",
   "execution_count": 90,
   "metadata": {},
   "outputs": [
    {
     "name": "stdout",
     "output_type": "stream",
     "text": [
      "RMSE scores of cv models against holdout: \n",
      "[843.5441719919338, 839.5093461156963, 840.2338562223306, 838.207975286019, 840.5847270007723]\n",
      "Average RMSE score (ensemble score): \n",
      "840.4160153233504\n"
     ]
    }
   ],
   "source": [
    "print('RMSE scores of cv models against holdout: ')\n",
    "print(prep_est_cv_model[1])\n",
    "print('Average RMSE score (ensemble score): ')\n",
    "print(np.mean(prep_est_cv_model[1]))"
   ]
  },
  {
   "cell_type": "code",
   "execution_count": 62,
   "metadata": {},
   "outputs": [
    {
     "data": {
      "text/html": [
       "<div>\n",
       "<style scoped>\n",
       "    .dataframe tbody tr th:only-of-type {\n",
       "        vertical-align: middle;\n",
       "    }\n",
       "\n",
       "    .dataframe tbody tr th {\n",
       "        vertical-align: top;\n",
       "    }\n",
       "\n",
       "    .dataframe thead th {\n",
       "        text-align: right;\n",
       "    }\n",
       "</style>\n",
       "<table border=\"1\" class=\"dataframe\">\n",
       "  <thead>\n",
       "    <tr style=\"text-align: right;\">\n",
       "      <th></th>\n",
       "      <th>features</th>\n",
       "      <th>importance</th>\n",
       "    </tr>\n",
       "  </thead>\n",
       "  <tbody>\n",
       "    <tr>\n",
       "      <th>16</th>\n",
       "      <td>onshift_to_outstanding</td>\n",
       "      <td>0.116629</td>\n",
       "    </tr>\n",
       "    <tr>\n",
       "      <th>53</th>\n",
       "      <td>store_day_median_total_prep_time</td>\n",
       "      <td>0.065109</td>\n",
       "    </tr>\n",
       "    <tr>\n",
       "      <th>15</th>\n",
       "      <td>busy_to_outstanding</td>\n",
       "      <td>0.048599</td>\n",
       "    </tr>\n",
       "    <tr>\n",
       "      <th>49</th>\n",
       "      <td>store_day_of_week_est_time_prep_per_item_mean</td>\n",
       "      <td>0.039615</td>\n",
       "    </tr>\n",
       "    <tr>\n",
       "      <th>20</th>\n",
       "      <td>hour_mean_total_outstanding_orders</td>\n",
       "      <td>0.028834</td>\n",
       "    </tr>\n",
       "    <tr>\n",
       "      <th>46</th>\n",
       "      <td>store_day_of_week_est_time_prep_per_item_min</td>\n",
       "      <td>0.023976</td>\n",
       "    </tr>\n",
       "    <tr>\n",
       "      <th>21</th>\n",
       "      <td>hour_mean_total_onshift_dashers</td>\n",
       "      <td>0.022726</td>\n",
       "    </tr>\n",
       "    <tr>\n",
       "      <th>54</th>\n",
       "      <td>store_day_mean_total_prep_time</td>\n",
       "      <td>0.022209</td>\n",
       "    </tr>\n",
       "    <tr>\n",
       "      <th>28</th>\n",
       "      <td>market_hour_busy_dasher_abd</td>\n",
       "      <td>0.021592</td>\n",
       "    </tr>\n",
       "    <tr>\n",
       "      <th>31</th>\n",
       "      <td>hour_busy_outs_avg</td>\n",
       "      <td>0.020918</td>\n",
       "    </tr>\n",
       "    <tr>\n",
       "      <th>156</th>\n",
       "      <td>created_day_of_week__0</td>\n",
       "      <td>0.019794</td>\n",
       "    </tr>\n",
       "    <tr>\n",
       "      <th>50</th>\n",
       "      <td>store_day_of_week_est_time_prep_per_item_std</td>\n",
       "      <td>0.019534</td>\n",
       "    </tr>\n",
       "    <tr>\n",
       "      <th>152</th>\n",
       "      <td>created_hour_of_day__20</td>\n",
       "      <td>0.016675</td>\n",
       "    </tr>\n",
       "    <tr>\n",
       "      <th>51</th>\n",
       "      <td>store_est_median_total_prep_time</td>\n",
       "      <td>0.014203</td>\n",
       "    </tr>\n",
       "    <tr>\n",
       "      <th>24</th>\n",
       "      <td>market_hour_onshift_to_outstanding_abd</td>\n",
       "      <td>0.013620</td>\n",
       "    </tr>\n",
       "  </tbody>\n",
       "</table>\n",
       "</div>"
      ],
      "text/plain": [
       "                                          features  importance\n",
       "16                          onshift_to_outstanding    0.116629\n",
       "53                store_day_median_total_prep_time    0.065109\n",
       "15                             busy_to_outstanding    0.048599\n",
       "49   store_day_of_week_est_time_prep_per_item_mean    0.039615\n",
       "20              hour_mean_total_outstanding_orders    0.028834\n",
       "46    store_day_of_week_est_time_prep_per_item_min    0.023976\n",
       "21                 hour_mean_total_onshift_dashers    0.022726\n",
       "54                  store_day_mean_total_prep_time    0.022209\n",
       "28                     market_hour_busy_dasher_abd    0.021592\n",
       "31                              hour_busy_outs_avg    0.020918\n",
       "156                         created_day_of_week__0    0.019794\n",
       "50    store_day_of_week_est_time_prep_per_item_std    0.019534\n",
       "152                        created_hour_of_day__20    0.016675\n",
       "51                store_est_median_total_prep_time    0.014203\n",
       "24          market_hour_onshift_to_outstanding_abd    0.013620"
      ]
     },
     "execution_count": 62,
     "metadata": {},
     "output_type": "execute_result"
    }
   ],
   "source": [
    "prep_est_model[1].sort_values(by='importance',ascending=False).head(15)"
   ]
  },
  {
   "cell_type": "code",
   "execution_count": 63,
   "metadata": {},
   "outputs": [],
   "source": [
    "yhat_train,yhat_test = prep_est_model[0].predict(x_train),prep_est_model[0].predict(x_holdout)\n",
    "composite_train,composite_test = x_train,x_holdout\n",
    "composite_train['pred_order_prep_time'],composite_test['pred_order_prep_time'] = yhat_train.reshape(-1,1),yhat_test.reshape(-1,1)\n",
    "#composite_train['composite_deliv_time'],composite_test['composite_deliv_time'] = composite_train['pred_order_prep_time'] + composite_train['est_time_non-prep'],composite_test['pred_order_prep_time'] + composite_test['est_time_non-prep']\n",
    "# composite_train,composite_test = composite_train.join(y_train),composite_test.join(y_holdout)"
   ]
  },
  {
   "cell_type": "code",
   "execution_count": 66,
   "metadata": {},
   "outputs": [
    {
     "data": {
      "text/plain": [
       "{'train_RMSE:': 743.8711855802673,\n",
       " 'train_RMSE_to_std_ratio': 0.6444995816078012,\n",
       " 'train_MAE:': 525.3830954523438,\n",
       " 'test_RMSE:': 839.3984891100266,\n",
       " 'test_RMSE_to_std_ratio': 0.7519343047123673,\n",
       " 'test_MAE:': 559.6701162579369}"
      ]
     },
     "execution_count": 66,
     "metadata": {},
     "output_type": "execute_result"
    }
   ],
   "source": [
    "composite_deliv_model = ApplyMethod_autoML(\n",
    "    x_train=composite_train.drop(columns=['actual_total_delivery_duration']),\n",
    "    x_test=composite_test.drop(columns=['actual_total_delivery_duration']),\n",
    "    y_train=y_train,\n",
    "    y_test=y_holdout,\n",
    "    time_budget=180,\n",
    "    metric='mse',\n",
    "    estimator_list=['xgb_gamma','xgboost','xgb_limitdepth'],\n",
    "    task='regression',\n",
    "    cv_folds=5,\n",
    "    run_cv=False\n",
    ")\n",
    "composite_deliv_model[2]"
   ]
  },
  {
   "attachments": {},
   "cell_type": "markdown",
   "metadata": {},
   "source": [
    "w/ composite_deliv_time:\n",
    "{'train_RMSE:': 815.1652,\n",
    " 'train_RMSE_to_std_ratio': 0.7034888565661281,\n",
    " 'train_MAE:': 570.45123,\n",
    " 'test_RMSE:': 912.44415,\n",
    " 'test_RMSE_to_std_ratio': 0.808361492679291,\n",
    " 'test_MAE:': 600.00836}\n",
    "\n",
    "cv RMSE scores: [867.7579, 910.20544, 906.0279, 855.9836, 840.6531]\n",
    "Mean RMSE from cv: 876.1256\n",
    "cv RMSE to y-true std: 0.7761858125345661\n",
    "\n",
    " w/o composite_deliv_time:\n",
    "{'train_RMSE:': 793.01575,\n",
    " 'train_RMSE_to_std_ratio': 0.6843738250531922,\n",
    " 'train_MAE:': 559.7056,\n",
    " 'test_RMSE:': 907.7776,\n",
    " 'test_RMSE_to_std_ratio': 0.8042272435967454,\n",
    " 'test_MAE:': 600.7541}\n",
    "\n",
    "[860.98395, 901.5238, 898.82605, 853.83453, 833.52484]\n",
    "869.73865\n",
    "0.7705274115903241"
   ]
  },
  {
   "cell_type": "code",
   "execution_count": 196,
   "metadata": {},
   "outputs": [
    {
     "name": "stdout",
     "output_type": "stream",
     "text": [
      "[860.98395, 901.5238, 898.82605, 853.83453, 833.52484]\n",
      "869.73865\n",
      "0.7705274115903241\n"
     ]
    }
   ],
   "source": [
    "print(composite_deliv_model[3])\n",
    "print(np.mean(composite_deliv_model[3]))\n",
    "print(np.mean(composite_deliv_model[3])/np.std(composite_test['actual_total_delivery_duration']))"
   ]
  },
  {
   "cell_type": "code",
   "execution_count": 67,
   "metadata": {},
   "outputs": [
    {
     "data": {
      "text/html": [
       "<div>\n",
       "<style scoped>\n",
       "    .dataframe tbody tr th:only-of-type {\n",
       "        vertical-align: middle;\n",
       "    }\n",
       "\n",
       "    .dataframe tbody tr th {\n",
       "        vertical-align: top;\n",
       "    }\n",
       "\n",
       "    .dataframe thead th {\n",
       "        text-align: right;\n",
       "    }\n",
       "</style>\n",
       "<table border=\"1\" class=\"dataframe\">\n",
       "  <thead>\n",
       "    <tr style=\"text-align: right;\">\n",
       "      <th></th>\n",
       "      <th>features</th>\n",
       "      <th>importance</th>\n",
       "    </tr>\n",
       "  </thead>\n",
       "  <tbody>\n",
       "    <tr>\n",
       "      <th>163</th>\n",
       "      <td>pred_order_prep_time</td>\n",
       "      <td>0.314096</td>\n",
       "    </tr>\n",
       "    <tr>\n",
       "      <th>10</th>\n",
       "      <td>est_time_non-prep</td>\n",
       "      <td>0.050941</td>\n",
       "    </tr>\n",
       "    <tr>\n",
       "      <th>9</th>\n",
       "      <td>estimated_store_to_consumer_driving_duration</td>\n",
       "      <td>0.022149</td>\n",
       "    </tr>\n",
       "    <tr>\n",
       "      <th>128</th>\n",
       "      <td>market_id__4.0</td>\n",
       "      <td>0.012894</td>\n",
       "    </tr>\n",
       "    <tr>\n",
       "      <th>16</th>\n",
       "      <td>onshift_to_outstanding</td>\n",
       "      <td>0.012503</td>\n",
       "    </tr>\n",
       "    <tr>\n",
       "      <th>76</th>\n",
       "      <td>clean_store_primary_category__dessert</td>\n",
       "      <td>0.011970</td>\n",
       "    </tr>\n",
       "    <tr>\n",
       "      <th>0</th>\n",
       "      <td>total_items</td>\n",
       "      <td>0.010003</td>\n",
       "    </tr>\n",
       "    <tr>\n",
       "      <th>21</th>\n",
       "      <td>hour_mean_total_onshift_dashers</td>\n",
       "      <td>0.009541</td>\n",
       "    </tr>\n",
       "    <tr>\n",
       "      <th>8</th>\n",
       "      <td>estimated_order_place_duration</td>\n",
       "      <td>0.009181</td>\n",
       "    </tr>\n",
       "    <tr>\n",
       "      <th>58</th>\n",
       "      <td>clean_store_primary_category__american</td>\n",
       "      <td>0.008342</td>\n",
       "    </tr>\n",
       "    <tr>\n",
       "      <th>31</th>\n",
       "      <td>hour_busy_outs_avg</td>\n",
       "      <td>0.008217</td>\n",
       "    </tr>\n",
       "    <tr>\n",
       "      <th>88</th>\n",
       "      <td>clean_store_primary_category__indian</td>\n",
       "      <td>0.008135</td>\n",
       "    </tr>\n",
       "    <tr>\n",
       "      <th>107</th>\n",
       "      <td>clean_store_primary_category__pizza</td>\n",
       "      <td>0.007882</td>\n",
       "    </tr>\n",
       "    <tr>\n",
       "      <th>101</th>\n",
       "      <td>clean_store_primary_category__nepalese</td>\n",
       "      <td>0.007684</td>\n",
       "    </tr>\n",
       "    <tr>\n",
       "      <th>77</th>\n",
       "      <td>clean_store_primary_category__dim-sum</td>\n",
       "      <td>0.007580</td>\n",
       "    </tr>\n",
       "  </tbody>\n",
       "</table>\n",
       "</div>"
      ],
      "text/plain": [
       "                                         features  importance\n",
       "163                          pred_order_prep_time    0.314096\n",
       "10                              est_time_non-prep    0.050941\n",
       "9    estimated_store_to_consumer_driving_duration    0.022149\n",
       "128                                market_id__4.0    0.012894\n",
       "16                         onshift_to_outstanding    0.012503\n",
       "76          clean_store_primary_category__dessert    0.011970\n",
       "0                                     total_items    0.010003\n",
       "21                hour_mean_total_onshift_dashers    0.009541\n",
       "8                  estimated_order_place_duration    0.009181\n",
       "58         clean_store_primary_category__american    0.008342\n",
       "31                             hour_busy_outs_avg    0.008217\n",
       "88           clean_store_primary_category__indian    0.008135\n",
       "107           clean_store_primary_category__pizza    0.007882\n",
       "101        clean_store_primary_category__nepalese    0.007684\n",
       "77          clean_store_primary_category__dim-sum    0.007580"
      ]
     },
     "execution_count": 67,
     "metadata": {},
     "output_type": "execute_result"
    }
   ],
   "source": [
    "composite_deliv_model[1].sort_values(by='importance',ascending=False).head(15)"
   ]
  },
  {
   "attachments": {},
   "cell_type": "markdown",
   "metadata": {},
   "source": [
    "Despite adding a new and promising feature, the inability of the first model to accurately estimate the amount of time an order spends in the store produces a somewhat disappointing outcome. The cross-validated RMSE is only 869.73865."
   ]
  }
 ],
 "metadata": {
  "kernelspec": {
   "display_name": "Python 3.9.7 ('base')",
   "language": "python",
   "name": "python3"
  },
  "language_info": {
   "codemirror_mode": {
    "name": "ipython",
    "version": 3
   },
   "file_extension": ".py",
   "mimetype": "text/x-python",
   "name": "python",
   "nbconvert_exporter": "python",
   "pygments_lexer": "ipython3",
   "version": "3.9.15"
  },
  "orig_nbformat": 4,
  "vscode": {
   "interpreter": {
    "hash": "96d1af5f869624c072d9e03e4f7fcffed44526ca720f1a36a76cd678c41e0e80"
   }
  }
 },
 "nbformat": 4,
 "nbformat_minor": 2
}
