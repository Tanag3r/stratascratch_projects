{
 "cells": [
  {
   "attachments": {},
   "cell_type": "markdown",
   "metadata": {},
   "source": [
    "## Delivery Duration Prediction\n",
    "\n",
    "When a consumer places an order on DoorDash, we show the expected time of delivery. It is very important for DoorDash to get this right, as it has a big impact on consumer experience. In this exercise, you will build a model to predict the estimated time taken for a delivery.\n",
    "\n",
    "Concretely, for a given delivery you must predict the total delivery duration seconds , i.e., the time taken from:\n",
    "\n",
    "__Start:__ the time consumer submits the order `(created_at)` to\n",
    "\n",
    "__End:__ when the order will be delivered to the consumer `(actual_delivery_time)`\n",
    "\n",
    "#### My Approach\n",
    "\n",
    "The dataset comes with two other predicted values: `estimated_order_place_duration` and `estimated_store_to_consumer_driving_duration`. The missing piece is the amount of time the order spends in the store. In addition to generic feature engineering, I will be creating separate order 'prep_time' statistics tables/dataframes to simulate gold fact tables in a database or features from a feature store (i.e. Feather, Feast) that would in turn live in a data lake.\n",
    "\n",
    "This is a fairly popular exercise so it is possible to derive performance objectives. My goal is to produce a feature set and model that has a test RMSE of less than 900 seconds against a holdout size of 0.2, a cross-validated RMSE of less than 950 and a test MAE of less than 600 seconds. My stretch goal is a cross-validated RMSE less than 900. For reference, the best models publically available produce a test RMSE around 980 - 1000 seconds with a holdout size of 0.2. "
   ]
  },
  {
   "cell_type": "code",
   "execution_count": 20,
   "metadata": {},
   "outputs": [],
   "source": [
    "import warnings\n",
    "warnings.simplefilter(action='ignore',category=FutureWarning)\n",
    "\n",
    "import pandas as pd\n",
    "import numpy as np\n",
    "import scipy.stats as stats\n",
    "import matplotlib.pyplot as plt\n",
    "from datetime import datetime as dt\n",
    "from datetime import timedelta\n",
    "\n",
    "from statsmodels.stats.outliers_influence import variance_inflation_factor\n",
    "from statsmodels.stats.diagnostic import het_white\n",
    "from statsmodels.tools import add_constant\n",
    "from sklearn.model_selection import train_test_split\n",
    "from sklearn.model_selection import KFold\n",
    "from sklearn.model_selection import cross_val_score\n",
    "from sklearn.decomposition import PCA\n",
    "from sklearn.preprocessing import StandardScaler,MinMaxScaler\n",
    "from sklearn.metrics import mean_squared_error\n",
    "from sklearn.metrics import mean_absolute_error\n",
    "from sklearn.metrics import confusion_matrix\n",
    "from sklearn.metrics import accuracy_score,roc_auc_score,log_loss\n",
    "from scipy.stats import linregress\n",
    "from scipy import stats\n",
    "\n",
    "from flaml import AutoML\n",
    "from flaml.automl.model import XGBoostEstimator"
   ]
  },
  {
   "cell_type": "code",
   "execution_count": 2,
   "metadata": {},
   "outputs": [],
   "source": [
    "np.random.seed(42)"
   ]
  },
  {
   "cell_type": "code",
   "execution_count": 3,
   "metadata": {},
   "outputs": [],
   "source": [
    "## update types\n",
    "## create target variable\n",
    "def addFeatures_durations(historical_data:pd.DataFrame) -> pd.DataFrame:\n",
    "    try:\n",
    "        historical_data['created_at'] = pd.to_datetime(historical_data['created_at'])\n",
    "        historical_data['actual_delivery_time'] = pd.to_datetime(historical_data['actual_delivery_time'])\n",
    "        ## calculate delivery duration\n",
    "        historical_data['actual_total_delivery_duration'] = (historical_data['actual_delivery_time'] - historical_data['created_at']).dt.total_seconds()\n",
    "        ## estimated time spent outside the store/not on order preparation\n",
    "        historical_data['est_time_non-prep'] = historical_data['estimated_order_place_duration'] + historical_data['estimated_store_to_consumer_driving_duration']\n",
    "    except Exception as ex:\n",
    "        raise ex\n",
    "    return historical_data"
   ]
  },
  {
   "cell_type": "code",
   "execution_count": 4,
   "metadata": {},
   "outputs": [],
   "source": [
    "def createBaseline(historical_data:pd.DataFrame) -> pd.DataFrame:   #this function would be done in practice by SQL or Spark\n",
    "    historical_data = addFeatures_durations(historical_data=historical_data)\n",
    "    try:\n",
    "        baseline_data = historical_data[['store_id','actual_total_delivery_duration']]\n",
    "        baseline_data = baseline_data.dropna()\n",
    "        baseline_data = pd.merge(\n",
    "            left=baseline_data,\n",
    "            right=baseline_data.groupby('store_id').actual_total_delivery_duration.aggregate([np.mean,np.std]),\n",
    "            how='inner',\n",
    "            on='store_id'\n",
    "        )\n",
    "        baseline_data['z-score'] = (baseline_data['actual_total_delivery_duration'] - baseline_data['mean']) / baseline_data['std']\n",
    "        baseline_data = baseline_data.loc[(baseline_data['z-score'] <=3) & (baseline_data['z-score'] >= -3)]\n",
    "        baseline_avgs = baseline_data.groupby('store_id').actual_total_delivery_duration.aggregate([np.mean])\n",
    "        baseline_data = pd.merge(\n",
    "            left=historical_data[['store_id','actual_total_delivery_duration']].dropna(),\n",
    "            right=baseline_avgs,\n",
    "            on='store_id'\n",
    "        )\n",
    "        baseline_MAE = mean_absolute_error(y_true=baseline_data['actual_total_delivery_duration'],y_pred=baseline_data['mean'])\n",
    "        baseline_RMSE = mean_squared_error(y_true=baseline_data['actual_total_delivery_duration'],y_pred=baseline_data['mean'],squared=False)\n",
    "    except Exception as ex:\n",
    "        raise ex\n",
    "    return {'baseline_MAE:':baseline_MAE,'baseline_RMSE:':baseline_RMSE}"
   ]
  },
  {
   "cell_type": "code",
   "execution_count": 5,
   "metadata": {},
   "outputs": [],
   "source": [
    "## TODO #4 create estimated prep time features that are anchored to stores and/or categories -- DONE\n",
    "# the est_time_prep feature depends on the actual delivery datetime, which can't be provided to a model\n",
    "# BUT a set of values derived from historical data can be given to a model on demand\n",
    "\n",
    "def addFeatures_store_prep_stats(historical_data:pd.DataFrame) -> pd.DataFrame:   #this function would be done in practice by SQL or Spark\n",
    "## returns a separate dataframe with the min, max, median and mean and standard deviation of the est_prep_time_per_item for each store_id\n",
    "    try:\n",
    "        historical_data = addFeatures_durations(historical_data=historical_data)\n",
    "        ## calculate the amount of time (in seconds) the order spends in the store, then divide by the total number of items in the order\n",
    "        historical_data['est_time_prep_per_item'] = (historical_data['actual_total_delivery_duration'] - historical_data['est_time_non-prep']) / historical_data['total_items']\n",
    "        historical_data = historical_data[historical_data['est_time_prep_per_item'] > 0]\n",
    "        store_prep_stats_df = historical_data[['store_id','est_time_prep_per_item']].groupby('store_id').est_time_prep_per_item.aggregate([np.mean,np.std])\n",
    "        ## calculate z-score\n",
    "        store_prep_facts_df = pd.merge(\n",
    "            left=store_prep_stats_df.reset_index(),\n",
    "            right=historical_data[['store_id','est_time_prep_per_item']],\n",
    "            how='inner',\n",
    "            on='store_id'\n",
    "        )\n",
    "        store_prep_facts_df['z_score'] = (store_prep_facts_df['est_time_prep_per_item'] - store_prep_facts_df['mean']) / store_prep_facts_df['std']\n",
    "        ## drop outliers\n",
    "        store_prep_stats_df = store_prep_facts_df.loc[(store_prep_facts_df['z_score'] <=3) & (store_prep_facts_df['z_score'] >= -3)]\n",
    "        store_prep_stats_df = store_prep_stats_df.drop(columns=['mean','std'])\n",
    "        store_prep_stats_df = store_prep_stats_df.groupby('store_id').est_time_prep_per_item.aggregate(['min','max','median',np.mean,np.std])\n",
    "        store_prep_stats_df = store_prep_stats_df.add_prefix('store_est_time_prep_per_item_')\n",
    "    except Exception as ex:\n",
    "        raise ex\n",
    "    return store_prep_stats_df\n",
    "\n",
    "def addFeatures_category_prep_stats(historical_data:pd.DataFrame) -> pd.DataFrame:   #this function would be done in practice by SQL or Spark\n",
    "## returns a separate dataframe with the min,max, median, mean and standard deviation for each category\n",
    "    try:\n",
    "        historical_data = addFeatures_durations(historical_data=historical_data)\n",
    "        ## calculate the amount of time (in seconds) the order spends in the store, then divide by the total number of items in the order\n",
    "        historical_data['est_time_prep_per_item'] = (historical_data['actual_total_delivery_duration'] - historical_data['est_time_non-prep']) / historical_data['total_items']\n",
    "        historical_data = historical_data[historical_data['est_time_prep_per_item'] > 0]\n",
    "        category_prep_stats_df = historical_data[['clean_store_primary_category','est_time_prep_per_item']].groupby('clean_store_primary_category').est_time_prep_per_item.aggregate([np.mean,np.std])\n",
    "        ## calculate z-score\n",
    "        category_prep_facts_df = pd.merge(\n",
    "            left=category_prep_stats_df.reset_index(),\n",
    "            right=historical_data[['created_at','clean_store_primary_category','est_time_prep_per_item']],\n",
    "            how='inner',\n",
    "            on='clean_store_primary_category'\n",
    "        )\n",
    "        category_prep_facts_df['z_score'] = (category_prep_facts_df['est_time_prep_per_item'] - category_prep_facts_df['mean']) / category_prep_facts_df['std']\n",
    "        ## drop outliers\n",
    "        category_prep_stats_df = category_prep_facts_df.loc[(category_prep_facts_df['z_score'] <= 3) & (category_prep_facts_df['z_score'] >= -3)]\n",
    "        category_prep_stats_df = category_prep_stats_df.drop(columns=['mean','std','created_at'])\n",
    "        category_prep_stats_df = category_prep_stats_df.groupby('clean_store_primary_category').est_time_prep_per_item.aggregate(['min','max','median',np.mean,np.std])\n",
    "        category_prep_stats_df = category_prep_stats_df.add_prefix('category_est_time_prep_per_item_')\n",
    "    except Exception as ex:\n",
    "        raise ex\n",
    "    return category_prep_stats_df"
   ]
  },
  {
   "cell_type": "code",
   "execution_count": 6,
   "metadata": {},
   "outputs": [],
   "source": [
    "## add time of day features\n",
    "\n",
    "def addFeatures_time_of_day(historical_data:pd.DataFrame) -> pd.DataFrame:\n",
    "    try:\n",
    "        historical_data['created_hour_of_day'] = historical_data['created_at'].dt.hour\n",
    "        historical_data['created_day_of_week'] = historical_data['created_at'].dt.day_of_week\n",
    "    except Exception as ex:\n",
    "        raise ex\n",
    "    return historical_data"
   ]
  },
  {
   "cell_type": "code",
   "execution_count": 7,
   "metadata": {},
   "outputs": [],
   "source": [
    "## add ratio features\n",
    "def addFeatures_ratios(historical_data:pd.DataFrame) -> pd.DataFrame:\n",
    "    try:\n",
    "        # historical_data['total_onshift_dashers'].mask(historical_data['total_busy_dashers'] > historical_data['total_onshift_dashers'],historical_data['total_busy_dashers'],inplace=True)\n",
    "        historical_data['available_dashers'] = historical_data['total_onshift_dashers'] - historical_data['total_busy_dashers']\n",
    "        historical_data['orders_without_dashers'] = historical_data['total_outstanding_orders'] - historical_data['total_onshift_dashers']\n",
    "        historical_data['available_to_outstanding'] = historical_data['available_dashers'] / historical_data['total_outstanding_orders']\n",
    "        historical_data['available_to_outstanding'].replace(to_replace=[np.inf,-np.inf],value=historical_data['available_dashers'][1],inplace=True)\n",
    "        historical_data['busy_to_onshift'] = historical_data['total_onshift_dashers'] / historical_data['total_busy_dashers']\n",
    "        historical_data['busy_to_onshift'].replace(to_replace=[np.inf,-np.inf],value=historical_data['total_onshift_dashers'][1],inplace=True)\n",
    "        historical_data['busy_to_outstanding'] = historical_data['total_busy_dashers'] / historical_data['total_outstanding_orders']\n",
    "        historical_data['busy_to_outstanding'].replace(to_replace=[np.inf,-np.inf,np.nan],value=0,inplace=True)\n",
    "        historical_data['onshift_to_outstanding'] = historical_data['total_onshift_dashers'] / historical_data['total_outstanding_orders']\n",
    "        historical_data['onshift_to_outstanding'].replace([np.inf,-np.inf],0,inplace=True)\n",
    "    except Exception as ex:\n",
    "        raise ex\n",
    "    return historical_data"
   ]
  },
  {
   "cell_type": "code",
   "execution_count": 8,
   "metadata": {},
   "outputs": [],
   "source": [
    "def addFeatures_relative_abundances(historical_data:pd.DataFrame,train_df=pd.DataFrame) -> pd.DataFrame:\n",
    "    ## outstanding order and Dasher relative abundances per market\n",
    "    # Independent sample tests conducted below indicate that the average order by hour populations differ between markets, so we also group by market in addition to hour\n",
    "    assert 'market_id','created_hour_of_day' in train_df.columns; 'Matching market_id and/or created_hour_of_day columns not found in train_df'\n",
    "    try:\n",
    "        market_hour_abd = historical_data.groupby(['market_id','created_hour_of_day'])['total_outstanding_orders','total_onshift_dashers','total_busy_dashers'].aggregate(np.mean).add_prefix('market_hour_mean_')\n",
    "        hour_abd = historical_data.groupby(['created_hour_of_day'])['total_outstanding_orders','total_onshift_dashers','total_busy_dashers'].aggregate(np.mean).add_prefix('hour_mean_')\n",
    "\n",
    "        train_df = pd.merge(left=train_df,right=market_hour_abd,on=['market_id','created_hour_of_day'])\n",
    "        train_df = pd.merge(left=train_df,right=hour_abd,on=['created_hour_of_day'])\n",
    "        # market hour abundances\n",
    "        train_df['market_hour_onshift_outs_avg'] = train_df['market_hour_mean_total_onshift_dashers'] / train_df['market_hour_mean_total_outstanding_orders']\n",
    "        train_df['market_hour_onshift_to_outstanding_abd'] = train_df['onshift_to_outstanding'] / train_df['market_hour_onshift_outs_avg']\n",
    "        train_df['market_hour_busy_outs_avg'] = train_df['market_hour_mean_total_busy_dashers'] / train_df['market_hour_mean_total_outstanding_orders']\n",
    "        train_df['market_hour_busy_to_outstanding_abd'] = train_df['busy_to_outstanding'] / train_df['market_hour_busy_outs_avg']\n",
    "        train_df['market_hour_outs_order_abd'] = train_df['total_outstanding_orders'] / train_df['market_hour_mean_total_outstanding_orders']\n",
    "        train_df['market_hour_busy_dasher_abd'] = train_df['total_busy_dashers'] / train_df['market_hour_mean_total_busy_dashers']\n",
    "        # hour abundances\n",
    "        train_df['hour_onshift_outs_avg'] = train_df['hour_mean_total_onshift_dashers'] / train_df['hour_mean_total_outstanding_orders']\n",
    "        train_df['hour_onshift_to_outstanding_abd'] = train_df['onshift_to_outstanding'] / train_df['hour_onshift_outs_avg']\n",
    "        train_df['hour_busy_outs_avg'] = train_df['hour_mean_total_busy_dashers'] / train_df['hour_mean_total_outstanding_orders']\n",
    "        train_df['hour_busy_to_outstanding_abd'] = train_df['busy_to_outstanding'] / train_df['hour_busy_outs_avg']\n",
    "        train_df['hour_outs_order_abd'] = train_df['total_outstanding_orders'] / train_df['hour_mean_total_outstanding_orders']\n",
    "        train_df['hour_busy_dasher_abd'] = train_df['total_busy_dashers'] / train_df['hour_mean_total_busy_dashers']\n",
    "    except Exception as ex:\n",
    "        raise ex\n",
    "    return train_df"
   ]
  },
  {
   "cell_type": "code",
   "execution_count": 9,
   "metadata": {},
   "outputs": [],
   "source": [
    "## add dummies for categories\n",
    "def addFeatures_dummies(historical_data:pd.DataFrame,dummy_column:str) -> pd.DataFrame:\n",
    "    try:\n",
    "        dumm = pd.get_dummies(historical_data[dummy_column],prefix=str(dummy_column + '_'),dtype=float)\n",
    "        # concat dummies\n",
    "        historical_data = pd.concat([historical_data,dumm],axis=1)\n",
    "        historical_data = historical_data.drop(columns=[dummy_column])\n",
    "    except Exception as ex:\n",
    "        raise ex\n",
    "    return historical_data"
   ]
  },
  {
   "cell_type": "code",
   "execution_count": 10,
   "metadata": {},
   "outputs": [],
   "source": [
    "## remove confounding outliers\n",
    "def cleanFeatures_remove_outliers(historical_data:pd.DataFrame) -> pd.DataFrame:\n",
    "    try:\n",
    "        historical_data = historical_data.loc[historical_data['actual_total_delivery_duration'] > historical_data['est_time_non-prep']]\n",
    "        historical_data = historical_data[historical_data['actual_total_delivery_duration'] < 86400] # the equivalent of an entire day\n",
    "    except Exception as ex:\n",
    "        raise ex\n",
    "    return historical_data        "
   ]
  },
  {
   "cell_type": "code",
   "execution_count": 11,
   "metadata": {},
   "outputs": [
    {
     "data": {
      "text/html": [
       "<div>\n",
       "<style scoped>\n",
       "    .dataframe tbody tr th:only-of-type {\n",
       "        vertical-align: middle;\n",
       "    }\n",
       "\n",
       "    .dataframe tbody tr th {\n",
       "        vertical-align: top;\n",
       "    }\n",
       "\n",
       "    .dataframe thead th {\n",
       "        text-align: right;\n",
       "    }\n",
       "</style>\n",
       "<table border=\"1\" class=\"dataframe\">\n",
       "  <thead>\n",
       "    <tr style=\"text-align: right;\">\n",
       "      <th></th>\n",
       "      <th>total_items</th>\n",
       "      <th>subtotal</th>\n",
       "      <th>num_distinct_items</th>\n",
       "      <th>min_item_price</th>\n",
       "      <th>max_item_price</th>\n",
       "      <th>total_onshift_dashers</th>\n",
       "      <th>total_busy_dashers</th>\n",
       "      <th>total_outstanding_orders</th>\n",
       "      <th>estimated_order_place_duration</th>\n",
       "      <th>estimated_store_to_consumer_driving_duration</th>\n",
       "      <th>...</th>\n",
       "      <th>created_hour_of_day__21</th>\n",
       "      <th>created_hour_of_day__22</th>\n",
       "      <th>created_hour_of_day__23</th>\n",
       "      <th>created_day_of_week__0</th>\n",
       "      <th>created_day_of_week__1</th>\n",
       "      <th>created_day_of_week__2</th>\n",
       "      <th>created_day_of_week__3</th>\n",
       "      <th>created_day_of_week__4</th>\n",
       "      <th>created_day_of_week__5</th>\n",
       "      <th>created_day_of_week__6</th>\n",
       "    </tr>\n",
       "  </thead>\n",
       "  <tbody>\n",
       "    <tr>\n",
       "      <th>24</th>\n",
       "      <td>5.0</td>\n",
       "      <td>2175.0</td>\n",
       "      <td>2.0</td>\n",
       "      <td>350.0</td>\n",
       "      <td>375.0</td>\n",
       "      <td>16.0</td>\n",
       "      <td>18.0</td>\n",
       "      <td>21.0</td>\n",
       "      <td>446.0</td>\n",
       "      <td>879.0</td>\n",
       "      <td>...</td>\n",
       "      <td>0.0</td>\n",
       "      <td>1.0</td>\n",
       "      <td>0.0</td>\n",
       "      <td>0.0</td>\n",
       "      <td>0.0</td>\n",
       "      <td>0.0</td>\n",
       "      <td>0.0</td>\n",
       "      <td>0.0</td>\n",
       "      <td>1.0</td>\n",
       "      <td>0.0</td>\n",
       "    </tr>\n",
       "    <tr>\n",
       "      <th>25</th>\n",
       "      <td>5.0</td>\n",
       "      <td>1750.0</td>\n",
       "      <td>4.0</td>\n",
       "      <td>250.0</td>\n",
       "      <td>475.0</td>\n",
       "      <td>22.0</td>\n",
       "      <td>22.0</td>\n",
       "      <td>26.0</td>\n",
       "      <td>446.0</td>\n",
       "      <td>424.0</td>\n",
       "      <td>...</td>\n",
       "      <td>0.0</td>\n",
       "      <td>1.0</td>\n",
       "      <td>0.0</td>\n",
       "      <td>0.0</td>\n",
       "      <td>0.0</td>\n",
       "      <td>0.0</td>\n",
       "      <td>0.0</td>\n",
       "      <td>1.0</td>\n",
       "      <td>0.0</td>\n",
       "      <td>0.0</td>\n",
       "    </tr>\n",
       "    <tr>\n",
       "      <th>26</th>\n",
       "      <td>4.0</td>\n",
       "      <td>1400.0</td>\n",
       "      <td>1.0</td>\n",
       "      <td>350.0</td>\n",
       "      <td>350.0</td>\n",
       "      <td>18.0</td>\n",
       "      <td>18.0</td>\n",
       "      <td>29.0</td>\n",
       "      <td>446.0</td>\n",
       "      <td>605.0</td>\n",
       "      <td>...</td>\n",
       "      <td>0.0</td>\n",
       "      <td>0.0</td>\n",
       "      <td>0.0</td>\n",
       "      <td>0.0</td>\n",
       "      <td>0.0</td>\n",
       "      <td>0.0</td>\n",
       "      <td>0.0</td>\n",
       "      <td>0.0</td>\n",
       "      <td>1.0</td>\n",
       "      <td>0.0</td>\n",
       "    </tr>\n",
       "    <tr>\n",
       "      <th>27</th>\n",
       "      <td>5.0</td>\n",
       "      <td>1650.0</td>\n",
       "      <td>2.0</td>\n",
       "      <td>250.0</td>\n",
       "      <td>350.0</td>\n",
       "      <td>29.0</td>\n",
       "      <td>27.0</td>\n",
       "      <td>28.0</td>\n",
       "      <td>446.0</td>\n",
       "      <td>604.0</td>\n",
       "      <td>...</td>\n",
       "      <td>0.0</td>\n",
       "      <td>0.0</td>\n",
       "      <td>0.0</td>\n",
       "      <td>0.0</td>\n",
       "      <td>0.0</td>\n",
       "      <td>1.0</td>\n",
       "      <td>0.0</td>\n",
       "      <td>0.0</td>\n",
       "      <td>0.0</td>\n",
       "      <td>0.0</td>\n",
       "    </tr>\n",
       "    <tr>\n",
       "      <th>28</th>\n",
       "      <td>11.0</td>\n",
       "      <td>3375.0</td>\n",
       "      <td>9.0</td>\n",
       "      <td>200.0</td>\n",
       "      <td>475.0</td>\n",
       "      <td>36.0</td>\n",
       "      <td>38.0</td>\n",
       "      <td>59.0</td>\n",
       "      <td>446.0</td>\n",
       "      <td>480.0</td>\n",
       "      <td>...</td>\n",
       "      <td>0.0</td>\n",
       "      <td>0.0</td>\n",
       "      <td>0.0</td>\n",
       "      <td>0.0</td>\n",
       "      <td>0.0</td>\n",
       "      <td>0.0</td>\n",
       "      <td>0.0</td>\n",
       "      <td>0.0</td>\n",
       "      <td>0.0</td>\n",
       "      <td>1.0</td>\n",
       "    </tr>\n",
       "  </tbody>\n",
       "</table>\n",
       "<p>5 rows × 154 columns</p>\n",
       "</div>"
      ],
      "text/plain": [
       "    total_items  subtotal  num_distinct_items  min_item_price  max_item_price  \\\n",
       "24          5.0    2175.0                 2.0           350.0           375.0   \n",
       "25          5.0    1750.0                 4.0           250.0           475.0   \n",
       "26          4.0    1400.0                 1.0           350.0           350.0   \n",
       "27          5.0    1650.0                 2.0           250.0           350.0   \n",
       "28         11.0    3375.0                 9.0           200.0           475.0   \n",
       "\n",
       "    total_onshift_dashers  total_busy_dashers  total_outstanding_orders  \\\n",
       "24                   16.0                18.0                      21.0   \n",
       "25                   22.0                22.0                      26.0   \n",
       "26                   18.0                18.0                      29.0   \n",
       "27                   29.0                27.0                      28.0   \n",
       "28                   36.0                38.0                      59.0   \n",
       "\n",
       "    estimated_order_place_duration  \\\n",
       "24                           446.0   \n",
       "25                           446.0   \n",
       "26                           446.0   \n",
       "27                           446.0   \n",
       "28                           446.0   \n",
       "\n",
       "    estimated_store_to_consumer_driving_duration  ...  \\\n",
       "24                                         879.0  ...   \n",
       "25                                         424.0  ...   \n",
       "26                                         605.0  ...   \n",
       "27                                         604.0  ...   \n",
       "28                                         480.0  ...   \n",
       "\n",
       "    created_hour_of_day__21  created_hour_of_day__22  created_hour_of_day__23  \\\n",
       "24                      0.0                      1.0                      0.0   \n",
       "25                      0.0                      1.0                      0.0   \n",
       "26                      0.0                      0.0                      0.0   \n",
       "27                      0.0                      0.0                      0.0   \n",
       "28                      0.0                      0.0                      0.0   \n",
       "\n",
       "    created_day_of_week__0  created_day_of_week__1  created_day_of_week__2  \\\n",
       "24                     0.0                     0.0                     0.0   \n",
       "25                     0.0                     0.0                     0.0   \n",
       "26                     0.0                     0.0                     0.0   \n",
       "27                     0.0                     0.0                     1.0   \n",
       "28                     0.0                     0.0                     0.0   \n",
       "\n",
       "    created_day_of_week__3  created_day_of_week__4  created_day_of_week__5  \\\n",
       "24                     0.0                     0.0                     1.0   \n",
       "25                     0.0                     1.0                     0.0   \n",
       "26                     0.0                     0.0                     1.0   \n",
       "27                     0.0                     0.0                     0.0   \n",
       "28                     0.0                     0.0                     0.0   \n",
       "\n",
       "    created_day_of_week__6  \n",
       "24                     0.0  \n",
       "25                     0.0  \n",
       "26                     0.0  \n",
       "27                     0.0  \n",
       "28                     1.0  \n",
       "\n",
       "[5 rows x 154 columns]"
      ]
     },
     "execution_count": 11,
     "metadata": {},
     "output_type": "execute_result"
    }
   ],
   "source": [
    "historical_data = pd.read_csv('historical_data.csv')\n",
    "\n",
    "\n",
    "store_id_unique = historical_data[\"store_id\"].unique().tolist()\n",
    "store_id_and_category = {store_id: historical_data[historical_data.store_id == store_id].store_primary_category.mode() \n",
    "                         for store_id in store_id_unique}\n",
    "def fill(store_id):\n",
    "    try:\n",
    "        return store_id_and_category[store_id].values[0]\n",
    "    except:\n",
    "        return np.nan\n",
    "# fill null values\n",
    "historical_data[\"clean_store_primary_category\"] = historical_data.store_id.apply(fill)\n",
    "\n",
    "## build store, category prep time statistics DataFrames\n",
    "store_prep_stats_df = addFeatures_store_prep_stats(historical_data=historical_data)\n",
    "#category_prep_stats_df = addFeatures_category_prep_stats(historical_data=historical_data)\n",
    "## build the training dataset using the functions above\n",
    "train_df = addFeatures_durations(historical_data=historical_data)\n",
    "train_df = addFeatures_ratios(historical_data=train_df)\n",
    "train_df = addFeatures_time_of_day(historical_data=train_df)\n",
    "train_df = addFeatures_relative_abundances(historical_data=train_df,train_df=train_df)\n",
    "## merge store, category prep stats DataFrames with train_df\n",
    "train_df = pd.merge(\n",
    "    left=train_df,\n",
    "    right=store_prep_stats_df.reset_index(),\n",
    "    how='inner',\n",
    "    on='store_id'\n",
    ")\n",
    "# train_df = pd.merge(\n",
    "#    left=train_df,\n",
    "#    right=category_prep_stats_df.reset_index(),\n",
    "#    how='inner',\n",
    "#    on='clean_store_primary_category'\n",
    "#)\n",
    "## remove confounding outliers\n",
    "train_df = cleanFeatures_remove_outliers(historical_data=train_df)\n",
    "## add total prep time estimations\n",
    "train_df['store_est_median_total_prep_time'] = train_df['total_items'] * train_df['store_est_time_prep_per_item_median']\n",
    "train_df['store_est_mean_total_prep_time'] = train_df['total_items'] * train_df['store_est_time_prep_per_item_mean']\n",
    "## add dummy columns for clean_store_primary_category, market_id, order_protocol\n",
    "train_df = addFeatures_dummies(historical_data=train_df,dummy_column='clean_store_primary_category')\n",
    "train_df = addFeatures_dummies(historical_data=train_df,dummy_column='market_id')\n",
    "train_df = addFeatures_dummies(historical_data=train_df,dummy_column='order_protocol')\n",
    "train_df = addFeatures_dummies(historical_data=train_df,dummy_column='created_hour_of_day')\n",
    "train_df = addFeatures_dummies(historical_data=train_df,dummy_column='created_day_of_week')\n",
    "## prep time training dataframe\n",
    "# prep_time_df = train_df.copy(deep=True)\n",
    "# prep_time_df['est_order_total_prep_time'] = prep_time_df['actual_total_delivery_duration'] - prep_time_df['est_time_non-prep']\n",
    "#prep_time_df['est_order_time_prep_per_item'] = prep_time_df['est_order_total_prep_time'] / prep_time_df['total_items']\n",
    "## drop the native 'store_primary_category' column and all remaining non-feature columns, then do a headcheck\n",
    "train_df.drop(columns=['store_primary_category','created_at','actual_delivery_time','store_id','est_time_prep_per_item'],inplace=True)\n",
    "# prep_time_df.drop(columns=['store_primary_category','created_at','actual_delivery_time','store_id','est_time_prep_per_item','actual_total_delivery_duration'],inplace=True)\n",
    "## drop NaN's\n",
    "train_df.dropna(inplace=True)\n",
    "train_df = train_df.astype(\"float32\")\n",
    "# prep_time_df.dropna(inplace=True)\n",
    "# prep_time_df = prep_time_df.astype('float32')\n",
    "\n",
    "train_df.head()"
   ]
  },
  {
   "cell_type": "code",
   "execution_count": 82,
   "metadata": {},
   "outputs": [
    {
     "name": "stdout",
     "output_type": "stream",
     "text": [
      "Markets 1,2:\n",
      "0.14396329619338816\n",
      "Ttest_indResult(statistic=-3.020034348335915, pvalue=0.006338476911120953)\n",
      "Markets 1,3:\n",
      "2.6105510904958207\n",
      "Ttest_indResult(statistic=-3.020034348335915, pvalue=0.004771176546808944)\n",
      "Markets 1,4:\n",
      "0.13407092616734598\n",
      "Ttest_indResult(statistic=-3.020034348335915, pvalue=0.006338476911120953)\n",
      "Markets 2,3:\n",
      "18.133449007648636\n",
      "Ttest_indResult(statistic=-3.020034348335915, pvalue=0.006338476911120953)\n",
      "Markets 2,4:\n",
      "0.9312854714527126\n",
      "Ttest_indResult(statistic=-3.020034348335915, pvalue=0.004771176546808944)\n",
      "Markets 3,4:\n",
      "0.051357327062264826\n",
      "Ttest_indResult(statistic=-3.020034348335915, pvalue=0.006338476911120953)\n"
     ]
    }
   ],
   "source": [
    "## Variance in average outstanding orders by hour between different markets. Different populations will generate a value less than 0.25 or greater than 4\n",
    "# If the p-value for the Welch's t-test is less than 0.05, then the means of the populations are different enough to warrant splitting in feature development\n",
    "print(\"Markets 1,2:\")\n",
    "print(np.var(historical_data[historical_data['market_id'] == 1].groupby('created_hour_of_day').total_outstanding_orders.aggregate(np.mean))/np.var(historical_data[historical_data['market_id'] == 2].groupby('created_hour_of_day').total_outstanding_orders.aggregate(np.mean)))\n",
    "print(stats.ttest_ind(historical_data[historical_data['market_id'] == 1].groupby('created_hour_of_day').total_outstanding_orders.aggregate(np.mean),historical_data[historical_data['market_id'] == 2].groupby('created_hour_of_day').total_outstanding_orders.aggregate(np.mean),equal_var=False))\n",
    "print(\"Markets 1,3:\")\n",
    "print(np.var(historical_data[historical_data['market_id'] == 1].groupby('created_hour_of_day').total_outstanding_orders.aggregate(np.mean))/np.var(historical_data[historical_data['market_id'] == 3].groupby('created_hour_of_day').total_outstanding_orders.aggregate(np.mean)))\n",
    "print(stats.ttest_ind(historical_data[historical_data['market_id'] == 1].groupby('created_hour_of_day').total_outstanding_orders.aggregate(np.mean),historical_data[historical_data['market_id'] == 2].groupby('created_hour_of_day').total_outstanding_orders.aggregate(np.mean),equal_var=True))\n",
    "print(\"Markets 1,4:\")\n",
    "print(np.var(historical_data[historical_data['market_id'] == 1].groupby('created_hour_of_day').total_outstanding_orders.aggregate(np.mean))/np.var(historical_data[historical_data['market_id'] == 4].groupby('created_hour_of_day').total_outstanding_orders.aggregate(np.mean)))\n",
    "print(stats.ttest_ind(historical_data[historical_data['market_id'] == 1].groupby('created_hour_of_day').total_outstanding_orders.aggregate(np.mean),historical_data[historical_data['market_id'] == 2].groupby('created_hour_of_day').total_outstanding_orders.aggregate(np.mean),equal_var=False))\n",
    "print(\"Markets 2,3:\")\n",
    "print(np.var(historical_data[historical_data['market_id'] == 2].groupby('created_hour_of_day').total_outstanding_orders.aggregate(np.mean))/np.var(historical_data[historical_data['market_id'] == 3].groupby('created_hour_of_day').total_outstanding_orders.aggregate(np.mean)))\n",
    "print(stats.ttest_ind(historical_data[historical_data['market_id'] == 1].groupby('created_hour_of_day').total_outstanding_orders.aggregate(np.mean),historical_data[historical_data['market_id'] == 2].groupby('created_hour_of_day').total_outstanding_orders.aggregate(np.mean),equal_var=False))\n",
    "print(\"Markets 2,4:\")\n",
    "print(np.var(historical_data[historical_data['market_id'] == 2].groupby('created_hour_of_day').total_outstanding_orders.aggregate(np.mean))/np.var(historical_data[historical_data['market_id'] == 4].groupby('created_hour_of_day').total_outstanding_orders.aggregate(np.mean)))\n",
    "print(stats.ttest_ind(historical_data[historical_data['market_id'] == 1].groupby('created_hour_of_day').total_outstanding_orders.aggregate(np.mean),historical_data[historical_data['market_id'] == 2].groupby('created_hour_of_day').total_outstanding_orders.aggregate(np.mean),equal_var=True))\n",
    "print(\"Markets 3,4:\")\n",
    "print(np.var(historical_data[historical_data['market_id'] == 3].groupby('created_hour_of_day').total_outstanding_orders.aggregate(np.mean))/np.var(historical_data[historical_data['market_id'] == 4].groupby('created_hour_of_day').total_outstanding_orders.aggregate(np.mean)))\n",
    "print(stats.ttest_ind(historical_data[historical_data['market_id'] == 1].groupby('created_hour_of_day').total_outstanding_orders.aggregate(np.mean),historical_data[historical_data['market_id'] == 2].groupby('created_hour_of_day').total_outstanding_orders.aggregate(np.mean),equal_var=False))"
   ]
  },
  {
   "cell_type": "code",
   "execution_count": 28,
   "metadata": {},
   "outputs": [
    {
     "data": {
      "text/plain": [
       "array([[<AxesSubplot:title={'center':'actual_total_delivery_duration'}>]],\n",
       "      dtype=object)"
      ]
     },
     "execution_count": 28,
     "metadata": {},
     "output_type": "execute_result"
    },
    {
     "data": {
      "image/png": "[encoded data removed]",
      "text/plain": [
       "<Figure size 640x480 with 1 Axes>"
      ]
     },
     "metadata": {},
     "output_type": "display_data"
    }
   ],
   "source": [
    "## What is the distribution of the actual_total_delivery_time values around the mean?\n",
    "x = train_df[['actual_total_delivery_duration']].apply(stats.zscore)\n",
    "x.hist(column='actual_total_delivery_duration',bins=25)"
   ]
  },
  {
   "cell_type": "code",
   "execution_count": 181,
   "metadata": {},
   "outputs": [],
   "source": [
    "## dimensionality reduction functions with variance inflaction\n",
    "\n",
    "def calcVIF(feature_frame:pd.DataFrame,target_feature:str):\n",
    "    try:\n",
    "        feature_frame = add_constant(feature_frame)\n",
    "        feature_list = feature_frame.drop(columns=[target_feature]).columns.to_list()\n",
    "        vif_frame = pd.DataFrame()\n",
    "        vif_frame['feature'] = feature_list\n",
    "        vif_frame['VIF'] = [variance_inflation_factor(feature_frame[feature_list].values,i) for i in range(len(feature_list))]\n",
    "    except Exception as ex:\n",
    "        raise ex\n",
    "    return vif_frame.sort_values(by=['VIF'],ascending=False).reset_index(drop=True)\n",
    "\n",
    "def VIF_dim_reduction(feature_frame:pd.DataFrame,target_feature:str,vif_limit:int):\n",
    "    vif_table = calcVIF(feature_frame=feature_frame,target_feature=target_feature)\n",
    "    try:\n",
    "        ## drop nan columns from feature set, nan VIF values from base VIF table\n",
    "        vif_table['VIF'].replace(to_replace=[np.inf,-np.inf],value=np.nan,inplace=True)\n",
    "        nan_list = vif_table[vif_table['VIF'].isnull()]['feature'].to_list()\n",
    "        feature_frame = feature_frame.drop(columns=nan_list)\n",
    "        vif_table = vif_table.set_index(vif_table.feature)\n",
    "        vif_table = vif_table.drop(labels=nan_list).reset_index(drop=True)\n",
    "        ## start\n",
    "        multicollinearity = True if vif_table['VIF'].values.tolist()[1] > vif_limit else False\n",
    "        while multicollinearity:\n",
    "            lead_vif_feature = vif_table['feature'].values.tolist()[1]\n",
    "            feature_frame = feature_frame.drop(columns=lead_vif_feature)\n",
    "            vif_table = calcVIF(feature_frame=feature_frame,target_feature=target_feature)\n",
    "            multicollinearity = True if vif_table['VIF'].values.tolist()[1] > vif_limit else False\n",
    "    except Exception as ex:\n",
    "        raise ex\n",
    "    return feature_frame,vif_table"
   ]
  },
  {
   "cell_type": "code",
   "execution_count": 31,
   "metadata": {},
   "outputs": [],
   "source": [
    "## feature selection/dimensionality reduction with PCA\n",
    "##TODO #2 make a class for PCA\n",
    "##TODO #3 retain row numbers in scaler --DONE\n",
    "\n",
    "def build_train_test(dataset:pd.DataFrame,target_feature:str,test_size:int):\n",
    "    try:\n",
    "        X = dataset.drop(columns=target_feature)\n",
    "        y = dataset[target_feature]\n",
    "        x_train,x_test,y_train,y_test = train_test_split(X,y,test_size=test_size,random_state=42)\n",
    "        x_train,x_test = pd.DataFrame(x_train),pd.DataFrame(x_test)\n",
    "    except Exception as ex:\n",
    "        raise ex\n",
    "    return x_train,x_test,y_train,y_test\n",
    "\n",
    "def apply_standard_scaler(dataset):\n",
    "#applies the standard scaler to a single dataset\n",
    "    scaler = StandardScaler()\n",
    "    try:\n",
    "        if type(dataset) == pd.DataFrame:\n",
    "            scaler = scaler.fit(dataset.values)\n",
    "            dataset_scaled = scaler.transform(dataset.values)\n",
    "            dataset_scaled = pd.DataFrame(dataset_scaled,index=dataset.index,columns=dataset.columns)\n",
    "        else:\n",
    "            scaler = scaler.fit(dataset)\n",
    "            dataset_scaled = scaler.transform(dataset)\n",
    "            test_stdScale = scaler.transform(dataset)\n",
    "    except Exception as ex:\n",
    "        raise ex\n",
    "    return dataset_scaled,scaler\n",
    "\n",
    "def transform_rmse_to_seconds(scaler,y_test,y_hat_scaled):\n",
    "    try:\n",
    "        y_hat_descaled = scaler.inverse_transform(y_hat_scaled.reshape(-1,1))\n",
    "        rmse_descaled = mean_squared_error(y_pred=y_test,y_true=y_hat_descaled[:,0],squared=False)\n",
    "    except Exception as ex:\n",
    "        raise ex\n",
    "    return y_hat_descaled,rmse_descaled"
   ]
  },
  {
   "cell_type": "code",
   "execution_count": 185,
   "metadata": {},
   "outputs": [],
   "source": [
    "def PCAcalc_expl_var(x_train,target_expl_variance:int):\n",
    "## returns the number of components required to explain the target_expl_variance\n",
    "# and a feature to component ratio to support automation of further dimensionality reduction\n",
    "    pca = PCA()\n",
    "    x_train_scaled = apply_standard_scaler(x_train)[0]\n",
    "    try:\n",
    "        pca = pca.fit(x_train_scaled)\n",
    "        components = np.cumsum(pca.explained_variance_ratio_)\n",
    "        components = [i for i in components if i <= target_expl_variance]\n",
    "        feature_to_component_ratio = len(components)/x_train.shape[1]\n",
    "    except Exception as ex:\n",
    "        raise ex\n",
    "    return components,feature_to_component_ratio\n",
    "\n",
    "def PCAcalc_dim_reduction(x_train,x_test,desired_components:int):\n",
    "## you know, dimensionality reduction\n",
    "    pca = PCA(n_components=desired_components)\n",
    "    x_train_scaled,x_test_scaled = apply_standard_scaler(x_train)[0],apply_standard_scaler(x_test)[0]\n",
    "    try:\n",
    "        pca = pca.fit(x_train_scaled)\n",
    "        x_train_pca,x_test_pca = pca.transform(x_train_scaled),pca.transform(x_test_scaled)\n",
    "    except Exception as ex:\n",
    "        raise ex\n",
    "    return x_train_pca,x_test_pca"
   ]
  },
  {
   "attachments": {},
   "cell_type": "markdown",
   "metadata": {},
   "source": [
    "#### Dimensionality reduction with VIF"
   ]
  },
  {
   "cell_type": "code",
   "execution_count": null,
   "metadata": {},
   "outputs": [],
   "source": [
    "VIF_features = VIF_dim_reduction(feature_frame=train_df,target_feature='actual_total_delivery_duration',vif_limit=20)[1]\n",
    "VIF_featureset = VIF_features.drop(VIF_features[VIF_features.feature == 'const'].index)\n",
    "VIF_featureset = VIF_featureset['feature'].to_list()\n",
    "VIF_featureset = VIF_featureset + ['actual_total_delivery_duration']\n",
    "VIF_train_df = train_df[VIF_featureset]"
   ]
  },
  {
   "cell_type": "code",
   "execution_count": 183,
   "metadata": {},
   "outputs": [],
   "source": [
    "vif_df_train_test = build_train_test(dataset=VIF_train_df,target_feature='actual_total_delivery_duration',test_size=0.2)"
   ]
  },
  {
   "cell_type": "code",
   "execution_count": 187,
   "metadata": {},
   "outputs": [
    {
     "name": "stdout",
     "output_type": "stream",
     "text": [
      "We need 14 features (out of 24 available) to explain 90 percent of the variance after VIF dimensionality reduction\n"
     ]
    },
    {
     "data": {
      "image/png": "[encoded data removed]",
      "text/plain": [
       "<Figure size 640x480 with 1 Axes>"
      ]
     },
     "metadata": {},
     "output_type": "display_data"
    }
   ],
   "source": [
    "## how many features are needed to explain 90% of the variance?\n",
    "print(\"We need \" + str(len(PCAcalc_expl_var(x_train=vif_df_train_test[0],target_expl_variance=0.9)[0])) + \" features (out of \" + str(vif_df_train_test[0].shape[1]) + \" available) to explain 90 percent of the variance after VIF dimensionality reduction\")\n",
    "\n",
    "vif_x_train_scaled = apply_standard_scaler(vif_df_train_test[0])[0]\n",
    "pca = PCA().fit(vif_x_train_scaled)\n",
    "\n",
    "plt.plot(np.cumsum(pca.explained_variance_ratio_))\n",
    "plt.xlim(0,30,1)\n",
    "plt.xlabel('Number of components')\n",
    "plt.ylabel('Cumulative explained variance')\n",
    "plt.show()"
   ]
  },
  {
   "attachments": {},
   "cell_type": "markdown",
   "metadata": {},
   "source": [
    "#### Dimensionality reduction with PCA"
   ]
  },
  {
   "cell_type": "code",
   "execution_count": 191,
   "metadata": {},
   "outputs": [],
   "source": [
    "pca_xtrain,pca_xtest,pca_ytrain,pca_ytest = build_train_test(dataset=train_df,target_feature='actual_total_delivery_duration',test_size=0.2)"
   ]
  },
  {
   "cell_type": "code",
   "execution_count": 192,
   "metadata": {},
   "outputs": [],
   "source": [
    "xtrain_pca,xtest_pca = PCAcalc_dim_reduction(\n",
    "    x_train=pca_xtrain,\n",
    "    x_test=pca_xtest,\n",
    "    desired_components=len(PCAcalc_expl_var(x_train=pca_xtrain,target_expl_variance=0.9)[0])\n",
    ")"
   ]
  },
  {
   "attachments": {},
   "cell_type": "markdown",
   "metadata": {},
   "source": [
    "### Model functions, model selection and first round results"
   ]
  },
  {
   "cell_type": "code",
   "execution_count": 14,
   "metadata": {},
   "outputs": [],
   "source": [
    "## applicator function for ML methods\n",
    "\n",
    "def applyMethod_make_regression(x_train,y_train,x_test,y_test,model):\n",
    "    try:\n",
    "        model.fit(x_train,y_train)\n",
    "        ## train error\n",
    "        y_hat_train = model.predict(x_train)\n",
    "        train_RMSE = mean_squared_error(y_true=y_train,y_pred=y_hat_train,squared=False)\n",
    "        train_MAE = mean_absolute_error(y_true=y_train,y_pred=y_hat_train)\n",
    "        ## test error\n",
    "        y_hat_test = model.predict(x_test)\n",
    "        test_RMSE = mean_squared_error(y_true=y_test,y_pred=y_hat_test,squared=False)\n",
    "        test_MAE = mean_absolute_error(y_true=y_test,y_pred=y_hat_test)\n",
    "        eval_stats = {\n",
    "            'train_RMSE:':train_RMSE,\n",
    "            # gives context to the RMSE; the lower the ratio the better\n",
    "            'train_RMSE_to_mean_ratio':train_RMSE / (np.mean(y_train)),\n",
    "            'train_MAE:':train_MAE,\n",
    "            'test_RMSE:':test_RMSE,\n",
    "            # gives context to the RMSE; the lower the ratio the better\n",
    "            'test_RMSE_to_mean_ratio':test_RMSE / (np.mean(y_test)),\n",
    "            'test_MAE:':test_MAE\n",
    "        }\n",
    "        trained_model = model\n",
    "    except Exception as ex:\n",
    "        raise ex\n",
    "    return trained_model,y_hat_test,eval_stats"
   ]
  },
  {
   "cell_type": "code",
   "execution_count": 32,
   "metadata": {},
   "outputs": [],
   "source": [
    "## TODO: #9 add cross-validation to final score delivery --DONE\n",
    "def ApplyMethod_autoML(x_train,x_test,y_train,y_test,time_budget=int,metric=str,estimator_list=list,task=str,run_cv=bool,cv_folds=int):\n",
    "    auto_ml = AutoML()\n",
    "    kf = KFold(n_splits=cv_folds,random_state=42,shuffle=True)\n",
    "    cv_scores = []\n",
    "    class xgbGamma(XGBoostEstimator):\n",
    "        def __init__(self, task=\"regression\", **config):\n",
    "            super().__init__(objective='reg:gamma', **config)\n",
    "    auto_ml.add_learner(learner_name=\"xgb_gamma\",learner_class=xgbGamma)\n",
    "    try:\n",
    "        auto_ml.fit(X_train=x_train,y_train=y_train,time_budget=time_budget,metric=metric,estimator_list=estimator_list,task=task,seed=42,verbose=0)\n",
    "        trained_model = auto_ml\n",
    "        feature_importances_df = pd.DataFrame({'features':auto_ml.feature_names_in_,'importance':auto_ml.feature_importances_})\n",
    "        ## cross-validation\n",
    "        if run_cv == True:\n",
    "            for train_index,test_index in kf.split(x_train):\n",
    "                cv_xtrain,cv_xtest = x_train.iloc[train_index],x_train.iloc[test_index]\n",
    "                cv_ytrain,cv_ytest = y_train.iloc[train_index],y_train.iloc[test_index]\n",
    "                auto_ml.fit(X_train=cv_xtrain,y_train=cv_ytrain,time_budget=time_budget,metric=metric,estimator_list=[str(trained_model.best_estimator)],task=task,seed=42,verbose=0)\n",
    "                cv_yhat = auto_ml.predict(cv_xtest)\n",
    "                if task == 'regression':\n",
    "                    rmse = mean_squared_error(y_true=cv_ytest,y_pred=cv_yhat,squared=False)\n",
    "                    cv_scores.append(rmse)\n",
    "                if task == 'classification':\n",
    "                    accuracy = accuracy_score(y_true=cv_ytest,y_pred=cv_yhat)\n",
    "                    cv_scores.append(accuracy)\n",
    "        if task == 'regression':\n",
    "        ## test error\n",
    "            y_hat_test = auto_ml.predict(x_test)\n",
    "            test_RMSE = mean_squared_error(y_true=y_test,y_pred=y_hat_test,squared=False)\n",
    "            test_MAE = mean_absolute_error(y_true=y_test,y_pred=y_hat_test)\n",
    "            ## feature importances\n",
    "            ## train error\n",
    "            y_hat_train = auto_ml.predict(x_train)\n",
    "            train_RMSE = mean_squared_error(y_true=y_train,y_pred=y_hat_train,squared=False)\n",
    "            train_MAE = mean_absolute_error(y_true=y_train,y_pred=y_hat_train)\n",
    "            eval_stats = {\n",
    "                'train_RMSE:':train_RMSE,\n",
    "                # gives context to the RMSE; the lower the ratio the better\n",
    "                'train_RMSE_to_std_ratio':train_RMSE / (np.std(y_train)),\n",
    "                'train_MAE:':train_MAE,\n",
    "                'test_RMSE:':test_RMSE,\n",
    "                # gives context to the RMSE; the lower the ratio the better\n",
    "                'test_RMSE_to_std_ratio':test_RMSE / (np.std(y_test)),\n",
    "                'test_MAE:':test_MAE\n",
    "            }\n",
    "        if task == 'classification':\n",
    "            y_hat_test = auto_ml.predict(x_test)\n",
    "            y_hat_test_proba = auto_ml.predict_proba(x_test)\n",
    "            y_hat_train = auto_ml.predict(x_train)\n",
    "            y_hat_train_proba = auto_ml.predict_proba(x_train)\n",
    "            eval_stats = {\n",
    "                'train_accuracy': accuracy_score(y_true=y_train,y_pred=y_hat_train),\n",
    "                'train_roc_auc': roc_auc_score(y_true=y_train,y_score=y_hat_train_proba[:,1]),\n",
    "                'test_accuracy': accuracy_score(y_true=y_test,y_pred=y_hat_test),\n",
    "                'test_roc_auc': roc_auc_score(y_true=y_test,y_score=y_hat_test_proba[:,1])\n",
    "            }\n",
    "    except Exception as ex:\n",
    "        raise ex\n",
    "    return trained_model,feature_importances_df.sort_values(by='importance',ascending=False),eval_stats,cv_scores"
   ]
  },
  {
   "attachments": {},
   "cell_type": "markdown",
   "metadata": {},
   "source": [
    "#### PCA versus VIF dimensionality reduction:\n",
    "\n",
    "TODO: #10 rewrite dimensionality reduction write-up\n",
    "\n",
    "PCA:\n",
    "\n",
    "    {'train_RMSE:': 931.81287,\n",
    "    'train_RMSE_to_mean_ratio': 0.3266211655207943,\n",
    "    'train_MAE:': 616.80505,\n",
    "    'test_RMSE:': 922.12134,\n",
    "    'test_RMSE_to_mean_ratio': 0.3238223636661371,\n",
    "    'test_MAE:': 633.7323}\n",
    "\n",
    "VIF:\n",
    "\n",
    "    {'train_RMSE:': 844.9008,\n",
    "    'train_RMSE_to_mean_ratio': 0.29615655663211077,\n",
    "    'train_MAE:': 591.4,\n",
    "    'test_RMSE:': 949.3395,\n",
    "    'test_RMSE_to_mean_ratio': 0.33338058768003304,\n",
    "    'test_MAE:': 649.18304}\n",
    "\n",
    "No dimensionality reduction:\n",
    "\n",
    "    {'train_RMSE:': 902.9004,\n",
    "    'train_RMSE_to_mean_ratio': 0.31669177544879185,\n",
    "    'train_MAE:': 590.48975,\n",
    "    'test_RMSE:': 883.9196,\n",
    "    'test_RMSE_to_mean_ratio': 0.30977442512176745,\n",
    "    'test_MAE:': 603.2624}\n",
    "\n",
    "\n",
    "Between the two dimensionality reduction options, PCA slightly beats out VIF. Given that the goal of dimensionality reduction is to reduce compute requirements (and therefore cost) while retaining as much of the unreduced model's performance as possible, it may be best to use a two-step approach. The first step would secure a list of the top ten or fifteen features from a model trained on the unreduced dataset during the regular retraining process and then run PCA on the remaining features. This lighter dataset would then be used to train a production model."
   ]
  },
  {
   "cell_type": "code",
   "execution_count": 196,
   "metadata": {},
   "outputs": [
    {
     "data": {
      "text/plain": [
       "{'train_RMSE:': 931.81287,\n",
       " 'train_RMSE_to_mean_ratio': 0.3266211655207943,\n",
       " 'train_MAE:': 616.80505,\n",
       " 'test_RMSE:': 922.12134,\n",
       " 'test_RMSE_to_mean_ratio': 0.3238223636661371,\n",
       " 'test_MAE:': 633.7323}"
      ]
     },
     "execution_count": 196,
     "metadata": {},
     "output_type": "execute_result"
    }
   ],
   "source": [
    "pca_regressions = ApplyMethod_autoML(\n",
    "    x_train=xtrain_pca,\n",
    "    x_test=xtest_pca,\n",
    "    y_train=pca_ytrain,\n",
    "    y_test=pca_ytest,\n",
    "    time_budget=180,\n",
    "    metric='mse',\n",
    "    estimator_list=['xgb_gamma','xgboost','xgb_limitdepth'],\n",
    "    task='regression',\n",
    "    run_cv=False,\n",
    "    cv_folds=5\n",
    "    )\n",
    "pca_regressions[2]"
   ]
  },
  {
   "cell_type": "code",
   "execution_count": 189,
   "metadata": {},
   "outputs": [
    {
     "data": {
      "text/plain": [
       "{'train_RMSE:': 844.9008,\n",
       " 'train_RMSE_to_mean_ratio': 0.29615655663211077,\n",
       " 'train_MAE:': 591.4,\n",
       " 'test_RMSE:': 949.3395,\n",
       " 'test_RMSE_to_mean_ratio': 0.33338058768003304,\n",
       " 'test_MAE:': 649.18304}"
      ]
     },
     "execution_count": 189,
     "metadata": {},
     "output_type": "execute_result"
    }
   ],
   "source": [
    "## vif xgbregressor\n",
    "vif_xgb_model = ApplyMethod_autoML(\n",
    "    x_train=vif_df_train_test[0],\n",
    "    x_test=vif_df_train_test[1],\n",
    "    y_train=vif_df_train_test[2],\n",
    "    y_test=vif_df_train_test[3],\n",
    "    time_budget=180,\n",
    "    metric='mse',\n",
    "    estimator_list=['xgb_gamma','xgboost','xgb_limitdepth'],\n",
    "    task='regression',\n",
    "    run_cv=False,\n",
    "    cv_folds=5\n",
    "    )\n",
    "vif_xgb_model[2]"
   ]
  },
  {
   "cell_type": "code",
   "execution_count": 33,
   "metadata": {},
   "outputs": [],
   "source": [
    "base_unscaled_train_test = build_train_test(dataset=train_df,target_feature='actual_total_delivery_duration',test_size=0.2)\n",
    "xtrain_scaled,xtrain_scaler = apply_standard_scaler(base_unscaled_train_test[0])\n",
    "xtest_scaled,xtest_scaler = apply_standard_scaler(base_unscaled_train_test[1])\n",
    "ytrain_scaled,ytest_scaler = apply_standard_scaler(np.array(base_unscaled_train_test[2]).reshape(-1,1))\n",
    "ytest_scaled,ytest_scaler = apply_standard_scaler(np.array(base_unscaled_train_test[3]).reshape(-1,1))"
   ]
  },
  {
   "cell_type": "code",
   "execution_count": null,
   "metadata": {},
   "outputs": [],
   "source": [
    "scaled_base_model = ApplyMethod_autoML(\n",
    "    x_train=xtrain_scaled,\n",
    "    x_test=xtest_scaled,\n",
    "    y_train=ytrain_scaled,\n",
    "    y_test=ytest_scaled,\n",
    "    time_budget=180,\n",
    "    metric='mse',\n",
    "    estimator_list=['xgboost','xgb_limitdepth'],\n",
    "    task='regression',\n",
    "    run_cv=False,\n",
    "    cv_folds=5\n",
    ")\n",
    "scaled_base_model[2]"
   ]
  },
  {
   "cell_type": "code",
   "execution_count": 149,
   "metadata": {},
   "outputs": [
    {
     "data": {
      "text/plain": [
       "872.52985"
      ]
     },
     "execution_count": 149,
     "metadata": {},
     "output_type": "execute_result"
    }
   ],
   "source": [
    "yhat = scaled_base_model[0].predict(xtest_scaled)\n",
    "transform_rmse_to_seconds(scaler=ytest_scaler,y_test=base_unscaled_train_test[3],y_hat_scaled=yhat)[1]"
   ]
  },
  {
   "cell_type": "code",
   "execution_count": 35,
   "metadata": {},
   "outputs": [
    {
     "data": {
      "text/plain": [
       "{'train_RMSE:': 803.32196,\n",
       " 'train_RMSE_to_std_ratio': 0.6914510544691006,\n",
       " 'train_MAE:': 554.49335,\n",
       " 'test_RMSE:': 870.6705,\n",
       " 'test_RMSE_to_std_ratio': 0.7789657915168309,\n",
       " 'test_MAE:': 597.3902}"
      ]
     },
     "execution_count": 35,
     "metadata": {},
     "output_type": "execute_result"
    }
   ],
   "source": [
    "auto_xgb_no_reduction = ApplyMethod_autoML(\n",
    "    x_train=base_unscaled_train_test[0],\n",
    "    x_test=base_unscaled_train_test[1],\n",
    "    y_train=base_unscaled_train_test[2],\n",
    "    y_test=base_unscaled_train_test[3],\n",
    "    time_budget=180,\n",
    "    metric='mse',\n",
    "    estimator_list=['xgb_gamma','xgboost','xgb_limitdepth'],\n",
    "    task='regression',\n",
    "    run_cv=False,\n",
    "    cv_folds=5\n",
    ")\n",
    "auto_xgb_no_reduction[2]"
   ]
  },
  {
   "cell_type": "code",
   "execution_count": 138,
   "metadata": {},
   "outputs": [
    {
     "name": "stdout",
     "output_type": "stream",
     "text": [
      "Cross-validation results (RMSE): \n",
      "[924.6696, 967.5788, 972.99457, 897.3391, 884.804]\n",
      "Mean of cross-validation results (RMSE): 929.47723\n",
      "Best estimator: xgb_limitdepth\n",
      "Best configuration: \n",
      "{'n_estimators': 320, 'max_depth': 8, 'min_child_weight': 1.6246436031409632, 'learning_rate': 0.13924406975323256, 'subsample': 0.6897177882905062, 'colsample_bylevel': 0.9440262969164847, 'colsample_bytree': 1.0, 'reg_alpha': 0.005098546530512515, 'reg_lambda': 102.08934941463467}\n"
     ]
    }
   ],
   "source": [
    "print(\"Cross-validation results (RMSE): \")\n",
    "print(auto_xgb_no_reduction[3])\n",
    "print(\"Mean of cross-validation results (RMSE): \" + str(np.mean(auto_xgb_no_reduction[3])))\n",
    "print(\"Best estimator: \" + auto_xgb_no_reduction[0].best_estimator)\n",
    "print(\"Best configuration: \")\n",
    "print(auto_xgb_no_reduction[0].best_config)"
   ]
  },
  {
   "cell_type": "code",
   "execution_count": 37,
   "metadata": {},
   "outputs": [
    {
     "data": {
      "text/html": [
       "<div>\n",
       "<style scoped>\n",
       "    .dataframe tbody tr th:only-of-type {\n",
       "        vertical-align: middle;\n",
       "    }\n",
       "\n",
       "    .dataframe tbody tr th {\n",
       "        vertical-align: top;\n",
       "    }\n",
       "\n",
       "    .dataframe thead th {\n",
       "        text-align: right;\n",
       "    }\n",
       "</style>\n",
       "<table border=\"1\" class=\"dataframe\">\n",
       "  <thead>\n",
       "    <tr style=\"text-align: right;\">\n",
       "      <th></th>\n",
       "      <th>features</th>\n",
       "      <th>importance</th>\n",
       "    </tr>\n",
       "  </thead>\n",
       "  <tbody>\n",
       "    <tr>\n",
       "      <th>16</th>\n",
       "      <td>onshift_to_outstanding</td>\n",
       "      <td>0.092247</td>\n",
       "    </tr>\n",
       "    <tr>\n",
       "      <th>20</th>\n",
       "      <td>hour_mean_total_outstanding_orders</td>\n",
       "      <td>0.067612</td>\n",
       "    </tr>\n",
       "    <tr>\n",
       "      <th>10</th>\n",
       "      <td>est_time_non-prep</td>\n",
       "      <td>0.038387</td>\n",
       "    </tr>\n",
       "    <tr>\n",
       "      <th>21</th>\n",
       "      <td>hour_mean_total_onshift_dashers</td>\n",
       "      <td>0.030156</td>\n",
       "    </tr>\n",
       "    <tr>\n",
       "      <th>40</th>\n",
       "      <td>store_est_median_total_prep_time</td>\n",
       "      <td>0.029575</td>\n",
       "    </tr>\n",
       "    <tr>\n",
       "      <th>31</th>\n",
       "      <td>hour_busy_outs_avg</td>\n",
       "      <td>0.027338</td>\n",
       "    </tr>\n",
       "    <tr>\n",
       "      <th>144</th>\n",
       "      <td>created_day_of_week__0</td>\n",
       "      <td>0.025279</td>\n",
       "    </tr>\n",
       "    <tr>\n",
       "      <th>15</th>\n",
       "      <td>busy_to_outstanding</td>\n",
       "      <td>0.022975</td>\n",
       "    </tr>\n",
       "    <tr>\n",
       "      <th>22</th>\n",
       "      <td>hour_mean_total_busy_dashers</td>\n",
       "      <td>0.019490</td>\n",
       "    </tr>\n",
       "    <tr>\n",
       "      <th>38</th>\n",
       "      <td>store_est_time_prep_per_item_mean</td>\n",
       "      <td>0.018125</td>\n",
       "    </tr>\n",
       "    <tr>\n",
       "      <th>54</th>\n",
       "      <td>clean_store_primary_category__burger</td>\n",
       "      <td>0.013217</td>\n",
       "    </tr>\n",
       "    <tr>\n",
       "      <th>131</th>\n",
       "      <td>created_hour_of_day__5</td>\n",
       "      <td>0.012994</td>\n",
       "    </tr>\n",
       "    <tr>\n",
       "      <th>113</th>\n",
       "      <td>market_id__1.0</td>\n",
       "      <td>0.012756</td>\n",
       "    </tr>\n",
       "    <tr>\n",
       "      <th>90</th>\n",
       "      <td>clean_store_primary_category__other</td>\n",
       "      <td>0.012323</td>\n",
       "    </tr>\n",
       "    <tr>\n",
       "      <th>122</th>\n",
       "      <td>order_protocol__4.0</td>\n",
       "      <td>0.012307</td>\n",
       "    </tr>\n",
       "  </tbody>\n",
       "</table>\n",
       "</div>"
      ],
      "text/plain": [
       "                                 features  importance\n",
       "16                 onshift_to_outstanding    0.092247\n",
       "20     hour_mean_total_outstanding_orders    0.067612\n",
       "10                      est_time_non-prep    0.038387\n",
       "21        hour_mean_total_onshift_dashers    0.030156\n",
       "40       store_est_median_total_prep_time    0.029575\n",
       "31                     hour_busy_outs_avg    0.027338\n",
       "144                created_day_of_week__0    0.025279\n",
       "15                    busy_to_outstanding    0.022975\n",
       "22           hour_mean_total_busy_dashers    0.019490\n",
       "38      store_est_time_prep_per_item_mean    0.018125\n",
       "54   clean_store_primary_category__burger    0.013217\n",
       "131                created_hour_of_day__5    0.012994\n",
       "113                        market_id__1.0    0.012756\n",
       "90    clean_store_primary_category__other    0.012323\n",
       "122                   order_protocol__4.0    0.012307"
      ]
     },
     "execution_count": 37,
     "metadata": {},
     "output_type": "execute_result"
    }
   ],
   "source": [
    "auto_xgb_no_reduction[1].sort_values(by='importance',ascending=False).head(15)"
   ]
  },
  {
   "cell_type": "code",
   "execution_count": 136,
   "metadata": {},
   "outputs": [
    {
     "data": {
      "text/plain": [
       "{'baseline_MAE:': 783.5442750429107, 'baseline_RMSE:': 19249.89784985233}"
      ]
     },
     "execution_count": 136,
     "metadata": {},
     "output_type": "execute_result"
    }
   ],
   "source": [
    "# does the first attempt at modeling improve on a baseline, average-derived model?\n",
    "createBaseline(historical_data=historical_data)"
   ]
  },
  {
   "attachments": {},
   "cell_type": "markdown",
   "metadata": {},
   "source": [
    "### Results so far\n",
    "\n",
    "First and foremost, is the work and expense of building and maintaining a model worthwhile when compared to a simple 'baseline' approach that uses averages? The results for that baseline model are as follows:\n",
    "\n",
    "    {'baseline_MAE:': 783.5442750429107, 'baseline_RMSE:': 19249.89784985233}\n",
    "\n",
    "I scoured the internet and found two other worked examples that appear to use this dataset:\n",
    "\n",
    "    Stratascratch: holdout RMSE: 986.6912510458277, holdout_size: 0.2,\n",
    "    raihanmasud (github): mean 5-fold cv RMSE: 1030.6837, holdout RMSE: 1012, holdout_size: 0.33\n",
    "\n",
    "Performance statistics for my xgboost model against a holdout sample size of 0.2 are as follows:\n",
    "\n",
    "    {'train_RMSE:': 800.0005,\n",
    "    'train_RMSE_to_std_ratio': 0.6904016675988109,\n",
    "    'train_MAE:': 527.19244,\n",
    "    'test_RMSE:': 876.9018,\n",
    "    'test_RMSE_to_std_ratio': 0.7768734571659632,\n",
    "    'test_MAE:': 597.0269}\n",
    "\n",
    "    Cross-validation results (RMSE): \n",
    "    [924.6696, 967.5788, 972.99457, 897.3391, 884.804]\n",
    "\n",
    "    Mean of cross-validation results (RMSE): 929.47723\n",
    "\n",
    "Performance statistics for my xgboost model against a holdout size of 0.33:\n",
    "\n",
    "    {'train_RMSE:': 873.4991,\n",
    "    'train_RMSE_to_std_ratio': 0.7611590838185001,\n",
    "    'train_MAE:': 581.7427,\n",
    "    'test_RMSE:': 926.9857,\n",
    "    'test_RMSE_to_std_ratio': 0.7968259664464706,\n",
    "    'test_MAE:': 605.92535}\n",
    "\n",
    "Conclusions:\n",
    "1. The time, effort and expense of building and maintaining a model to predict total delivery time is validated by the comparative performance of the baseline approach.\n",
    "2. There are two significant differences between my approach to this problem and the two other worked examples I found that I believe explain my superior performance. The first difference is the generic per-store order prep time features (addFeatures_store_prep_stats) and the market+hour aggregation features (addFeatures_relative_abundances). The author of the Stratascratch notebook attempted to predict order prep time and raihanmasud did not bother with prep time at all. Neither user bothered to generate aggregate values based on the most important features for their models. The second difference is my use of autoML to do hyperparameter tuning. Raihanmasud hard-coded hyperparameters for their model and the author of the official Stratascratch notebook did not bother with hyperparameter tuning at all.\n",
    "\n",
    "Other observations:\n",
    "1. Giving the model leaky features like the amount of time an order spent in the store (delivery_time - (est_order_creation_time + est_driving_duration)) as well as removing observations with high error produces a cross-validated RMSE scores between 250-350. The best holdout RMSE was around 240. From this one could infer that there is a performance floor.\n",
    "2. Ratio features and store order preparation time features make up eleven of the top fifteen features and eight of the top ten features when ranked by importance. per the graph below there is also a visible increase in the delivery duration when the onshift-to-outstanding ratio decreases, either from high order volumes or low Dasher counts.\n",
    "3. The table of category prep time metrics do not appear to have a significant effect on estimation, so those features can be left out of the final pipeline. \n",
    "4. Variance and independent population analysis confirmed that most of the markets have different hourly average order volumes, but the second-most important feature to the model so far is 'hour_mean_total_outstanding_orders', a basic average aggregation of order volumes across all markets.\n",
    "5. Normalizing the dataset with a scaler does not produce a significantly better RMSE against the same holdout/test dataset (scaled RMSE 872.52985, unscaled RMSE 876.9018) despite taking longer to train a model.\n"
   ]
  },
  {
   "cell_type": "code",
   "execution_count": 154,
   "metadata": {},
   "outputs": [
    {
     "data": {
      "text/plain": [
       "<AxesSubplot:xlabel='onshift_to_outstanding', ylabel='actual_total_delivery_duration'>"
      ]
     },
     "execution_count": 154,
     "metadata": {},
     "output_type": "execute_result"
    },
    {
     "data": {
      "image/png": "[encoded data removed]",
      "text/plain": [
       "<Figure size 640x480 with 1 Axes>"
      ]
     },
     "metadata": {},
     "output_type": "display_data"
    }
   ],
   "source": [
    "train_df.plot.scatter(x='onshift_to_outstanding',y='actual_total_delivery_duration')"
   ]
  },
  {
   "attachments": {},
   "cell_type": "markdown",
   "metadata": {},
   "source": [
    "#### What is the relationship between error and acutal_total_delivery_duration?\n",
    "\n",
    "One could argue that scedasticity does not matter when we make predictions using gradient-boosted-trees - tree-based models are almost invariant to monotonic transformations - but transforms do affect split points. To that end, a test for scedasticity could improve our model if the conditional variance of the data is not constant.\n",
    "\n",
    "Per the plots below, the variance of the error looks homoscedastic. Trying to actually run White's Lagrange test for heteroscedasticity needs more memory than I can give it."
   ]
  },
  {
   "cell_type": "code",
   "execution_count": 45,
   "metadata": {},
   "outputs": [
    {
     "name": "stdout",
     "output_type": "stream",
     "text": [
      "AxesSubplot(0.125,0.11;0.775x0.77)\n"
     ]
    },
    {
     "data": {
      "image/png": "[encoded data removed]",
      "text/plain": [
       "<Figure size 640x480 with 1 Axes>"
      ]
     },
     "metadata": {},
     "output_type": "display_data"
    }
   ],
   "source": [
    "model = auto_xgb_no_reduction[0]\n",
    "y_hat = model.predict(base_unscaled_train_test[1])\n",
    "error_train_df = base_unscaled_train_test[1].copy()\n",
    "error_train_df['yhat'] = y_hat.reshape(-1,1)\n",
    "error_train_df = error_train_df.join(train_df[['actual_total_delivery_duration']])\n",
    "error_train_df['error'] = error_train_df['actual_total_delivery_duration'] - error_train_df['yhat']\n",
    "error_train_df['error_variance'] = error_train_df['error'] - error_train_df['error'].mean()\n",
    "print(error_train_df.plot.scatter(x='error_variance',y='actual_total_delivery_duration'))\n",
    "#error_train_df = error_train_df.drop(columns=['yhat','error','error_variance'])"
   ]
  },
  {
   "cell_type": "code",
   "execution_count": 47,
   "metadata": {},
   "outputs": [
    {
     "name": "stdout",
     "output_type": "stream",
     "text": [
      "AxesSubplot(0.125,0.11;0.775x0.77)\n"
     ]
    },
    {
     "data": {
      "image/png": "[encoded data removed]",
      "text/plain": [
       "<Figure size 640x480 with 1 Axes>"
      ]
     },
     "metadata": {},
     "output_type": "display_data"
    }
   ],
   "source": [
    "print(error_train_df.plot.scatter(x='error',y='actual_total_delivery_duration'))"
   ]
  },
  {
   "cell_type": "code",
   "execution_count": null,
   "metadata": {},
   "outputs": [],
   "source": [
    "## DO NOT RUN THIS CELL unless you are very invested scedasticity of the data. It is extremely compute and memory intensive.\n",
    "# More to the point, scedasticity arguably does not matter for gradient-boosted trees\n",
    "white_test = het_white(resid=error_train_df['error'].values,exog=base_unscaled_train_test[1].values)\n",
    "white_labels = ['Test Statistic', 'Test Statistic p-value', 'F-Statistic', 'F-Test p-value']\n",
    "print(dict(zip(white_labels,white_test)))"
   ]
  },
  {
   "attachments": {},
   "cell_type": "markdown",
   "metadata": {},
   "source": [
    "#### Building a model to classify outliers\n",
    "\n",
    "Given that there is a linear relationship between actual total delivery duration and the absolute error for each observation/order, one could argue that there are features unavailable to us in this dataset that are confounding the features we can use.\n",
    "\n",
    "How might we go about removing outlier delivery durations while still providing an estimated delivery duration to the customer?\n",
    "\n",
    "Let's assume that from a customer's perspective, the importance of the accuracy of the delivery decreases with the estimated total delivery duration. At a certain point it might be more viable to inform a customer in-app that their order will be delivered in at least 90 minutes (or that the service is \"finding a Dasher...\"), rather than providing an actual estimate.\n",
    "\n",
    "If it is possible to build a model to classify an order as an outlier and then use that model as a filter to decide which orders receive genuine estimates, the delivery duration estimator could then only be trained on data we know will produce higher-quality results. Testing the potential impact of the model is simple; when actual delivery durations over two hours (7200 seconds) are removed from the training set, an AutoML regression model returns the following results:\n",
    "\n",
    "    {'train_RMSE:': 779.9482,\n",
    "    'train_RMSE_to_mean_ratio': 0.2767521554477982,\n",
    "    'train_MAE:': 589.2149,\n",
    "    'test_RMSE:': 790.5616,\n",
    "    'test_RMSE_to_mean_ratio': 0.28073476932456126,\n",
    "    'test_MAE:': 593.6754}\n",
    "\n",
    "Note that the RMSE-to-mean ratio is significantly less than the same score (0.3108089066798813, a 9.68% improvement) for a model trained on an un-filtered dataset. Even though the mean actual delivery time is lower in the filtered dataset and less data is available for training (4815 dropped rows, 2.737% of the dataset), the model is able to deliver more accurate predictions. This makes the outlier identification model worth building."
   ]
  },
  {
   "cell_type": "code",
   "execution_count": 158,
   "metadata": {},
   "outputs": [],
   "source": [
    "dataset = train_df.copy()\n",
    "dataset['over_one_half_hours'] = dataset['actual_total_delivery_duration'].apply(lambda x: 1 if x >= 5400 else 0)\n",
    "dataset_train_test = build_train_test(dataset=dataset.drop(columns='actual_total_delivery_duration'),target_feature='over_one_half_hours',test_size=0.2)"
   ]
  },
  {
   "cell_type": "code",
   "execution_count": 159,
   "metadata": {},
   "outputs": [
    {
     "data": {
      "text/plain": [
       "{'train_accuracy': 0.9732280651614748,\n",
       " 'train_roc_auc': 0.8328475548196733,\n",
       " 'test_accuracy': 0.9734788945728902,\n",
       " 'test_roc_auc': 0.8289915436603982}"
      ]
     },
     "execution_count": 159,
     "metadata": {},
     "output_type": "execute_result"
    }
   ],
   "source": [
    "label_outlier_model = ApplyMethod_autoML(\n",
    "    x_train=dataset_train_test[0],\n",
    "    x_test=dataset_train_test[1],\n",
    "    y_train=dataset_train_test[2],\n",
    "    y_test=dataset_train_test[3],\n",
    "    time_budget=400,\n",
    "    task='classification',\n",
    "    metric='accuracy',\n",
    "    estimator_list=['lgbm','rf','xgboost','extra_tree'],\n",
    "    run_cv=False,\n",
    "    cv_folds=5\n",
    ")\n",
    "label_outlier_model[2]"
   ]
  },
  {
   "cell_type": "code",
   "execution_count": 160,
   "metadata": {},
   "outputs": [],
   "source": [
    "y_pred = label_outlier_model[0].predict(dataset.drop(columns='over_one_half_hours'))\n",
    "dataset['y_pred'] = y_pred.reshape(-1,1)\n",
    "trimmed_dataset_train_test = build_train_test(\n",
    "    dataset=dataset[dataset['y_pred'] == 0].drop(columns=['y_pred','over_one_half_hours']),\n",
    "    target_feature='actual_total_delivery_duration',\n",
    "    test_size=0.2\n",
    ")"
   ]
  },
  {
   "cell_type": "code",
   "execution_count": 161,
   "metadata": {},
   "outputs": [
    {
     "data": {
      "text/plain": [
       "{'train_RMSE:': 908.68567,\n",
       " 'train_RMSE_to_std_ratio': 0.8079694029042364,\n",
       " 'train_MAE:': 610.612,\n",
       " 'test_RMSE:': 984.8202,\n",
       " 'test_RMSE_to_std_ratio': 0.8336647264616844,\n",
       " 'test_MAE:': 620.38617}"
      ]
     },
     "execution_count": 161,
     "metadata": {},
     "output_type": "execute_result"
    }
   ],
   "source": [
    "trimmed_deliv_pred_model = ApplyMethod_autoML(\n",
    "    x_train=trimmed_dataset_train_test[0],\n",
    "    x_test=trimmed_dataset_train_test[1],\n",
    "    y_train=trimmed_dataset_train_test[2],\n",
    "    y_test=trimmed_dataset_train_test[3],\n",
    "    time_budget=180,\n",
    "    task='regression',\n",
    "    metric='mse',\n",
    "    estimator_list=['xgb_gamma','xgboost','xgb_limitdepth'],\n",
    "    run_cv=True,\n",
    "    cv_folds=5\n",
    ")\n",
    "trimmed_deliv_pred_model[2]"
   ]
  },
  {
   "cell_type": "code",
   "execution_count": 163,
   "metadata": {},
   "outputs": [
    {
     "name": "stdout",
     "output_type": "stream",
     "text": [
      "[933.0038, 900.2373, 920.4185, 908.0828, 930.56494]\n",
      "918.46155\n"
     ]
    }
   ],
   "source": [
    "print(trimmed_deliv_pred_model[3])\n",
    "print(np.mean(trimmed_deliv_pred_model[3]))"
   ]
  },
  {
   "cell_type": "code",
   "execution_count": 164,
   "metadata": {},
   "outputs": [
    {
     "data": {
      "text/html": [
       "<div>\n",
       "<style scoped>\n",
       "    .dataframe tbody tr th:only-of-type {\n",
       "        vertical-align: middle;\n",
       "    }\n",
       "\n",
       "    .dataframe tbody tr th {\n",
       "        vertical-align: top;\n",
       "    }\n",
       "\n",
       "    .dataframe thead th {\n",
       "        text-align: right;\n",
       "    }\n",
       "</style>\n",
       "<table border=\"1\" class=\"dataframe\">\n",
       "  <thead>\n",
       "    <tr style=\"text-align: right;\">\n",
       "      <th></th>\n",
       "      <th>features</th>\n",
       "      <th>importance</th>\n",
       "    </tr>\n",
       "  </thead>\n",
       "  <tbody>\n",
       "    <tr>\n",
       "      <th>20</th>\n",
       "      <td>hour_mean_total_outstanding_orders</td>\n",
       "      <td>0.188971</td>\n",
       "    </tr>\n",
       "    <tr>\n",
       "      <th>10</th>\n",
       "      <td>est_time_non-prep</td>\n",
       "      <td>0.094086</td>\n",
       "    </tr>\n",
       "    <tr>\n",
       "      <th>16</th>\n",
       "      <td>onshift_to_outstanding</td>\n",
       "      <td>0.088631</td>\n",
       "    </tr>\n",
       "    <tr>\n",
       "      <th>31</th>\n",
       "      <td>hour_busy_outs_avg</td>\n",
       "      <td>0.065510</td>\n",
       "    </tr>\n",
       "    <tr>\n",
       "      <th>45</th>\n",
       "      <td>store_est_median_total_prep_time</td>\n",
       "      <td>0.061216</td>\n",
       "    </tr>\n",
       "    <tr>\n",
       "      <th>21</th>\n",
       "      <td>hour_mean_total_onshift_dashers</td>\n",
       "      <td>0.041741</td>\n",
       "    </tr>\n",
       "    <tr>\n",
       "      <th>118</th>\n",
       "      <td>market_id__1.0</td>\n",
       "      <td>0.033198</td>\n",
       "    </tr>\n",
       "    <tr>\n",
       "      <th>9</th>\n",
       "      <td>estimated_store_to_consumer_driving_duration</td>\n",
       "      <td>0.032262</td>\n",
       "    </tr>\n",
       "    <tr>\n",
       "      <th>24</th>\n",
       "      <td>market_hour_onshift_to_outstanding_abd</td>\n",
       "      <td>0.031270</td>\n",
       "    </tr>\n",
       "    <tr>\n",
       "      <th>15</th>\n",
       "      <td>busy_to_outstanding</td>\n",
       "      <td>0.023833</td>\n",
       "    </tr>\n",
       "  </tbody>\n",
       "</table>\n",
       "</div>"
      ],
      "text/plain": [
       "                                         features  importance\n",
       "20             hour_mean_total_outstanding_orders    0.188971\n",
       "10                              est_time_non-prep    0.094086\n",
       "16                         onshift_to_outstanding    0.088631\n",
       "31                             hour_busy_outs_avg    0.065510\n",
       "45               store_est_median_total_prep_time    0.061216\n",
       "21                hour_mean_total_onshift_dashers    0.041741\n",
       "118                                market_id__1.0    0.033198\n",
       "9    estimated_store_to_consumer_driving_duration    0.032262\n",
       "24         market_hour_onshift_to_outstanding_abd    0.031270\n",
       "15                            busy_to_outstanding    0.023833"
      ]
     },
     "execution_count": 164,
     "metadata": {},
     "output_type": "execute_result"
    }
   ],
   "source": [
    "trimmed_deliv_pred_model[1].sort_values(by='importance',ascending=False).head(10)"
   ]
  },
  {
   "attachments": {},
   "cell_type": "markdown",
   "metadata": {},
   "source": [
    "#### Classification + prediction model results\n",
    "\n",
    "A model trained on the same featureset (sans 'actual_total_delivery_duration' to prevent leakage) but instead asked to label orders with a total delivery duration of 90 minutes or more - rather than predicting the total delivery duration in seconds - produces the following accuracy scores:\n",
    "\n",
    "    {'train_accuracy': 0.9732280651614748,\n",
    "    'train_roc_auc': 0.8328475548196733,\n",
    "    'test_accuracy': 0.9734788945728902,\n",
    "    'test_roc_auc': 0.8289915436603982}\n",
    "\n",
    "Note that the above accuracy scores are for the entire dataset - the classifier model only identified 1235 'outliers' when the dataset actually contained 4815 records with a total delivery duration of 90 minutes or more. Of those 1235 observations/orders, 1101 (89.15%) were correctly labeled and 134 (10.85%) were incorrectly labeled. A success rate of 22.89% may not seem very good prima-facie, but we must contextualize it against the business value of a highly-varied delivery time estimation. Unfortunately that is context we do not have, but we can look at the RMSE of that sub-population to get a sense of the risk of being exposed to a high-error estimation:\n",
    "\n",
    "    RMSE: 2830.3252\n",
    "    actual_total_delivery_duration_std: 1669.198608\n",
    "    RMSE_to_std_ratio: 1.6956191950047\n",
    "\n",
    "When we use the single model to predict delivery times, the resulting RMSE is more than three times that of the cross-validated RMSE for that same model. That subset of customers would be exposed to wildly innaccurate delivery time estimates if their orders were passed through the single model, but instead they receive a general estimate that can be updated as more information becomes available.\n",
    "\n",
    "Dropping the orders predicted to take at least 90 minutes and then training a total delivery duration model with that trimmed dataset produces the following metrics:\n",
    "\n",
    "    {'train_RMSE:': 908.68567,\n",
    "    'train_RMSE_to_std_ratio': 0.8079694029042364,\n",
    "    'train_MAE:': 610.612,\n",
    "    'test_RMSE:': 984.8202,\n",
    "    'test_RMSE_to_std_ratio': 0.8336647264616844,\n",
    "    'test_MAE:': 620.38617}\n",
    "\n",
    "    Cross-validation results (RMSE): \n",
    "    [933.0038, 900.2373, 920.4185, 908.0828, 930.56494]\n",
    "\n",
    "    Mean of cross-validation results (RMSE): 918.46155\n",
    "    \n",
    "Was the two-step approach successful? How do we judge success? \n",
    "\n",
    "RMSE is sensitive to outliers so we cannot make a direct comparison between those values because we have removed outliers. A better judge of performance in this situation where we are comparing two models with different test and training sets is the RMSE-to-standard-deviation ratio, which contextualizes the error rate against the standard deviation of y-true. The lower the value the better; a value over 1 can be considered a 'red-flag' in that the model's error produces more variance than the real data. If the RMSE-to-std ratio is significantly better for the top-coded approach, we could argue that the final model is doing a better job of accounting for the remaining outliers than the single model approach.\n",
    "\n",
    "The above performance statistics are undeniably worse than those of the single-model approach.\n",
    "\n",
    "This should not happen given the clear relationship between the value we are trying to predict and estimation error. It must be said that these numbers are worse than previous iterations of this top-coded two-step approach; a prior iteration had a cross-validation RMSE of 897.623 which was slightly better than the same value for the single-model approach. What changed is the features; the features produced by the function 'addFeatures_relative_abundances()' have clearly changed the top-coded approach for the worse. \n",
    "\n",
    "One other note: I did apply log and standard normalization to the dataset in an attempt to mitigate the effect of the outliers, but normalization/standardization had little to no effect on performance."
   ]
  },
  {
   "attachments": {},
   "cell_type": "markdown",
   "metadata": {},
   "source": [
    "### What about a model that predicts order prep/in-store time?\n",
    "\n",
    "1. Is the amount of time an order spends in the restaurant (prep time) an important feature? \n",
    "2. Would the accuracy of a total delivery time model be improved by having an estimation of order preparation time for each order?\n",
    "3. Assuming the answers to the first two questions are true, is it worth keeping the store and category prepartion stats 'tables' I made during the feature engineering step?"
   ]
  },
  {
   "cell_type": "code",
   "execution_count": 176,
   "metadata": {},
   "outputs": [],
   "source": [
    "## first and foremost, is this model worth building? Is in-store time an important feature?\n",
    "hypoth_df = train_df.copy()\n",
    "hypoth_df['est_order_total_prep_time'] = hypoth_df['actual_total_delivery_duration'] - hypoth_df['est_time_non-prep']\n"
   ]
  },
  {
   "cell_type": "code",
   "execution_count": 178,
   "metadata": {},
   "outputs": [
    {
     "data": {
      "text/plain": [
       "{'train_RMSE:': 312.8918,\n",
       " 'train_RMSE_to_std_ratio': 0.270026123916784,\n",
       " 'train_MAE:': 27.744295,\n",
       " 'test_RMSE:': 251.92336,\n",
       " 'test_RMSE_to_std_ratio': 0.2231864150144342,\n",
       " 'test_MAE:': 26.811071}"
      ]
     },
     "execution_count": 178,
     "metadata": {},
     "output_type": "execute_result"
    }
   ],
   "source": [
    "# hypoth_feature_df = VIF_dim_reduction(feature_frame=hypoth_df,target_feature='actual_total_delivery_duration',vif_limit=20)[0]\n",
    "hypoth_xtrain,hypoth_xtest,hypoth_ytrain,hypoth_ytest = build_train_test(dataset=hypoth_df,target_feature='actual_total_delivery_duration',test_size=0.2)\n",
    "hypoth_feature_importances = ApplyMethod_autoML(\n",
    "    x_train=hypoth_xtrain,\n",
    "    x_test=hypoth_xtest,\n",
    "    y_train=hypoth_ytrain,\n",
    "    y_test=hypoth_ytest,\n",
    "    time_budget=60,\n",
    "    metric='mse',\n",
    "    estimator_list=['xgb_gamma','xgboost'],\n",
    "    task='regression',\n",
    "    run_cv=False,\n",
    "    cv_folds=5\n",
    ")\n",
    "hypoth_feature_importances[2]"
   ]
  },
  {
   "cell_type": "code",
   "execution_count": 179,
   "metadata": {},
   "outputs": [
    {
     "data": {
      "text/html": [
       "<div>\n",
       "<style scoped>\n",
       "    .dataframe tbody tr th:only-of-type {\n",
       "        vertical-align: middle;\n",
       "    }\n",
       "\n",
       "    .dataframe tbody tr th {\n",
       "        vertical-align: top;\n",
       "    }\n",
       "\n",
       "    .dataframe thead th {\n",
       "        text-align: right;\n",
       "    }\n",
       "</style>\n",
       "<table border=\"1\" class=\"dataframe\">\n",
       "  <thead>\n",
       "    <tr style=\"text-align: right;\">\n",
       "      <th></th>\n",
       "      <th>features</th>\n",
       "      <th>importance</th>\n",
       "    </tr>\n",
       "  </thead>\n",
       "  <tbody>\n",
       "    <tr>\n",
       "      <th>156</th>\n",
       "      <td>est_order_total_prep_time</td>\n",
       "      <td>0.348091</td>\n",
       "    </tr>\n",
       "    <tr>\n",
       "      <th>10</th>\n",
       "      <td>est_time_non-prep</td>\n",
       "      <td>0.209039</td>\n",
       "    </tr>\n",
       "    <tr>\n",
       "      <th>21</th>\n",
       "      <td>hour_mean_total_onshift_dashers</td>\n",
       "      <td>0.115692</td>\n",
       "    </tr>\n",
       "    <tr>\n",
       "      <th>16</th>\n",
       "      <td>onshift_to_outstanding</td>\n",
       "      <td>0.113821</td>\n",
       "    </tr>\n",
       "    <tr>\n",
       "      <th>9</th>\n",
       "      <td>estimated_store_to_consumer_driving_duration</td>\n",
       "      <td>0.084944</td>\n",
       "    </tr>\n",
       "    <tr>\n",
       "      <th>37</th>\n",
       "      <td>store_est_time_prep_per_item_median</td>\n",
       "      <td>0.031350</td>\n",
       "    </tr>\n",
       "    <tr>\n",
       "      <th>38</th>\n",
       "      <td>store_est_time_prep_per_item_mean</td>\n",
       "      <td>0.030787</td>\n",
       "    </tr>\n",
       "    <tr>\n",
       "      <th>39</th>\n",
       "      <td>store_est_time_prep_per_item_std</td>\n",
       "      <td>0.026761</td>\n",
       "    </tr>\n",
       "    <tr>\n",
       "      <th>36</th>\n",
       "      <td>store_est_time_prep_per_item_max</td>\n",
       "      <td>0.016004</td>\n",
       "    </tr>\n",
       "    <tr>\n",
       "      <th>8</th>\n",
       "      <td>estimated_order_place_duration</td>\n",
       "      <td>0.004808</td>\n",
       "    </tr>\n",
       "    <tr>\n",
       "      <th>15</th>\n",
       "      <td>busy_to_outstanding</td>\n",
       "      <td>0.001589</td>\n",
       "    </tr>\n",
       "    <tr>\n",
       "      <th>22</th>\n",
       "      <td>hour_mean_total_busy_dashers</td>\n",
       "      <td>0.001394</td>\n",
       "    </tr>\n",
       "    <tr>\n",
       "      <th>20</th>\n",
       "      <td>hour_mean_total_outstanding_orders</td>\n",
       "      <td>0.001217</td>\n",
       "    </tr>\n",
       "    <tr>\n",
       "      <th>31</th>\n",
       "      <td>hour_busy_outs_avg</td>\n",
       "      <td>0.000858</td>\n",
       "    </tr>\n",
       "    <tr>\n",
       "      <th>124</th>\n",
       "      <td>order_protocol__1.0</td>\n",
       "      <td>0.000821</td>\n",
       "    </tr>\n",
       "  </tbody>\n",
       "</table>\n",
       "</div>"
      ],
      "text/plain": [
       "                                         features  importance\n",
       "156                     est_order_total_prep_time    0.348091\n",
       "10                              est_time_non-prep    0.209039\n",
       "21                hour_mean_total_onshift_dashers    0.115692\n",
       "16                         onshift_to_outstanding    0.113821\n",
       "9    estimated_store_to_consumer_driving_duration    0.084944\n",
       "37            store_est_time_prep_per_item_median    0.031350\n",
       "38              store_est_time_prep_per_item_mean    0.030787\n",
       "39               store_est_time_prep_per_item_std    0.026761\n",
       "36               store_est_time_prep_per_item_max    0.016004\n",
       "8                  estimated_order_place_duration    0.004808\n",
       "15                            busy_to_outstanding    0.001589\n",
       "22                   hour_mean_total_busy_dashers    0.001394\n",
       "20             hour_mean_total_outstanding_orders    0.001217\n",
       "31                             hour_busy_outs_avg    0.000858\n",
       "124                           order_protocol__1.0    0.000821"
      ]
     },
     "execution_count": 179,
     "metadata": {},
     "output_type": "execute_result"
    }
   ],
   "source": [
    "hypoth_feature_importances[1].sort_values(by='importance',ascending=False).head(15)"
   ]
  },
  {
   "attachments": {},
   "cell_type": "markdown",
   "metadata": {},
   "source": [
    "Per the performance scores and feature importance table above, providing a delivery time estimation model with an order prep time estimation greatly improves the quality of estimations. Since the feature est_order_total_prep_time is leaky (it depends on the value we are trying to predict), we will need to estimate it instead."
   ]
  },
  {
   "cell_type": "code",
   "execution_count": 180,
   "metadata": {},
   "outputs": [
    {
     "data": {
      "text/plain": [
       "{'train_RMSE:': 881.14136,\n",
       " 'train_RMSE_to_std_ratio': 0.7838877053612336,\n",
       " 'train_MAE:': 588.1481,\n",
       " 'test_RMSE:': 878.3562,\n",
       " 'test_RMSE_to_std_ratio': 0.8048464649644018,\n",
       " 'test_MAE:': 599.6253}"
      ]
     },
     "execution_count": 180,
     "metadata": {},
     "output_type": "execute_result"
    }
   ],
   "source": [
    "prep_est_train_test = build_train_test(dataset=hypoth_df.drop(columns='actual_total_delivery_duration'),target_feature='est_order_total_prep_time',test_size=0.2)\n",
    "prep_est_model = ApplyMethod_autoML(\n",
    "    x_train=prep_est_train_test[0],\n",
    "    x_test=prep_est_train_test[1],\n",
    "    y_train=prep_est_train_test[2],\n",
    "    y_test=prep_est_train_test[3],\n",
    "    time_budget=180,\n",
    "    metric='mse',\n",
    "    estimator_list=['xgb_gamma','xgboost','xgb_limitdepth'],\n",
    "    task='regression',\n",
    "    cv_folds=5,\n",
    "    run_cv=False\n",
    ")\n",
    "prep_est_model[2]"
   ]
  },
  {
   "cell_type": "code",
   "execution_count": 181,
   "metadata": {},
   "outputs": [
    {
     "data": {
      "text/html": [
       "<div>\n",
       "<style scoped>\n",
       "    .dataframe tbody tr th:only-of-type {\n",
       "        vertical-align: middle;\n",
       "    }\n",
       "\n",
       "    .dataframe tbody tr th {\n",
       "        vertical-align: top;\n",
       "    }\n",
       "\n",
       "    .dataframe thead th {\n",
       "        text-align: right;\n",
       "    }\n",
       "</style>\n",
       "<table border=\"1\" class=\"dataframe\">\n",
       "  <thead>\n",
       "    <tr style=\"text-align: right;\">\n",
       "      <th></th>\n",
       "      <th>features</th>\n",
       "      <th>importance</th>\n",
       "    </tr>\n",
       "  </thead>\n",
       "  <tbody>\n",
       "    <tr>\n",
       "      <th>16</th>\n",
       "      <td>onshift_to_outstanding</td>\n",
       "      <td>0.111933</td>\n",
       "    </tr>\n",
       "    <tr>\n",
       "      <th>21</th>\n",
       "      <td>hour_mean_total_onshift_dashers</td>\n",
       "      <td>0.094169</td>\n",
       "    </tr>\n",
       "    <tr>\n",
       "      <th>22</th>\n",
       "      <td>hour_mean_total_busy_dashers</td>\n",
       "      <td>0.063953</td>\n",
       "    </tr>\n",
       "    <tr>\n",
       "      <th>20</th>\n",
       "      <td>hour_mean_total_outstanding_orders</td>\n",
       "      <td>0.060035</td>\n",
       "    </tr>\n",
       "    <tr>\n",
       "      <th>45</th>\n",
       "      <td>store_est_median_total_prep_time</td>\n",
       "      <td>0.037431</td>\n",
       "    </tr>\n",
       "    <tr>\n",
       "      <th>15</th>\n",
       "      <td>busy_to_outstanding</td>\n",
       "      <td>0.035190</td>\n",
       "    </tr>\n",
       "    <tr>\n",
       "      <th>31</th>\n",
       "      <td>hour_busy_outs_avg</td>\n",
       "      <td>0.024215</td>\n",
       "    </tr>\n",
       "    <tr>\n",
       "      <th>149</th>\n",
       "      <td>created_day_of_week__0</td>\n",
       "      <td>0.022797</td>\n",
       "    </tr>\n",
       "    <tr>\n",
       "      <th>38</th>\n",
       "      <td>store_est_time_prep_per_item_mean</td>\n",
       "      <td>0.019698</td>\n",
       "    </tr>\n",
       "    <tr>\n",
       "      <th>118</th>\n",
       "      <td>market_id__1.0</td>\n",
       "      <td>0.016121</td>\n",
       "    </tr>\n",
       "    <tr>\n",
       "      <th>46</th>\n",
       "      <td>store_est_mean_total_prep_time</td>\n",
       "      <td>0.015915</td>\n",
       "    </tr>\n",
       "    <tr>\n",
       "      <th>12</th>\n",
       "      <td>orders_without_dashers</td>\n",
       "      <td>0.015634</td>\n",
       "    </tr>\n",
       "    <tr>\n",
       "      <th>24</th>\n",
       "      <td>market_hour_onshift_to_outstanding_abd</td>\n",
       "      <td>0.014482</td>\n",
       "    </tr>\n",
       "    <tr>\n",
       "      <th>35</th>\n",
       "      <td>store_est_time_prep_per_item_min</td>\n",
       "      <td>0.012448</td>\n",
       "    </tr>\n",
       "    <tr>\n",
       "      <th>154</th>\n",
       "      <td>created_day_of_week__5</td>\n",
       "      <td>0.010564</td>\n",
       "    </tr>\n",
       "  </tbody>\n",
       "</table>\n",
       "</div>"
      ],
      "text/plain": [
       "                                   features  importance\n",
       "16                   onshift_to_outstanding    0.111933\n",
       "21          hour_mean_total_onshift_dashers    0.094169\n",
       "22             hour_mean_total_busy_dashers    0.063953\n",
       "20       hour_mean_total_outstanding_orders    0.060035\n",
       "45         store_est_median_total_prep_time    0.037431\n",
       "15                      busy_to_outstanding    0.035190\n",
       "31                       hour_busy_outs_avg    0.024215\n",
       "149                  created_day_of_week__0    0.022797\n",
       "38        store_est_time_prep_per_item_mean    0.019698\n",
       "118                          market_id__1.0    0.016121\n",
       "46           store_est_mean_total_prep_time    0.015915\n",
       "12                   orders_without_dashers    0.015634\n",
       "24   market_hour_onshift_to_outstanding_abd    0.014482\n",
       "35         store_est_time_prep_per_item_min    0.012448\n",
       "154                  created_day_of_week__5    0.010564"
      ]
     },
     "execution_count": 181,
     "metadata": {},
     "output_type": "execute_result"
    }
   ],
   "source": [
    "prep_est_model[1].sort_values(by='importance',ascending=False).head(15)"
   ]
  },
  {
   "cell_type": "code",
   "execution_count": 191,
   "metadata": {},
   "outputs": [],
   "source": [
    "yhat_train,yhat_test = prep_est_model[0].predict(prep_est_train_test[0]),prep_est_model[0].predict(prep_est_train_test[1])\n",
    "composite_train,composite_test = prep_est_train_test[0],prep_est_train_test[1]\n",
    "composite_train['pred_order_prep_time'],composite_test['pred_order_prep_time'] = yhat_train.reshape(-1,1),yhat_test.reshape(-1,1)\n",
    "#composite_train['composite_deliv_time'],composite_test['composite_deliv_time'] = composite_train['pred_order_prep_time'] + composite_train['est_time_non-prep'],composite_test['pred_order_prep_time'] + composite_test['est_time_non-prep']\n",
    "composite_train,composite_test = composite_train.join(hypoth_df[['actual_total_delivery_duration']]),composite_test.join(hypoth_df[['actual_total_delivery_duration']])"
   ]
  },
  {
   "cell_type": "code",
   "execution_count": 183,
   "metadata": {},
   "outputs": [
    {
     "data": {
      "text/plain": [
       "<AxesSubplot:xlabel='est_order_total_prep_time', ylabel='error'>"
      ]
     },
     "execution_count": 183,
     "metadata": {},
     "output_type": "execute_result"
    },
    {
     "data": {
      "image/png": "[encoded data removed]",
      "text/plain": [
       "<Figure size 640x480 with 1 Axes>"
      ]
     },
     "metadata": {},
     "output_type": "display_data"
    }
   ],
   "source": [
    "dgr = composite_train.join(hypoth_df[['est_order_total_prep_time']])\n",
    "dgr['abs_error'] = abs(dgr['est_order_total_prep_time'] - dgr['pred_order_prep_time'])\n",
    "dgr['error'] = dgr['est_order_total_prep_time'] - dgr['pred_order_prep_time']\n",
    "dgr.plot.scatter(x='est_order_total_prep_time',y='error')"
   ]
  },
  {
   "cell_type": "code",
   "execution_count": 195,
   "metadata": {},
   "outputs": [
    {
     "data": {
      "text/plain": [
       "{'train_RMSE:': 793.01575,\n",
       " 'train_RMSE_to_std_ratio': 0.6843738250531922,\n",
       " 'train_MAE:': 559.7056,\n",
       " 'test_RMSE:': 907.7776,\n",
       " 'test_RMSE_to_std_ratio': 0.8042272435967454,\n",
       " 'test_MAE:': 600.7541}"
      ]
     },
     "execution_count": 195,
     "metadata": {},
     "output_type": "execute_result"
    }
   ],
   "source": [
    "composite_deliv_model = ApplyMethod_autoML(\n",
    "    x_train=composite_train.drop(columns=['actual_total_delivery_duration','composite_deliv_time']),\n",
    "    x_test=composite_test.drop(columns=['actual_total_delivery_duration','composite_deliv_time']),\n",
    "    y_train=composite_train['actual_total_delivery_duration'],\n",
    "    y_test=composite_test['actual_total_delivery_duration'],\n",
    "    time_budget=180,\n",
    "    metric='mse',\n",
    "    estimator_list=['xgb_gamma','xgboost','xgb_limitdepth'],\n",
    "    task='regression',\n",
    "    cv_folds=5,\n",
    "    run_cv=True\n",
    ")\n",
    "composite_deliv_model[2]"
   ]
  },
  {
   "attachments": {},
   "cell_type": "markdown",
   "metadata": {},
   "source": [
    "w/ composite_deliv_time:\n",
    "{'train_RMSE:': 815.1652,\n",
    " 'train_RMSE_to_std_ratio': 0.7034888565661281,\n",
    " 'train_MAE:': 570.45123,\n",
    " 'test_RMSE:': 912.44415,\n",
    " 'test_RMSE_to_std_ratio': 0.808361492679291,\n",
    " 'test_MAE:': 600.00836}\n",
    "\n",
    "cv RMSE scores: [867.7579, 910.20544, 906.0279, 855.9836, 840.6531]\n",
    "Mean RMSE from cv: 876.1256\n",
    "cv RMSE to y-true std: 0.7761858125345661\n",
    "\n",
    " w/o composite_deliv_time:\n",
    "{'train_RMSE:': 793.01575,\n",
    " 'train_RMSE_to_std_ratio': 0.6843738250531922,\n",
    " 'train_MAE:': 559.7056,\n",
    " 'test_RMSE:': 907.7776,\n",
    " 'test_RMSE_to_std_ratio': 0.8042272435967454,\n",
    " 'test_MAE:': 600.7541}\n",
    "\n",
    "[860.98395, 901.5238, 898.82605, 853.83453, 833.52484]\n",
    "869.73865\n",
    "0.7705274115903241"
   ]
  },
  {
   "cell_type": "code",
   "execution_count": 196,
   "metadata": {},
   "outputs": [
    {
     "name": "stdout",
     "output_type": "stream",
     "text": [
      "[860.98395, 901.5238, 898.82605, 853.83453, 833.52484]\n",
      "869.73865\n",
      "0.7705274115903241\n"
     ]
    }
   ],
   "source": [
    "print(composite_deliv_model[3])\n",
    "print(np.mean(composite_deliv_model[3]))\n",
    "print(np.mean(composite_deliv_model[3])/np.std(composite_test['actual_total_delivery_duration']))"
   ]
  },
  {
   "cell_type": "code",
   "execution_count": 197,
   "metadata": {},
   "outputs": [
    {
     "data": {
      "text/html": [
       "<div>\n",
       "<style scoped>\n",
       "    .dataframe tbody tr th:only-of-type {\n",
       "        vertical-align: middle;\n",
       "    }\n",
       "\n",
       "    .dataframe tbody tr th {\n",
       "        vertical-align: top;\n",
       "    }\n",
       "\n",
       "    .dataframe thead th {\n",
       "        text-align: right;\n",
       "    }\n",
       "</style>\n",
       "<table border=\"1\" class=\"dataframe\">\n",
       "  <thead>\n",
       "    <tr style=\"text-align: right;\">\n",
       "      <th></th>\n",
       "      <th>features</th>\n",
       "      <th>importance</th>\n",
       "    </tr>\n",
       "  </thead>\n",
       "  <tbody>\n",
       "    <tr>\n",
       "      <th>156</th>\n",
       "      <td>pred_order_prep_time</td>\n",
       "      <td>0.139058</td>\n",
       "    </tr>\n",
       "    <tr>\n",
       "      <th>147</th>\n",
       "      <td>created_hour_of_day__22</td>\n",
       "      <td>0.048176</td>\n",
       "    </tr>\n",
       "    <tr>\n",
       "      <th>10</th>\n",
       "      <td>est_time_non-prep</td>\n",
       "      <td>0.036919</td>\n",
       "    </tr>\n",
       "    <tr>\n",
       "      <th>6</th>\n",
       "      <td>total_busy_dashers</td>\n",
       "      <td>0.032640</td>\n",
       "    </tr>\n",
       "    <tr>\n",
       "      <th>8</th>\n",
       "      <td>estimated_order_place_duration</td>\n",
       "      <td>0.031526</td>\n",
       "    </tr>\n",
       "    <tr>\n",
       "      <th>90</th>\n",
       "      <td>clean_store_primary_category__mediterranean</td>\n",
       "      <td>0.030337</td>\n",
       "    </tr>\n",
       "    <tr>\n",
       "      <th>5</th>\n",
       "      <td>total_onshift_dashers</td>\n",
       "      <td>0.023403</td>\n",
       "    </tr>\n",
       "    <tr>\n",
       "      <th>16</th>\n",
       "      <td>onshift_to_outstanding</td>\n",
       "      <td>0.021803</td>\n",
       "    </tr>\n",
       "    <tr>\n",
       "      <th>84</th>\n",
       "      <td>clean_store_primary_category__japanese</td>\n",
       "      <td>0.017603</td>\n",
       "    </tr>\n",
       "    <tr>\n",
       "      <th>123</th>\n",
       "      <td>market_id__6.0</td>\n",
       "      <td>0.016424</td>\n",
       "    </tr>\n",
       "    <tr>\n",
       "      <th>111</th>\n",
       "      <td>clean_store_primary_category__sushi</td>\n",
       "      <td>0.012465</td>\n",
       "    </tr>\n",
       "    <tr>\n",
       "      <th>25</th>\n",
       "      <td>market_hour_busy_outs_avg</td>\n",
       "      <td>0.011942</td>\n",
       "    </tr>\n",
       "    <tr>\n",
       "      <th>145</th>\n",
       "      <td>created_hour_of_day__20</td>\n",
       "      <td>0.010390</td>\n",
       "    </tr>\n",
       "    <tr>\n",
       "      <th>38</th>\n",
       "      <td>store_est_time_prep_per_item_mean</td>\n",
       "      <td>0.010385</td>\n",
       "    </tr>\n",
       "    <tr>\n",
       "      <th>29</th>\n",
       "      <td>hour_onshift_outs_avg</td>\n",
       "      <td>0.009867</td>\n",
       "    </tr>\n",
       "  </tbody>\n",
       "</table>\n",
       "</div>"
      ],
      "text/plain": [
       "                                        features  importance\n",
       "156                         pred_order_prep_time    0.139058\n",
       "147                      created_hour_of_day__22    0.048176\n",
       "10                             est_time_non-prep    0.036919\n",
       "6                             total_busy_dashers    0.032640\n",
       "8                 estimated_order_place_duration    0.031526\n",
       "90   clean_store_primary_category__mediterranean    0.030337\n",
       "5                          total_onshift_dashers    0.023403\n",
       "16                        onshift_to_outstanding    0.021803\n",
       "84        clean_store_primary_category__japanese    0.017603\n",
       "123                               market_id__6.0    0.016424\n",
       "111          clean_store_primary_category__sushi    0.012465\n",
       "25                     market_hour_busy_outs_avg    0.011942\n",
       "145                      created_hour_of_day__20    0.010390\n",
       "38             store_est_time_prep_per_item_mean    0.010385\n",
       "29                         hour_onshift_outs_avg    0.009867"
      ]
     },
     "execution_count": 197,
     "metadata": {},
     "output_type": "execute_result"
    }
   ],
   "source": [
    "composite_deliv_model[1].sort_values(by='importance',ascending=False).head(15)"
   ]
  },
  {
   "attachments": {},
   "cell_type": "markdown",
   "metadata": {},
   "source": [
    "Despite adding a new and promising feature, the inability of the first model to accurately estimate the amount of time an order spends in the store produces a somewhat disappointing outcome. The cross-validated RMSE is only 869.73865."
   ]
  }
 ],
 "metadata": {
  "kernelspec": {
   "display_name": "Python 3.9.7 ('base')",
   "language": "python",
   "name": "python3"
  },
  "language_info": {
   "codemirror_mode": {
    "name": "ipython",
    "version": 3
   },
   "file_extension": ".py",
   "mimetype": "text/x-python",
   "name": "python",
   "nbconvert_exporter": "python",
   "pygments_lexer": "ipython3",
   "version": "3.9.15"
  },
  "orig_nbformat": 4,
  "vscode": {
   "interpreter": {
    "hash": "96d1af5f869624c072d9e03e4f7fcffed44526ca720f1a36a76cd678c41e0e80"
   }
  }
 },
 "nbformat": 4,
 "nbformat_minor": 2
}
