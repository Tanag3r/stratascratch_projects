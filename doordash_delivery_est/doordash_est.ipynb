{
 "cells": [
  {
   "attachments": {},
   "cell_type": "markdown",
   "metadata": {},
   "source": [
    "## Delivery Duration Prediction\n",
    "\n",
    "When a consumer places an order on DoorDash, we show the expected time of delivery. It is very important for DoorDash to get this right, as it has a big impact on consumer experience. In this exercise, you will build a model to predict the estimated time taken for a delivery.\n",
    "\n",
    "Concretely, for a given delivery you must predict the total delivery duration seconds , i.e., the time taken from:\n",
    "\n",
    "__Start:__ the time consumer submits the order `(created_at)` to\n",
    "\n",
    "__End:__ when the order will be delivered to the consumer `(actual_delivery_time)`\n",
    "\n",
    "#### My Approach\n",
    "\n",
    "The dataset comes with two other predicted values: `estimated_order_place_duration` and `estimated_store_to_consumer_driving_duration`. The missing piece is the amount of time the order spends in the store. In addition to generic feature engineering, I will be creating separate order 'prep_time' statistics tables/dataframes to simulate gold fact tables in a database or features from a feature store (i.e. Feather, Feast) that would in turn live in a data lake.\n",
    "\n",
    "This is a fairly popular exercise so it is possible to derive performance objectives. My goal is to produce a feature set and model that has a test RMSE of less than 900 seconds against a holdout size of 0.2, a cross-validated RMSE of less than 950 and a test MAE of less than 600 seconds. My stretch goal is a cross-validated RMSE less than 900. For reference, the best models publically available produce a test RMSE around 980 - 1000 seconds with a holdout size of 0.2. "
   ]
  },
  {
   "cell_type": "code",
   "execution_count": 2,
   "metadata": {},
   "outputs": [],
   "source": [
    "import warnings\n",
    "warnings.simplefilter(action='ignore',category=FutureWarning)\n",
    "\n",
    "import pickle\n",
    "import pandas as pd\n",
    "import pyarrow as pa\n",
    "import numpy as np\n",
    "import scipy.stats as stats\n",
    "import matplotlib.pyplot as plt\n",
    "from datetime import datetime as dt\n",
    "\n",
    "from statsmodels.stats.outliers_influence import variance_inflation_factor\n",
    "from statsmodels.stats.diagnostic import het_white\n",
    "from statsmodels.tools import add_constant\n",
    "from sklearn.model_selection import train_test_split,KFold,cross_val_score\n",
    "from sklearn.decomposition import PCA\n",
    "from sklearn.preprocessing import StandardScaler,MinMaxScaler\n",
    "from sklearn.metrics import mean_squared_error, mean_absolute_error\n",
    "from sklearn.metrics import accuracy_score,roc_auc_score,log_loss\n",
    "from scipy import stats\n",
    "\n",
    "from flaml import AutoML\n",
    "from flaml.automl.model import XGBoostEstimator"
   ]
  },
  {
   "cell_type": "code",
   "execution_count": 5,
   "metadata": {},
   "outputs": [],
   "source": [
    "np.random.seed(42)"
   ]
  },
  {
   "cell_type": "code",
   "execution_count": 6,
   "metadata": {},
   "outputs": [],
   "source": [
    "## NOTE that all feature engineering functions can be found in doordash_feature_eng.py\n",
    "train_df = pd.read_csv('train_df.csv')\n",
    "train_df = train_df.drop(columns=['Unnamed: 0','latest_update'])"
   ]
  },
  {
   "cell_type": "code",
   "execution_count": 6,
   "metadata": {},
   "outputs": [],
   "source": [
    "def createBaseline(historical_data:pd.DataFrame) -> pd.DataFrame:   #this function would be done in practice by SQL or Spark\n",
    "    assert 'actual_total_delivery_duration' in historical_data.columns; 'Column actual_total_delivery_duration is not in the given DataFrame. Ensure that addFeatures_durations() was run on the provided DataFrame.'\n",
    "    try:\n",
    "        baseline_data = historical_data[['store_id','actual_total_delivery_duration']]\n",
    "        baseline_data = baseline_data.dropna()\n",
    "        baseline_data = pd.merge(\n",
    "            left=baseline_data,\n",
    "            right=baseline_data.groupby('store_id').actual_total_delivery_duration.aggregate([np.mean,np.std]),\n",
    "            how='inner',\n",
    "            on='store_id'\n",
    "        )\n",
    "        baseline_data['z-score'] = (baseline_data['actual_total_delivery_duration'] - baseline_data['mean']) / baseline_data['std']\n",
    "        baseline_data = baseline_data.loc[(baseline_data['z-score'] <=3) & (baseline_data['z-score'] >= -3)]\n",
    "        baseline_avgs = baseline_data.groupby('store_id').actual_total_delivery_duration.aggregate([np.mean])\n",
    "        baseline_data = pd.merge(\n",
    "            left=historical_data[['store_id','actual_total_delivery_duration']].dropna(),\n",
    "            right=baseline_avgs,\n",
    "            on='store_id'\n",
    "        )\n",
    "        baseline_MAE = mean_absolute_error(y_true=baseline_data['actual_total_delivery_duration'],y_pred=baseline_data['mean'])\n",
    "        baseline_RMSE = mean_squared_error(y_true=baseline_data['actual_total_delivery_duration'],y_pred=baseline_data['mean'],squared=False)\n",
    "    except Exception as ex:\n",
    "        raise ex\n",
    "    return {'baseline_MAE:':baseline_MAE,'baseline_RMSE:':baseline_RMSE}"
   ]
  },
  {
   "cell_type": "code",
   "execution_count": 27,
   "metadata": {},
   "outputs": [
    {
     "data": {
      "text/plain": [
       "array([[<AxesSubplot:title={'center':'actual_total_delivery_duration'}>]],\n",
       "      dtype=object)"
      ]
     },
     "execution_count": 27,
     "metadata": {},
     "output_type": "execute_result"
    },
    {
     "data": {
      "image/png": "[encoded data removed]",
      "text/plain": [
       "<Figure size 640x480 with 1 Axes>"
      ]
     },
     "metadata": {},
     "output_type": "display_data"
    }
   ],
   "source": [
    "## What is the distribution of the actual_total_delivery_time values around the mean?\n",
    "x = train_df[['actual_total_delivery_duration']].apply(stats.zscore)\n",
    "x.hist(column='actual_total_delivery_duration',bins=25)"
   ]
  },
  {
   "cell_type": "code",
   "execution_count": 181,
   "metadata": {},
   "outputs": [],
   "source": [
    "## dimensionality reduction functions with variance inflaction\n",
    "\n",
    "def calcVIF(feature_frame:pd.DataFrame,target_feature:str):\n",
    "    try:\n",
    "        feature_frame = add_constant(feature_frame)\n",
    "        feature_list = feature_frame.drop(columns=[target_feature]).columns.to_list()\n",
    "        vif_frame = pd.DataFrame()\n",
    "        vif_frame['feature'] = feature_list\n",
    "        vif_frame['VIF'] = [variance_inflation_factor(feature_frame[feature_list].values,i) for i in range(len(feature_list))]\n",
    "    except Exception as ex:\n",
    "        raise ex\n",
    "    return vif_frame.sort_values(by=['VIF'],ascending=False).reset_index(drop=True)\n",
    "\n",
    "def VIF_dim_reduction(feature_frame:pd.DataFrame,target_feature:str,vif_limit:int):\n",
    "    vif_table = calcVIF(feature_frame=feature_frame,target_feature=target_feature)\n",
    "    try:\n",
    "        ## drop nan columns from feature set, nan VIF values from base VIF table\n",
    "        vif_table['VIF'].replace(to_replace=[np.inf,-np.inf],value=np.nan,inplace=True)\n",
    "        nan_list = vif_table[vif_table['VIF'].isnull()]['feature'].to_list()\n",
    "        feature_frame = feature_frame.drop(columns=nan_list)\n",
    "        vif_table = vif_table.set_index(vif_table.feature)\n",
    "        vif_table = vif_table.drop(labels=nan_list).reset_index(drop=True)\n",
    "        ## start\n",
    "        multicollinearity = True if vif_table['VIF'].values.tolist()[1] > vif_limit else False\n",
    "        while multicollinearity:\n",
    "            lead_vif_feature = vif_table['feature'].values.tolist()[1]\n",
    "            feature_frame = feature_frame.drop(columns=lead_vif_feature)\n",
    "            vif_table = calcVIF(feature_frame=feature_frame,target_feature=target_feature)\n",
    "            multicollinearity = True if vif_table['VIF'].values.tolist()[1] > vif_limit else False\n",
    "    except Exception as ex:\n",
    "        raise ex\n",
    "    return feature_frame,vif_table"
   ]
  },
  {
   "cell_type": "code",
   "execution_count": 4,
   "metadata": {},
   "outputs": [],
   "source": [
    "## feature selection/dimensionality reduction with PCA\n",
    "##TODO #2 make a class for PCA\n",
    "##TODO #3 retain row numbers in scaler --DONE\n",
    "\n",
    "def build_train_test(dataset:pd.DataFrame,target_feature:str,test_size:int):\n",
    "    try:\n",
    "        X = dataset.drop(columns=target_feature)\n",
    "        y = dataset[target_feature]\n",
    "        x_train,x_test,y_train,y_test = train_test_split(X,y,test_size=test_size,random_state=42)\n",
    "        x_train,x_test = pd.DataFrame(x_train),pd.DataFrame(x_test)\n",
    "    except Exception as ex:\n",
    "        raise ex\n",
    "    return x_train,x_test,y_train,y_test\n",
    "\n",
    "def apply_standard_scaler(dataset):\n",
    "#applies the standard scaler to a single dataset\n",
    "    scaler = StandardScaler()\n",
    "    try:\n",
    "        if type(dataset) == pd.DataFrame:\n",
    "            scaler = scaler.fit(dataset.values)\n",
    "            dataset_scaled = scaler.transform(dataset.values)\n",
    "            dataset_scaled = pd.DataFrame(dataset_scaled,index=dataset.index,columns=dataset.columns)\n",
    "        else:\n",
    "            scaler = scaler.fit(dataset)\n",
    "            dataset_scaled = scaler.transform(dataset)\n",
    "            test_stdScale = scaler.transform(dataset)\n",
    "    except Exception as ex:\n",
    "        raise ex\n",
    "    return dataset_scaled,scaler\n",
    "\n",
    "def transform_rmse_to_seconds(scaler,y_test,y_hat_scaled):\n",
    "    try:\n",
    "        y_hat_descaled = scaler.inverse_transform(y_hat_scaled.reshape(-1,1))\n",
    "        rmse_descaled = mean_squared_error(y_pred=y_test,y_true=y_hat_descaled[:,0],squared=False)\n",
    "    except Exception as ex:\n",
    "        raise ex\n",
    "    return y_hat_descaled,rmse_descaled"
   ]
  },
  {
   "cell_type": "code",
   "execution_count": 26,
   "metadata": {},
   "outputs": [],
   "source": [
    "def PCAcalc_expl_var(x_train,target_expl_variance:int):\n",
    "## returns the number of components required to explain the target_expl_variance\n",
    "# and a feature to component ratio to support automation of further dimensionality reduction\n",
    "    pca = PCA()\n",
    "    x_train_scaled = apply_standard_scaler(x_train)[0]\n",
    "    try:\n",
    "        pca = pca.fit(x_train_scaled)\n",
    "        components = np.cumsum(pca.explained_variance_ratio_)\n",
    "        components = [i for i in components if i <= target_expl_variance]\n",
    "        feature_to_component_ratio = len(components)/x_train.shape[1]\n",
    "    except Exception as ex:\n",
    "        raise ex\n",
    "    return components,feature_to_component_ratio\n",
    "\n",
    "def PCAcalc_dim_reduction(x_train,x_test,desired_components:int):\n",
    "## you know, dimensionality reduction\n",
    "    pca = PCA(n_components=desired_components)\n",
    "    x_train_scaled,x_test_scaled = apply_standard_scaler(x_train)[0],apply_standard_scaler(x_test)[0]\n",
    "    try:\n",
    "        pca = pca.fit(x_train_scaled)\n",
    "        x_train_pca,x_test_pca = pca.transform(x_train_scaled),pca.transform(x_test_scaled)\n",
    "    except Exception as ex:\n",
    "        raise ex\n",
    "    return x_train_pca,x_test_pca"
   ]
  },
  {
   "cell_type": "code",
   "execution_count": 29,
   "metadata": {},
   "outputs": [],
   "source": [
    "x_train,x_holdout,y_train,y_holdout = build_train_test(dataset=train_df,target_feature='actual_total_delivery_duration',test_size=0.2)"
   ]
  },
  {
   "attachments": {},
   "cell_type": "markdown",
   "metadata": {},
   "source": [
    "#### Dimensionality reduction with VIF"
   ]
  },
  {
   "cell_type": "code",
   "execution_count": null,
   "metadata": {},
   "outputs": [],
   "source": [
    "VIF_features = VIF_dim_reduction(feature_frame=train_df,target_feature='actual_total_delivery_duration',vif_limit=20)[1]\n",
    "VIF_featureset = VIF_features.drop(VIF_features[VIF_features.feature == 'const'].index)\n",
    "VIF_featureset = VIF_featureset['feature'].to_list()\n",
    "VIF_featureset = VIF_featureset + ['actual_total_delivery_duration']\n",
    "VIF_train_df = train_df[VIF_featureset]"
   ]
  },
  {
   "cell_type": "code",
   "execution_count": 183,
   "metadata": {},
   "outputs": [],
   "source": [
    "x_train_vif,x_test_vif = x_train[VIF_featureset],x_holdout[VIF_featureset]"
   ]
  },
  {
   "cell_type": "code",
   "execution_count": 33,
   "metadata": {},
   "outputs": [
    {
     "name": "stdout",
     "output_type": "stream",
     "text": [
      "We need 97 features (out of 166 available) to explain 90 percent of the variance.\n"
     ]
    },
    {
     "data": {
      "image/png": "[encoded data removed]",
      "text/plain": [
       "<Figure size 640x480 with 1 Axes>"
      ]
     },
     "metadata": {},
     "output_type": "display_data"
    }
   ],
   "source": [
    "## how many features are needed to explain 90% of the variance?\n",
    "print(\"We need \" + str(len(PCAcalc_expl_var(x_train=x_train,target_expl_variance=0.9)[0])) + \" features (out of \" + str(x_train.shape[1]) + \" available) to explain 90 percent of the variance.\")\n",
    "\n",
    "x_train_scaled = apply_standard_scaler(x_train)[0]\n",
    "pca = PCA().fit(x_train_scaled)\n",
    "\n",
    "plt.plot(np.cumsum(pca.explained_variance_ratio_))\n",
    "plt.xlim(0,175,1)\n",
    "plt.xlabel('Number of components')\n",
    "plt.ylabel('Cumulative explained variance')\n",
    "plt.show()"
   ]
  },
  {
   "attachments": {},
   "cell_type": "markdown",
   "metadata": {},
   "source": [
    "#### Dimensionality reduction with PCA"
   ]
  },
  {
   "cell_type": "code",
   "execution_count": 46,
   "metadata": {},
   "outputs": [],
   "source": [
    "x_train_pca,x_test_pca = PCAcalc_dim_reduction(x_train=x_train,x_test=x_holdout,desired_components=len(PCAcalc_expl_var(x_train=x_train,target_expl_variance=0.9)[0]))"
   ]
  },
  {
   "attachments": {},
   "cell_type": "markdown",
   "metadata": {},
   "source": [
    "### Model functions, model selection and first round results"
   ]
  },
  {
   "cell_type": "code",
   "execution_count": 8,
   "metadata": {},
   "outputs": [],
   "source": [
    "def ApplyMethod_autoML(x_train,x_test,y_train,y_test,time_budget=int,metric=str,estimator_list=list,task=str,run_cv=bool,cv_folds=int,file_path=str,model_name=str):\n",
    "    auto_ml = AutoML()\n",
    "    kf = KFold(n_splits=cv_folds,random_state=42,shuffle=True)\n",
    "    cv_scores = []\n",
    "## recall that the actual_total_delivery_time data is gamma distributed\n",
    "    class xgbGamma(XGBoostEstimator):\n",
    "        def __init__(self, task=\"regression\", **config):\n",
    "            super().__init__(objective='reg:gamma', **config)\n",
    "    auto_ml.add_learner(learner_name=\"xgb_gamma\",learner_class=xgbGamma)\n",
    "    try:\n",
    "        auto_ml.fit(X_train=x_train,y_train=y_train,time_budget=time_budget,metric=metric,estimator_list=estimator_list,task=task,seed=42,verbose=0)\n",
    "        trained_model = auto_ml\n",
    "        ## store the model\n",
    "        model_pickle = open(f'{file_path}/automl_{model_name}.pkl','wb')\n",
    "        pickle.dump(auto_ml.model,model_pickle,pickle.HIGHEST_PROTOCOL)\n",
    "        model_pickle.close()\n",
    "        ## feature importances\n",
    "        feature_importances_df = pd.DataFrame({'features':auto_ml.feature_names_in_,'importance':auto_ml.feature_importances_})\n",
    "        ## cross-validation\n",
    "        if run_cv == True:\n",
    "            model_count = 1\n",
    "            for train_index,test_index in kf.split(x_train):\n",
    "                cv_xtrain,cv_xtest = x_train.iloc[train_index],x_train.iloc[test_index]\n",
    "                cv_ytrain,cv_ytest = y_train.iloc[train_index],y_train.iloc[test_index]\n",
    "                auto_ml.fit(X_train=cv_xtrain,y_train=cv_ytrain,time_budget=time_budget,metric=metric,estimator_list=[str(trained_model.best_estimator)],task=task,seed=42,verbose=0)\n",
    "                ## predict, validate\n",
    "                cv_yhat = auto_ml.predict(cv_xtest)\n",
    "                if task == 'regression':\n",
    "                    rmse = mean_squared_error(y_true=cv_ytest,y_pred=cv_yhat,squared=False)\n",
    "                    cv_scores.append(rmse)\n",
    "                if task == 'classification':\n",
    "                    accuracy = accuracy_score(y_true=cv_ytest,y_pred=cv_yhat)\n",
    "                    cv_scores.append(accuracy)\n",
    "        if task == 'regression':\n",
    "        ## test error\n",
    "            y_hat_test = auto_ml.predict(x_test)\n",
    "            test_RMSE = mean_squared_error(y_true=y_test,y_pred=y_hat_test,squared=False)\n",
    "            test_MAE = mean_absolute_error(y_true=y_test,y_pred=y_hat_test)\n",
    "            ## feature importances\n",
    "            ## train error\n",
    "            y_hat_train = auto_ml.predict(x_train)\n",
    "            train_RMSE = mean_squared_error(y_true=y_train,y_pred=y_hat_train,squared=False)\n",
    "            train_MAE = mean_absolute_error(y_true=y_train,y_pred=y_hat_train)\n",
    "            eval_stats = {\n",
    "                'train_RMSE:':train_RMSE,\n",
    "                # gives context to the RMSE; the lower the ratio the better\n",
    "                'train_RMSE_to_std_ratio':train_RMSE / (np.std(y_train)),\n",
    "                'train_MAE:':train_MAE,\n",
    "                'test_RMSE:':test_RMSE,\n",
    "                # gives context to the RMSE; the lower the ratio the better\n",
    "                'test_RMSE_to_std_ratio':test_RMSE / (np.std(y_test)),\n",
    "                'test_MAE:':test_MAE\n",
    "            }\n",
    "        if task == 'classification':\n",
    "            y_hat_test = auto_ml.predict(x_test)\n",
    "            y_hat_test_proba = auto_ml.predict_proba(x_test)\n",
    "            y_hat_train = auto_ml.predict(x_train)\n",
    "            y_hat_train_proba = auto_ml.predict_proba(x_train)\n",
    "            eval_stats = {\n",
    "                'train_accuracy': accuracy_score(y_true=y_train,y_pred=y_hat_train),\n",
    "                'train_roc_auc': roc_auc_score(y_true=y_train,y_score=y_hat_train_proba[:,1]),\n",
    "                'test_accuracy': accuracy_score(y_true=y_test,y_pred=y_hat_test),\n",
    "                'test_roc_auc': roc_auc_score(y_true=y_test,y_score=y_hat_test_proba[:,1])\n",
    "            }\n",
    "    except Exception as ex:\n",
    "        raise ex\n",
    "    return trained_model,feature_importances_df.sort_values(by='importance',ascending=False),eval_stats,cv_scores"
   ]
  },
  {
   "attachments": {},
   "cell_type": "markdown",
   "metadata": {},
   "source": [
    "#### PCA versus VIF dimensionality reduction:\n",
    "\n",
    "TODO: #10 rewrite dimensionality reduction write-up\n",
    "\n",
    "PCA:\n",
    "\n",
    "    {'train_RMSE:': 922.044768243236,\n",
    "    'train_RMSE_to_std_ratio': 0.7988714697866253,\n",
    "    'train_MAE:': 612.6975717392198,\n",
    "    'test_RMSE:': 1194.7149190518521,\n",
    "    'test_RMSE_to_std_ratio': 1.0702272444393133,\n",
    "    'test_MAE:': 905.0272597795322}\n",
    "\n",
    "Top features (calculated top features, then re-fit the model using the number of features required to explain 90% of the variance (97 out of 166 features)):\n",
    "\n",
    "    {'train_RMSE:': 755.9607139874619,\n",
    "    'train_RMSE_to_std_ratio': 0.6549741048200352,\n",
    "    'train_MAE:': 534.3812971371257,\n",
    "    'test_RMSE:': 845.7946618754502,\n",
    "    'test_RMSE_to_std_ratio': 0.7576640049484116,\n",
    "    'test_MAE:': 565.5202886412139}\n",
    "\n",
    "No dimensionality reduction:\n",
    "\n",
    "    {'train_RMSE:': 721.3968731672105,\n",
    "    'train_RMSE_to_std_ratio': 0.6250275477020395,\n",
    "    'train_MAE:': 513.6525913271923,\n",
    "    'test_RMSE:': 833.177098601647,\n",
    "    'test_RMSE_to_std_ratio': 0.746361174659176,\n",
    "    'test_MAE:': 557.4898258667698}\n",
    "\n",
    "\n",
    "The score for the PCA-reduced model is so comparitively poor that it is worthy of suspiscion - I am probably using PCA incorrectly. Given that the goal of dimensionality reduction is to reduce compute requirements (and therefore cost) while retaining as much of the unreduced model's performance as possible, the best choice at the moment is to use a 'top-feature' approach."
   ]
  },
  {
   "cell_type": "code",
   "execution_count": 47,
   "metadata": {},
   "outputs": [
    {
     "data": {
      "text/plain": [
       "{'train_RMSE:': 922.044768243236,\n",
       " 'train_RMSE_to_std_ratio': 0.7988714697866253,\n",
       " 'train_MAE:': 612.6975717392198,\n",
       " 'test_RMSE:': 1194.7149190518521,\n",
       " 'test_RMSE_to_std_ratio': 1.0702272444393133,\n",
       " 'test_MAE:': 905.0272597795322}"
      ]
     },
     "execution_count": 47,
     "metadata": {},
     "output_type": "execute_result"
    }
   ],
   "source": [
    "pca_regressions = ApplyMethod_autoML(\n",
    "    x_train=x_train_pca,\n",
    "    x_test=x_test_pca,\n",
    "    y_train=y_train,\n",
    "    y_test=y_holdout,\n",
    "    time_budget=400,\n",
    "    metric='mse',\n",
    "    estimator_list=['xgb_gamma','xgboost','xgb_limitdepth'],\n",
    "    task='regression',\n",
    "    run_cv=False,\n",
    "    cv_folds=5,\n",
    "    file_path='singleModel_noSplit_pickles',\n",
    "    model_name='xgbregression_pca'\n",
    "    )\n",
    "pca_regressions[2]"
   ]
  },
  {
   "cell_type": "code",
   "execution_count": 75,
   "metadata": {},
   "outputs": [
    {
     "data": {
      "text/plain": [
       "{'train_RMSE:': 775.2071297497488,\n",
       " 'train_RMSE_to_std_ratio': 0.6716494474690015,\n",
       " 'train_MAE:': 533.3797480868415,\n",
       " 'test_RMSE:': 838.6686685160196,\n",
       " 'test_RMSE_to_std_ratio': 0.7512805304346684,\n",
       " 'test_MAE:': 559.3233676640386}"
      ]
     },
     "execution_count": 75,
     "metadata": {},
     "output_type": "execute_result"
    }
   ],
   "source": [
    "auto_xgb_no_reduction = ApplyMethod_autoML(\n",
    "    x_train=x_train,\n",
    "    x_test=x_holdout,\n",
    "    y_train=y_train,\n",
    "    y_test=y_holdout,\n",
    "    time_budget=400,\n",
    "    metric='mse',\n",
    "    estimator_list=['xgb_gamma','xgboost','xgb_limitdepth'],\n",
    "    task='regression',\n",
    "    run_cv=True,\n",
    "    cv_folds=5,\n",
    "    file_path='singleModel_noSplit_pickles',\n",
    "    model_name='xgbreg_all_features'\n",
    ")\n",
    "auto_xgb_no_reduction[2]"
   ]
  },
  {
   "cell_type": "code",
   "execution_count": 78,
   "metadata": {},
   "outputs": [
    {
     "data": {
      "text/plain": [
       "2850.000644965194"
      ]
     },
     "execution_count": 78,
     "metadata": {},
     "output_type": "execute_result"
    }
   ],
   "source": [
    "np.mean(y_train)"
   ]
  },
  {
   "cell_type": "code",
   "execution_count": 79,
   "metadata": {},
   "outputs": [
    {
     "data": {
      "text/plain": [
       "2842.231533374848"
      ]
     },
     "execution_count": 79,
     "metadata": {},
     "output_type": "execute_result"
    }
   ],
   "source": [
    "np.mean(y_holdout)"
   ]
  },
  {
   "cell_type": "code",
   "execution_count": 76,
   "metadata": {},
   "outputs": [
    {
     "name": "stdout",
     "output_type": "stream",
     "text": [
      "Cross-validation results (RMSE): \n",
      "[928.0659595118198, 866.9700127007313, 861.5295421654322, 927.3771927147455, 899.9744304738704]\n",
      "Mean of cross-validation results (RMSE): 896.7834275133198\n",
      "Best estimator: xgb_limitdepth\n",
      "Best configuration: \n",
      "{'n_estimators': 1028, 'max_depth': 6, 'min_child_weight': 1.4640336660392816, 'learning_rate': 0.02159558962109372, 'subsample': 0.8640052147174596, 'colsample_bylevel': 0.8726369812699186, 'colsample_bytree': 0.9407746256493329, 'reg_alpha': 0.0009765625, 'reg_lambda': 13.44701768864806}\n"
     ]
    }
   ],
   "source": [
    "print(\"Cross-validation results (RMSE): \")\n",
    "print(auto_xgb_no_reduction[3])\n",
    "print(\"Mean of cross-validation results (RMSE): \" + str(np.mean(auto_xgb_no_reduction[3])))\n",
    "print(\"Best estimator: \" + auto_xgb_no_reduction[0].best_estimator)\n",
    "print(\"Best configuration: \")\n",
    "print(auto_xgb_no_reduction[0].best_config)"
   ]
  },
  {
   "cell_type": "code",
   "execution_count": 36,
   "metadata": {},
   "outputs": [
    {
     "data": {
      "text/html": [
       "<div>\n",
       "<style scoped>\n",
       "    .dataframe tbody tr th:only-of-type {\n",
       "        vertical-align: middle;\n",
       "    }\n",
       "\n",
       "    .dataframe tbody tr th {\n",
       "        vertical-align: top;\n",
       "    }\n",
       "\n",
       "    .dataframe thead th {\n",
       "        text-align: right;\n",
       "    }\n",
       "</style>\n",
       "<table border=\"1\" class=\"dataframe\">\n",
       "  <thead>\n",
       "    <tr style=\"text-align: right;\">\n",
       "      <th></th>\n",
       "      <th>features</th>\n",
       "      <th>importance</th>\n",
       "    </tr>\n",
       "  </thead>\n",
       "  <tbody>\n",
       "    <tr>\n",
       "      <th>16</th>\n",
       "      <td>onshift_to_outstanding</td>\n",
       "      <td>0.082321</td>\n",
       "    </tr>\n",
       "    <tr>\n",
       "      <th>53</th>\n",
       "      <td>store_day_median_total_prep_time</td>\n",
       "      <td>0.054282</td>\n",
       "    </tr>\n",
       "    <tr>\n",
       "      <th>21</th>\n",
       "      <td>hour_mean_total_onshift_dashers</td>\n",
       "      <td>0.050517</td>\n",
       "    </tr>\n",
       "    <tr>\n",
       "      <th>20</th>\n",
       "      <td>hour_mean_total_outstanding_orders</td>\n",
       "      <td>0.032606</td>\n",
       "    </tr>\n",
       "    <tr>\n",
       "      <th>10</th>\n",
       "      <td>est_time_non-prep</td>\n",
       "      <td>0.031837</td>\n",
       "    </tr>\n",
       "    <tr>\n",
       "      <th>15</th>\n",
       "      <td>busy_to_outstanding</td>\n",
       "      <td>0.024344</td>\n",
       "    </tr>\n",
       "    <tr>\n",
       "      <th>49</th>\n",
       "      <td>store_day_of_week_est_time_prep_per_item_mean</td>\n",
       "      <td>0.023995</td>\n",
       "    </tr>\n",
       "    <tr>\n",
       "      <th>22</th>\n",
       "      <td>hour_mean_total_busy_dashers</td>\n",
       "      <td>0.023908</td>\n",
       "    </tr>\n",
       "    <tr>\n",
       "      <th>156</th>\n",
       "      <td>created_day_of_week__0</td>\n",
       "      <td>0.020687</td>\n",
       "    </tr>\n",
       "    <tr>\n",
       "      <th>31</th>\n",
       "      <td>hour_busy_outs_avg</td>\n",
       "      <td>0.019230</td>\n",
       "    </tr>\n",
       "  </tbody>\n",
       "</table>\n",
       "</div>"
      ],
      "text/plain": [
       "                                          features  importance\n",
       "16                          onshift_to_outstanding    0.082321\n",
       "53                store_day_median_total_prep_time    0.054282\n",
       "21                 hour_mean_total_onshift_dashers    0.050517\n",
       "20              hour_mean_total_outstanding_orders    0.032606\n",
       "10                               est_time_non-prep    0.031837\n",
       "15                             busy_to_outstanding    0.024344\n",
       "49   store_day_of_week_est_time_prep_per_item_mean    0.023995\n",
       "22                    hour_mean_total_busy_dashers    0.023908\n",
       "156                         created_day_of_week__0    0.020687\n",
       "31                              hour_busy_outs_avg    0.019230"
      ]
     },
     "execution_count": 36,
     "metadata": {},
     "output_type": "execute_result"
    }
   ],
   "source": [
    "auto_xgb_no_reduction[1].sort_values(by='importance',ascending=False).head(10)"
   ]
  },
  {
   "cell_type": "code",
   "execution_count": 42,
   "metadata": {},
   "outputs": [
    {
     "data": {
      "text/plain": [
       "{'train_RMSE:': 755.9607139874619,\n",
       " 'train_RMSE_to_std_ratio': 0.6549741048200352,\n",
       " 'train_MAE:': 534.3812971371257,\n",
       " 'test_RMSE:': 845.7946618754502,\n",
       " 'test_RMSE_to_std_ratio': 0.7576640049484116,\n",
       " 'test_MAE:': 565.5202886412139}"
      ]
     },
     "execution_count": 42,
     "metadata": {},
     "output_type": "execute_result"
    }
   ],
   "source": [
    "top_features = auto_xgb_no_reduction[1]['features'][:97].to_list()\n",
    "\n",
    "auto_xgb_top_features = ApplyMethod_autoML(\n",
    "    x_train=x_train[top_features],\n",
    "    x_test=x_holdout[top_features],\n",
    "    y_train=y_train,\n",
    "    y_test=y_holdout,\n",
    "    time_budget=400,\n",
    "    metric='mse',\n",
    "    estimator_list=['xgb_gamma','xgboost','xgb_limitdepth'],\n",
    "    task='regression',\n",
    "    run_cv=False,\n",
    "    cv_folds=5,\n",
    "    file_path='singleModel_noSplit_pickles',\n",
    "    model_name='xgbreg_top_thirtyfive_features'\n",
    ")\n",
    "auto_xgb_top_features[2]"
   ]
  },
  {
   "cell_type": "code",
   "execution_count": 136,
   "metadata": {},
   "outputs": [
    {
     "data": {
      "text/plain": [
       "{'baseline_MAE:': 783.5442750429107, 'baseline_RMSE:': 19249.89784985233}"
      ]
     },
     "execution_count": 136,
     "metadata": {},
     "output_type": "execute_result"
    }
   ],
   "source": [
    "# does the first attempt at modeling improve on a baseline, average-derived model?\n",
    "createBaseline(historical_data=train_df)"
   ]
  },
  {
   "attachments": {},
   "cell_type": "markdown",
   "metadata": {},
   "source": [
    "### Results so far\n",
    "\n",
    "First and foremost, is the work and expense of building and maintaining a model worthwhile when compared to a simple 'baseline' approach that uses averages? The results for that baseline model are as follows:\n",
    "\n",
    "    {'baseline_MAE:': 783.5442750429107, 'baseline_RMSE:': 19249.89784985233}\n",
    "\n",
    "I scoured the internet and found two other worked examples that appear to use this dataset:\n",
    "\n",
    "    Stratascratch: holdout RMSE: 986.6912510458277, holdout_size: 0.2,\n",
    "    raihanmasud (github): mean 5-fold cv RMSE: 1030.6837, holdout RMSE: 1012, holdout_size: 0.33\n",
    "\n",
    "Performance statistics for my xgboost model against a holdout sample size of 0.2 are as follows:\n",
    "\n",
    "    {'train_RMSE:': 775.2071297497488,\n",
    "    'train_RMSE_to_std_ratio': 0.6716494474690015,\n",
    "    'train_MAE:': 533.3797480868415,\n",
    "    'test_RMSE:': 838.6686685160196,\n",
    "    'test_RMSE_to_std_ratio': 0.7512805304346684,\n",
    "    'test_MAE:': 559.3233676640386}\n",
    "\n",
    "Cross-validation results (RMSE): \n",
    "\n",
    "    [928.0659595118198, 866.9700127007313, 861.5295421654322, 927.3771927147455, 899.9744304738704]\n",
    "\n",
    "Mean of cross-validation results (RMSE):\n",
    "\n",
    "    896.7834275133198\n",
    "\n",
    "Performance statistics for my xgboost model against a holdout size of 0.33:\n",
    "\n",
    "    {'train_RMSE:': 873.4991,\n",
    "    'train_RMSE_to_std_ratio': 0.7611590838185001,\n",
    "    'train_MAE:': 581.7427,\n",
    "    'test_RMSE:': 926.9857,\n",
    "    'test_RMSE_to_std_ratio': 0.7968259664464706,\n",
    "    'test_MAE:': 605.92535}\n",
    "\n",
    "Conclusions:\n",
    "1. The time, effort and expense of building and maintaining a model to predict total delivery time is validated by the comparative performance of the baseline approach.\n",
    "2. There are two significant differences between my approach to this problem and the two other worked examples I found that I believe explain my superior performance. The first difference is the generic per-store order prep time features (addFeatures_store_prep_stats) and the market+hour aggregation features (addFeatures_relative_abundances). The author of the Stratascratch notebook attempted to predict order prep time and raihanmasud did not bother with prep time at all. Neither user bothered to generate aggregate values based on the most important features for their models. The second difference is my use of autoML to do hyperparameter tuning. Raihanmasud hard-coded hyperparameters for their model and the author of the official Stratascratch notebook did not bother with hyperparameter tuning at all."
   ]
  },
  {
   "cell_type": "code",
   "execution_count": 154,
   "metadata": {},
   "outputs": [
    {
     "data": {
      "text/plain": [
       "<AxesSubplot:xlabel='onshift_to_outstanding', ylabel='actual_total_delivery_duration'>"
      ]
     },
     "execution_count": 154,
     "metadata": {},
     "output_type": "execute_result"
    },
    {
     "data": {
      "image/png": "[encoded data removed]",
      "text/plain": [
       "<Figure size 640x480 with 1 Axes>"
      ]
     },
     "metadata": {},
     "output_type": "display_data"
    }
   ],
   "source": [
    "train_df.plot.scatter(x='onshift_to_outstanding',y='actual_total_delivery_duration')"
   ]
  },
  {
   "attachments": {},
   "cell_type": "markdown",
   "metadata": {},
   "source": [
    "#### What is the relationship between error and acutal_total_delivery_duration?\n",
    "\n",
    "One could argue that scedasticity does not matter when we make predictions using gradient-boosted-trees - tree-based models are almost invariant to monotonic transformations - but transforms do affect split points. To that end, a test for scedasticity could improve our model if the conditional variance of the data is not constant.\n",
    "\n",
    "Per the plots below, the variance of the error looks homoscedastic. Trying to actually run White's Lagrange test for heteroscedasticity needs more memory than I can give it."
   ]
  },
  {
   "cell_type": "code",
   "execution_count": 84,
   "metadata": {},
   "outputs": [
    {
     "name": "stdout",
     "output_type": "stream",
     "text": [
      "AxesSubplot(0.125,0.11;0.775x0.77)\n"
     ]
    },
    {
     "data": {
      "image/png": "[encoded data removed]",
      "text/plain": [
       "<Figure size 640x480 with 1 Axes>"
      ]
     },
     "metadata": {},
     "output_type": "display_data"
    }
   ],
   "source": [
    "model = auto_xgb_no_reduction[0]\n",
    "y_hat = model.predict(x_holdout)\n",
    "error_train_df = x_holdout.copy()\n",
    "error_train_df['yhat'] = y_hat.reshape(-1,1)\n",
    "error_train_df = error_train_df.join(train_df[['actual_total_delivery_duration']])\n",
    "error_train_df['error'] = error_train_df['actual_total_delivery_duration'] - error_train_df['yhat']\n",
    "error_train_df['error_variance'] = error_train_df['error'] - error_train_df['error'].mean()\n",
    "print(error_train_df.plot.scatter(x='error_variance',y='actual_total_delivery_duration'))\n",
    "#error_train_df = error_train_df.drop(columns=['yhat','error','error_variance'])"
   ]
  },
  {
   "cell_type": "code",
   "execution_count": null,
   "metadata": {},
   "outputs": [],
   "source": [
    "## DO NOT RUN THIS CELL unless you are very invested in knowing the scedasticity of the data. It is extremely compute and memory intensive.\n",
    "# More to the point, scedasticity arguably does not matter for gradient-boosted trees\n",
    "white_test = het_white(resid=error_train_df['error'].values,exog=x_holdout.values)\n",
    "white_labels = ['Test Statistic', 'Test Statistic p-value', 'F-Statistic', 'F-Test p-value']\n",
    "print(dict(zip(white_labels,white_test)))"
   ]
  },
  {
   "attachments": {},
   "cell_type": "markdown",
   "metadata": {},
   "source": [
    "### What about a model that predicts order prep/in-store time?\n",
    "\n",
    "1. Is the amount of time an order spends in the restaurant (prep time) an important feature? \n",
    "2. Would the accuracy of a total delivery time model be improved by having an estimation of order preparation time for each order?\n",
    "3. Assuming the answers to the first two questions are true, is it worth keeping the store and category prepartion stats 'tables' I made during the feature engineering step?"
   ]
  },
  {
   "cell_type": "code",
   "execution_count": 43,
   "metadata": {},
   "outputs": [],
   "source": [
    "def append_prep_feature(x_train,x_holdout,y_train,y_holdout):\n",
    "## returns est_order_total_prep_time from a pre-existing train-test data set\n",
    "    train,test = x_train.join(y_train),x_holdout.join(y_holdout)\n",
    "    train['est_order_total_prep_time'] = train['actual_total_delivery_duration'] - train['est_time_non-prep']\n",
    "    test['est_order_total_prep_time'] = test['actual_total_delivery_duration'] - test['est_time_non-prep']\n",
    "    y_train_prep,y_holdout_prep = pd.Series(train['est_order_total_prep_time']),pd.Series(test['est_order_total_prep_time'])\n",
    "    return y_train_prep,y_holdout_prep"
   ]
  },
  {
   "cell_type": "code",
   "execution_count": 44,
   "metadata": {},
   "outputs": [
    {
     "data": {
      "text/plain": [
       "{'train_RMSE:': 1.252524806781668,\n",
       " 'train_RMSE_to_std_ratio': 0.0010852036341405923,\n",
       " 'train_MAE:': 0.9626938976930332,\n",
       " 'test_RMSE:': 13.449283092921558,\n",
       " 'test_RMSE_to_std_ratio': 0.012047886030957794,\n",
       " 'test_MAE:': 1.542494160620742}"
      ]
     },
     "execution_count": 44,
     "metadata": {},
     "output_type": "execute_result"
    }
   ],
   "source": [
    "## first and foremost, is this model worth building? Is in-store time an important feature?\n",
    "train,test = x_train.join(y_train),x_holdout.join(y_holdout)\n",
    "train['est_order_total_prep_time'] = train['actual_total_delivery_duration'] - train['est_time_non-prep']\n",
    "test['est_order_total_prep_time'] = test['actual_total_delivery_duration'] - test['est_time_non-prep']\n",
    "\n",
    "hypoth_feature_importances = ApplyMethod_autoML(\n",
    "    x_train=train,\n",
    "    x_test=test,\n",
    "    y_train=y_train,\n",
    "    y_test=y_holdout,\n",
    "    time_budget=400,\n",
    "    metric='mse',\n",
    "    estimator_list=['xgb_gamma','xgboost','xgb_limitdepth'],\n",
    "    task='regression',\n",
    "    run_cv=False,\n",
    "    cv_folds=5,\n",
    "    file_path='deliveryTime_model_pickles',\n",
    "    model_name='xgbreg_nosplit'\n",
    ")\n",
    "hypoth_feature_importances[2]"
   ]
  },
  {
   "cell_type": "code",
   "execution_count": 45,
   "metadata": {},
   "outputs": [
    {
     "data": {
      "text/html": [
       "<div>\n",
       "<style scoped>\n",
       "    .dataframe tbody tr th:only-of-type {\n",
       "        vertical-align: middle;\n",
       "    }\n",
       "\n",
       "    .dataframe tbody tr th {\n",
       "        vertical-align: top;\n",
       "    }\n",
       "\n",
       "    .dataframe thead th {\n",
       "        text-align: right;\n",
       "    }\n",
       "</style>\n",
       "<table border=\"1\" class=\"dataframe\">\n",
       "  <thead>\n",
       "    <tr style=\"text-align: right;\">\n",
       "      <th></th>\n",
       "      <th>features</th>\n",
       "      <th>importance</th>\n",
       "    </tr>\n",
       "  </thead>\n",
       "  <tbody>\n",
       "    <tr>\n",
       "      <th>163</th>\n",
       "      <td>actual_total_delivery_duration</td>\n",
       "      <td>0.790497</td>\n",
       "    </tr>\n",
       "    <tr>\n",
       "      <th>164</th>\n",
       "      <td>est_order_total_prep_time</td>\n",
       "      <td>0.202038</td>\n",
       "    </tr>\n",
       "    <tr>\n",
       "      <th>20</th>\n",
       "      <td>hour_mean_total_outstanding_orders</td>\n",
       "      <td>0.005233</td>\n",
       "    </tr>\n",
       "    <tr>\n",
       "      <th>41</th>\n",
       "      <td>store_est_time_prep_per_item_min</td>\n",
       "      <td>0.001276</td>\n",
       "    </tr>\n",
       "    <tr>\n",
       "      <th>10</th>\n",
       "      <td>est_time_non-prep</td>\n",
       "      <td>0.000732</td>\n",
       "    </tr>\n",
       "    <tr>\n",
       "      <th>2</th>\n",
       "      <td>num_distinct_items</td>\n",
       "      <td>0.000031</td>\n",
       "    </tr>\n",
       "    <tr>\n",
       "      <th>99</th>\n",
       "      <td>clean_store_primary_category__middle-eastern</td>\n",
       "      <td>0.000027</td>\n",
       "    </tr>\n",
       "    <tr>\n",
       "      <th>4</th>\n",
       "      <td>max_item_price</td>\n",
       "      <td>0.000021</td>\n",
       "    </tr>\n",
       "    <tr>\n",
       "      <th>60</th>\n",
       "      <td>clean_store_primary_category__asian</td>\n",
       "      <td>0.000008</td>\n",
       "    </tr>\n",
       "    <tr>\n",
       "      <th>87</th>\n",
       "      <td>clean_store_primary_category__hawaiian</td>\n",
       "      <td>0.000007</td>\n",
       "    </tr>\n",
       "    <tr>\n",
       "      <th>13</th>\n",
       "      <td>available_to_outstanding</td>\n",
       "      <td>0.000006</td>\n",
       "    </tr>\n",
       "    <tr>\n",
       "      <th>126</th>\n",
       "      <td>market_id__2.0</td>\n",
       "      <td>0.000005</td>\n",
       "    </tr>\n",
       "    <tr>\n",
       "      <th>14</th>\n",
       "      <td>busy_to_onshift</td>\n",
       "      <td>0.000004</td>\n",
       "    </tr>\n",
       "    <tr>\n",
       "      <th>33</th>\n",
       "      <td>hour_outs_order_abd</td>\n",
       "      <td>0.000003</td>\n",
       "    </tr>\n",
       "    <tr>\n",
       "      <th>151</th>\n",
       "      <td>created_hour_of_day__19</td>\n",
       "      <td>0.000003</td>\n",
       "    </tr>\n",
       "  </tbody>\n",
       "</table>\n",
       "</div>"
      ],
      "text/plain": [
       "                                         features  importance\n",
       "163                actual_total_delivery_duration    0.790497\n",
       "164                     est_order_total_prep_time    0.202038\n",
       "20             hour_mean_total_outstanding_orders    0.005233\n",
       "41               store_est_time_prep_per_item_min    0.001276\n",
       "10                              est_time_non-prep    0.000732\n",
       "2                              num_distinct_items    0.000031\n",
       "99   clean_store_primary_category__middle-eastern    0.000027\n",
       "4                                  max_item_price    0.000021\n",
       "60            clean_store_primary_category__asian    0.000008\n",
       "87         clean_store_primary_category__hawaiian    0.000007\n",
       "13                       available_to_outstanding    0.000006\n",
       "126                                market_id__2.0    0.000005\n",
       "14                                busy_to_onshift    0.000004\n",
       "33                            hour_outs_order_abd    0.000003\n",
       "151                       created_hour_of_day__19    0.000003"
      ]
     },
     "execution_count": 45,
     "metadata": {},
     "output_type": "execute_result"
    }
   ],
   "source": [
    "hypoth_feature_importances[1].sort_values(by='importance',ascending=False).head(15)"
   ]
  },
  {
   "attachments": {},
   "cell_type": "markdown",
   "metadata": {},
   "source": [
    "Per the performance scores and feature importance table above, providing a delivery time estimation model with an order prep time estimation greatly improves the quality of estimations. Since the feature est_order_total_prep_time is leaky (it depends on the value we are trying to predict), we will need to estimate it instead."
   ]
  },
  {
   "cell_type": "code",
   "execution_count": 49,
   "metadata": {},
   "outputs": [],
   "source": [
    "y_train_prep,y_holdout_prep = append_prep_feature(x_train=x_train,x_holdout=x_holdout,y_train=y_train,y_holdout=y_holdout)"
   ]
  },
  {
   "cell_type": "code",
   "execution_count": 50,
   "metadata": {},
   "outputs": [
    {
     "data": {
      "text/plain": [
       "{'train_RMSE:': 724.7308358354761,\n",
       " 'train_RMSE_to_std_ratio': 0.6477738218729179,\n",
       " 'train_MAE:': 502.5595400840551,\n",
       " 'test_RMSE:': 831.0113121828417,\n",
       " 'test_RMSE_to_std_ratio': 0.7684733004461611,\n",
       " 'test_MAE:': 552.6305024499935}"
      ]
     },
     "execution_count": 50,
     "metadata": {},
     "output_type": "execute_result"
    }
   ],
   "source": [
    "prep_est_model = ApplyMethod_autoML(\n",
    "    x_train=x_train,\n",
    "    x_test=x_holdout,\n",
    "    y_train=y_train_prep,\n",
    "    y_test=y_holdout_prep,\n",
    "    time_budget=400,\n",
    "    metric='mse',\n",
    "    estimator_list=['xgb_gamma','xgboost','xgb_limitdepth'],\n",
    "    task='regression',\n",
    "    cv_folds=5,\n",
    "    run_cv=False,\n",
    "    file_path='prepTime_model_pickles',\n",
    "    model_name='xgbreg_nosplit'\n",
    ")\n",
    "prep_est_model[2]"
   ]
  },
  {
   "cell_type": "code",
   "execution_count": 52,
   "metadata": {},
   "outputs": [
    {
     "data": {
      "text/html": [
       "<div>\n",
       "<style scoped>\n",
       "    .dataframe tbody tr th:only-of-type {\n",
       "        vertical-align: middle;\n",
       "    }\n",
       "\n",
       "    .dataframe tbody tr th {\n",
       "        vertical-align: top;\n",
       "    }\n",
       "\n",
       "    .dataframe thead th {\n",
       "        text-align: right;\n",
       "    }\n",
       "</style>\n",
       "<table border=\"1\" class=\"dataframe\">\n",
       "  <thead>\n",
       "    <tr style=\"text-align: right;\">\n",
       "      <th></th>\n",
       "      <th>features</th>\n",
       "      <th>importance</th>\n",
       "    </tr>\n",
       "  </thead>\n",
       "  <tbody>\n",
       "    <tr>\n",
       "      <th>16</th>\n",
       "      <td>onshift_to_outstanding</td>\n",
       "      <td>0.089348</td>\n",
       "    </tr>\n",
       "    <tr>\n",
       "      <th>21</th>\n",
       "      <td>hour_mean_total_onshift_dashers</td>\n",
       "      <td>0.046221</td>\n",
       "    </tr>\n",
       "    <tr>\n",
       "      <th>53</th>\n",
       "      <td>store_day_median_total_prep_time</td>\n",
       "      <td>0.034741</td>\n",
       "    </tr>\n",
       "    <tr>\n",
       "      <th>49</th>\n",
       "      <td>store_day_of_week_est_time_prep_per_item_mean</td>\n",
       "      <td>0.033508</td>\n",
       "    </tr>\n",
       "    <tr>\n",
       "      <th>20</th>\n",
       "      <td>hour_mean_total_outstanding_orders</td>\n",
       "      <td>0.031257</td>\n",
       "    </tr>\n",
       "    <tr>\n",
       "      <th>156</th>\n",
       "      <td>created_day_of_week__0</td>\n",
       "      <td>0.018070</td>\n",
       "    </tr>\n",
       "    <tr>\n",
       "      <th>134</th>\n",
       "      <td>order_protocol__4.0</td>\n",
       "      <td>0.017247</td>\n",
       "    </tr>\n",
       "    <tr>\n",
       "      <th>31</th>\n",
       "      <td>hour_busy_outs_avg</td>\n",
       "      <td>0.016900</td>\n",
       "    </tr>\n",
       "    <tr>\n",
       "      <th>15</th>\n",
       "      <td>busy_to_outstanding</td>\n",
       "      <td>0.016766</td>\n",
       "    </tr>\n",
       "    <tr>\n",
       "      <th>40</th>\n",
       "      <td>created_day_mean_total_busy_dashers</td>\n",
       "      <td>0.015944</td>\n",
       "    </tr>\n",
       "    <tr>\n",
       "      <th>50</th>\n",
       "      <td>store_day_of_week_est_time_prep_per_item_std</td>\n",
       "      <td>0.014197</td>\n",
       "    </tr>\n",
       "    <tr>\n",
       "      <th>46</th>\n",
       "      <td>store_day_of_week_est_time_prep_per_item_min</td>\n",
       "      <td>0.012592</td>\n",
       "    </tr>\n",
       "    <tr>\n",
       "      <th>91</th>\n",
       "      <td>clean_store_primary_category__japanese</td>\n",
       "      <td>0.011090</td>\n",
       "    </tr>\n",
       "    <tr>\n",
       "      <th>128</th>\n",
       "      <td>market_id__4.0</td>\n",
       "      <td>0.011019</td>\n",
       "    </tr>\n",
       "    <tr>\n",
       "      <th>54</th>\n",
       "      <td>store_day_mean_total_prep_time</td>\n",
       "      <td>0.010778</td>\n",
       "    </tr>\n",
       "  </tbody>\n",
       "</table>\n",
       "</div>"
      ],
      "text/plain": [
       "                                          features  importance\n",
       "16                          onshift_to_outstanding    0.089348\n",
       "21                 hour_mean_total_onshift_dashers    0.046221\n",
       "53                store_day_median_total_prep_time    0.034741\n",
       "49   store_day_of_week_est_time_prep_per_item_mean    0.033508\n",
       "20              hour_mean_total_outstanding_orders    0.031257\n",
       "156                         created_day_of_week__0    0.018070\n",
       "134                            order_protocol__4.0    0.017247\n",
       "31                              hour_busy_outs_avg    0.016900\n",
       "15                             busy_to_outstanding    0.016766\n",
       "40             created_day_mean_total_busy_dashers    0.015944\n",
       "50    store_day_of_week_est_time_prep_per_item_std    0.014197\n",
       "46    store_day_of_week_est_time_prep_per_item_min    0.012592\n",
       "91          clean_store_primary_category__japanese    0.011090\n",
       "128                                 market_id__4.0    0.011019\n",
       "54                  store_day_mean_total_prep_time    0.010778"
      ]
     },
     "execution_count": 52,
     "metadata": {},
     "output_type": "execute_result"
    }
   ],
   "source": [
    "prep_est_model[1].sort_values(by='importance',ascending=False).head(15)"
   ]
  },
  {
   "cell_type": "code",
   "execution_count": 53,
   "metadata": {},
   "outputs": [],
   "source": [
    "yhat_train,yhat_test = prep_est_model[0].predict(x_train),prep_est_model[0].predict(x_holdout)\n",
    "composite_train,composite_test = x_train,x_holdout\n",
    "composite_train['pred_order_prep_time'],composite_test['pred_order_prep_time'] = yhat_train.reshape(-1,1),yhat_test.reshape(-1,1)\n",
    "#composite_train['composite_deliv_time'],composite_test['composite_deliv_time'] = composite_train['pred_order_prep_time'] + composite_train['est_time_non-prep'],composite_test['pred_order_prep_time'] + composite_test['est_time_non-prep']\n",
    "# composite_train,composite_test = composite_train.join(y_train),composite_test.join(y_holdout)"
   ]
  },
  {
   "cell_type": "code",
   "execution_count": 58,
   "metadata": {},
   "outputs": [
    {
     "data": {
      "text/plain": [
       "{'train_RMSE:': 629.4737460788326,\n",
       " 'train_RMSE_to_std_ratio': 0.5453841657604123,\n",
       " 'train_MAE:': 455.779582570263,\n",
       " 'test_RMSE:': 849.1551127581309,\n",
       " 'test_RMSE_to_std_ratio': 0.7606743014056613,\n",
       " 'test_MAE:': 557.112726920179}"
      ]
     },
     "execution_count": 58,
     "metadata": {},
     "output_type": "execute_result"
    }
   ],
   "source": [
    "composite_deliv_model = ApplyMethod_autoML(\n",
    "    x_train=composite_train,\n",
    "    x_test=composite_test,\n",
    "    y_train=y_train,\n",
    "    y_test=y_holdout,\n",
    "    time_budget=400,\n",
    "    metric='mse',\n",
    "    estimator_list=['xgb_gamma','xgboost','xgb_limitdepth'],\n",
    "    task='regression',\n",
    "    cv_folds=5,\n",
    "    run_cv=True,\n",
    "    file_path='deliveryTime_model_pickles',\n",
    "    model_name='xgbreg_nosplit'\n",
    ")\n",
    "composite_deliv_model[2]"
   ]
  },
  {
   "cell_type": "code",
   "execution_count": 63,
   "metadata": {},
   "outputs": [
    {
     "name": "stdout",
     "output_type": "stream",
     "text": [
      "[684.0892768296953, 681.0979618118614, 677.0700958150553, 699.8305918514759, 691.835106692473]\n",
      "686.7846066001122\n"
     ]
    }
   ],
   "source": [
    "print(composite_deliv_model[3])\n",
    "print(np.mean(composite_deliv_model[3]))"
   ]
  },
  {
   "cell_type": "code",
   "execution_count": 4,
   "metadata": {},
   "outputs": [
    {
     "name": "stdout",
     "output_type": "stream",
     "text": [
      "65.93594673475154\n",
      "811.2867824481718\n"
     ]
    }
   ],
   "source": [
    "print(np.var([684.0892768296953, 681.0979618118614, 677.0700958150553, 699.8305918514759, 691.835106692473]))\n",
    "print(np.var([928.0659595118198, 866.9700127007313, 861.5295421654322, 927.3771927147455, 899.9744304738704]))"
   ]
  },
  {
   "attachments": {},
   "cell_type": "markdown",
   "metadata": {},
   "source": [
    "Holdout, train scores:\n",
    "\n",
    "    {'train_RMSE:': 629.4737460788326,\n",
    "    'train_RMSE_to_std_ratio': 0.5453841657604123,\n",
    "    'train_MAE:': 455.779582570263,\n",
    "    'test_RMSE:': 849.1551127581309,\n",
    "    'test_RMSE_to_std_ratio': 0.7606743014056613,\n",
    "    'test_MAE:': 557.112726920179}\n",
    "\n",
    "cv RMSE scores: \n",
    "\n",
    "    [684.0892768296953, 681.0979618118614, 677.0700958150553, 699.8305918514759, 691.835106692473]\n",
    "\n",
    "Mean RMSE from cv: \n",
    "\n",
    "    686.7846066001122\n",
    "\n",
    "cv RMSE to y-true std: \n",
    "\n",
    "    0.7761858125345661"
   ]
  },
  {
   "cell_type": "code",
   "execution_count": 60,
   "metadata": {},
   "outputs": [
    {
     "data": {
      "text/html": [
       "<div>\n",
       "<style scoped>\n",
       "    .dataframe tbody tr th:only-of-type {\n",
       "        vertical-align: middle;\n",
       "    }\n",
       "\n",
       "    .dataframe tbody tr th {\n",
       "        vertical-align: top;\n",
       "    }\n",
       "\n",
       "    .dataframe thead th {\n",
       "        text-align: right;\n",
       "    }\n",
       "</style>\n",
       "<table border=\"1\" class=\"dataframe\">\n",
       "  <thead>\n",
       "    <tr style=\"text-align: right;\">\n",
       "      <th></th>\n",
       "      <th>features</th>\n",
       "      <th>importance</th>\n",
       "    </tr>\n",
       "  </thead>\n",
       "  <tbody>\n",
       "    <tr>\n",
       "      <th>163</th>\n",
       "      <td>pred_order_prep_time</td>\n",
       "      <td>0.225464</td>\n",
       "    </tr>\n",
       "    <tr>\n",
       "      <th>10</th>\n",
       "      <td>est_time_non-prep</td>\n",
       "      <td>0.060059</td>\n",
       "    </tr>\n",
       "    <tr>\n",
       "      <th>126</th>\n",
       "      <td>market_id__2.0</td>\n",
       "      <td>0.019890</td>\n",
       "    </tr>\n",
       "    <tr>\n",
       "      <th>130</th>\n",
       "      <td>market_id__6.0</td>\n",
       "      <td>0.017967</td>\n",
       "    </tr>\n",
       "    <tr>\n",
       "      <th>152</th>\n",
       "      <td>created_hour_of_day__20</td>\n",
       "      <td>0.017099</td>\n",
       "    </tr>\n",
       "    <tr>\n",
       "      <th>71</th>\n",
       "      <td>clean_store_primary_category__catering</td>\n",
       "      <td>0.014153</td>\n",
       "    </tr>\n",
       "    <tr>\n",
       "      <th>9</th>\n",
       "      <td>estimated_store_to_consumer_driving_duration</td>\n",
       "      <td>0.013680</td>\n",
       "    </tr>\n",
       "    <tr>\n",
       "      <th>29</th>\n",
       "      <td>hour_onshift_outs_avg</td>\n",
       "      <td>0.012411</td>\n",
       "    </tr>\n",
       "    <tr>\n",
       "      <th>16</th>\n",
       "      <td>onshift_to_outstanding</td>\n",
       "      <td>0.010589</td>\n",
       "    </tr>\n",
       "    <tr>\n",
       "      <th>136</th>\n",
       "      <td>order_protocol__6.0</td>\n",
       "      <td>0.010142</td>\n",
       "    </tr>\n",
       "    <tr>\n",
       "      <th>15</th>\n",
       "      <td>busy_to_outstanding</td>\n",
       "      <td>0.009702</td>\n",
       "    </tr>\n",
       "    <tr>\n",
       "      <th>31</th>\n",
       "      <td>hour_busy_outs_avg</td>\n",
       "      <td>0.009468</td>\n",
       "    </tr>\n",
       "    <tr>\n",
       "      <th>156</th>\n",
       "      <td>created_day_of_week__0</td>\n",
       "      <td>0.009286</td>\n",
       "    </tr>\n",
       "    <tr>\n",
       "      <th>160</th>\n",
       "      <td>created_day_of_week__4</td>\n",
       "      <td>0.008788</td>\n",
       "    </tr>\n",
       "    <tr>\n",
       "      <th>46</th>\n",
       "      <td>store_day_of_week_est_time_prep_per_item_min</td>\n",
       "      <td>0.008743</td>\n",
       "    </tr>\n",
       "  </tbody>\n",
       "</table>\n",
       "</div>"
      ],
      "text/plain": [
       "                                         features  importance\n",
       "163                          pred_order_prep_time    0.225464\n",
       "10                              est_time_non-prep    0.060059\n",
       "126                                market_id__2.0    0.019890\n",
       "130                                market_id__6.0    0.017967\n",
       "152                       created_hour_of_day__20    0.017099\n",
       "71         clean_store_primary_category__catering    0.014153\n",
       "9    estimated_store_to_consumer_driving_duration    0.013680\n",
       "29                          hour_onshift_outs_avg    0.012411\n",
       "16                         onshift_to_outstanding    0.010589\n",
       "136                           order_protocol__6.0    0.010142\n",
       "15                            busy_to_outstanding    0.009702\n",
       "31                             hour_busy_outs_avg    0.009468\n",
       "156                        created_day_of_week__0    0.009286\n",
       "160                        created_day_of_week__4    0.008788\n",
       "46   store_day_of_week_est_time_prep_per_item_min    0.008743"
      ]
     },
     "execution_count": 60,
     "metadata": {},
     "output_type": "execute_result"
    }
   ],
   "source": [
    "composite_deliv_model[1].sort_values(by='importance',ascending=False).head(15)"
   ]
  },
  {
   "attachments": {},
   "cell_type": "markdown",
   "metadata": {},
   "source": [
    "#### Conclusions on adding an estimated order prep-time feature\n",
    "\n",
    "For the sake of a holistic comparison, let us compare the two-step ensemble model and the single-step model in three distinct ways:\n",
    "\n",
    "**Holdout performance:**  Despite being a valuable feature (according to feature importance), estimating order preparation time does not have a discernable impact on the performance of a model compared to a model that was not trained with said feature.\n",
    "\n",
    "**Cross-validation scores:** The mean of the RMSE scores for the two-step model (686.78) is significantly better than the mean of the RMSE scores for the single model (896.78). What's more, the variance of the two-step ensemble model (65.9359) is dramatically lower/better than the variance seen in the scores for the single model (811.2868).\n",
    "\n",
    "**Training set performance:** Normally one can ignore the performance of the model's evaluation of a training set but the significant gap between the holdout score and the training score, in addition to the low variance of the cv scores, may point to the two-step ensemble model being overfitted.\n",
    "\n",
    "Recall that there are many outliers in this dataset, and that RMSE is very sensitive to outliers compared to other performance evaluation metrics like MAE. The results of the comparison above and the uniformity of the cv scores present us with a final question/hypothesis that will let us determine if the prep. time estimation is worth the time and expense:\n",
    "\n",
    "**Does adding an estimated order preparation time feature improve a model's ability to accurately estimate total delivery time values that will fall within a normal distribution/within three DoF of the mean?**\n",
    "\n",
    "In other words, even if the two-step ensemble model does not offer improved outlier estimation performance, does the addition of order preparation time improve our ability to estimate total delivery time for 'normal' orders? As evidenced by previous analysis, whatever feature(s) that indicate whether or not the total delivery time will be a positive outlier (greater than the mean) are not available in the featureset. Given the nature of the problem, one could argue that what makes an order an outlier is attributable to too many random factors and is not knowable.\n",
    "\n",
    "The final part of this notebook will compare the performance of the single-step and two-step ensemble models against data with and without various mixes of total delivery time outliers."
   ]
  },
  {
   "cell_type": "code",
   "execution_count": 12,
   "metadata": {},
   "outputs": [],
   "source": [
    "X = train_df.drop(columns=['actual_total_delivery_duration'])\n",
    "y = train_df[['actual_total_delivery_duration']]"
   ]
  }
 ],
 "metadata": {
  "kernelspec": {
   "display_name": "Python 3.9.7 ('base')",
   "language": "python",
   "name": "python3"
  },
  "language_info": {
   "codemirror_mode": {
    "name": "ipython",
    "version": 3
   },
   "file_extension": ".py",
   "mimetype": "text/x-python",
   "name": "python",
   "nbconvert_exporter": "python",
   "pygments_lexer": "ipython3",
   "version": "3.9.15"
  },
  "orig_nbformat": 4,
  "vscode": {
   "interpreter": {
    "hash": "96d1af5f869624c072d9e03e4f7fcffed44526ca720f1a36a76cd678c41e0e80"
   }
  }
 },
 "nbformat": 4,
 "nbformat_minor": 2
}
